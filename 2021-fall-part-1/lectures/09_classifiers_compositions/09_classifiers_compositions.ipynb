{
 "cells": [
  {
   "cell_type": "markdown",
   "metadata": {
    "slideshow": {
     "slide_type": "slide"
    }
   },
   "source": [
    "<div align=\"center\">\n",
    "    <img src=\"images/logo_fmkn.png\" alt=\"logo_fmkn\" />\n",
    "</div>\n",
    "\n",
    "# Машинное обучение\n",
    "\n",
    "### Лекция 9. Композиции классификаторов\n",
    "\n",
    "<br />\n",
    "<br />\n",
    "12 ноября 2021"
   ]
  },
  {
   "cell_type": "markdown",
   "metadata": {
    "slideshow": {
     "slide_type": "subslide"
    }
   },
   "source": [
    "### Пятиминутка\n",
    "\n",
    "1. Выпишите функцию потерь в классическом варианте SVM\n",
    "2. Приведите пример, когда подбор ядра радикально увеличивает качество линейной классификации\n",
    "3. Какие недостатки есть у SVM?\n"
   ]
  },
  {
   "cell_type": "markdown",
   "metadata": {
    "slideshow": {
     "slide_type": "subslide"
    }
   },
   "source": [
    "https://ml-handbook.ru/chapters/ensembles/intro\n",
    "\n",
    "<div align=\"center\">\n",
    "    <img src=\"images/ensemble_ml.jpg\" alt=\"ensemble_ml\" />\n",
    "</div>"
   ]
  },
  {
   "cell_type": "markdown",
   "metadata": {
    "slideshow": {
     "slide_type": "subslide"
    }
   },
   "source": [
    "### Определение композиции\n",
    "\n",
    "$X^\\ell = (x_i, y_i)^\\ell_{i=1} \\subset X \\times Y$ — обучающая выборка, $y_i = y^*(x_i)$\n",
    "\n",
    "$a(x) = C(b(x))$ − алгоритм, где\n",
    "\n",
    "$b: X \\to {R}$ — базовый алгоритм (алгоритмический оператор)\n",
    "\n",
    "$C: {R} \\to Y$ — решающее правило (composition)\n",
    "\n",
    "${R}$ — пространство оценок\n"
   ]
  },
  {
   "cell_type": "markdown",
   "metadata": {
    "slideshow": {
     "slide_type": "subslide"
    }
   },
   "source": [
    "#### Определение\n",
    "Композиция базовых алгоритмов $b_1, \\dots, b_T$\n",
    "\n",
    "$a(x) = C(F(b_1(x), \\dots, b_T(x)))$\n",
    "\n",
    "где $F: R^T \\to R$ – корректирующая операция\n",
    "\n",
    "----\n",
    "\n",
    "Зачем вводится $R$?\n",
    "\n",
    "В задачах классификации множество отображений $\\{F: R^T \\to R\\}$ существенно шире, чем $\\{F: Y^T \\to Y\\}$.\n"
   ]
  },
  {
   "cell_type": "markdown",
   "metadata": {
    "slideshow": {
     "slide_type": "subslide"
    }
   },
   "source": [
    "### Примеры пространств оценок и решающих правил\n",
    "\n",
    " * **Пример 1**: классификация на 2 класса, $Y = \\{-1, +1\\}$:\n",
    "\n",
    " $a(x) = \\text{sign}(b(x))$\n",
    " \n",
    "где $R = \\mathbb{R}, b: X \\to \\mathbb{R}, C(b) = \\text{sign}(b)$\n",
    "\n",
    " * **Пример 2**: классификация на $M$ классов $Y = \\{1,\\dots, M\\}$:\n",
    "\n",
    " $a(x) = \\arg\\max\\limits_{y \\in Y} b_y(x)$\n",
    "\n",
    "где $R = \\mathbb{R}^M, b: X \\to \\mathbb{R}^M, C(b_1, \\dots, b_M) \\equiv \\arg \\max\\limits_{y \\in Y} b_y$\n",
    "\n",
    " * **Пример 3**: регрессия, $Y = R = \\mathbb{R}$\n",
    " \n",
    " $C(b) \\equiv b$ — решающее правило не нужно\n"
   ]
  },
  {
   "cell_type": "markdown",
   "metadata": {
    "slideshow": {
     "slide_type": "subslide"
    }
   },
   "source": [
    "### Примеры композиций (корректирующих операций)\n",
    "\n",
    " * **Пример 1**: Простое голосование (Simple Voting)\n",
    "\n",
    " $F(b_1(x),\\dots, b_T(x)) = \\frac{1}{T} \\sum\\limits_{t=1}^T b_t(x), x \\in X$\n",
    "\n",
    " * **Пример 2**: Взвешенное голосование (Weighted voting)\n",
    " \n",
    " $F(b_1(x),\\dots, b_T(x)) = \\sum\\limits_{t=1}^T \\alpha_tb_t(x), x \\in X, \\alpha_t \\in \\mathbb{R}$\n",
    " \n",
    " * **Пример 3**: Смесь алгоритмов (Mixture of Experts)\n",
    "\n",
    " $F(b_1(x),\\dots, b_T(x)) = \\sum\\limits_{t=1}^T g_t(x)b_t(x), x \\in X, \\\\ g_t: X \\to \\mathbb{R}$\n"
   ]
  },
  {
   "cell_type": "markdown",
   "metadata": {
    "slideshow": {
     "slide_type": "subslide"
    }
   },
   "source": [
    "### Стохастические методы построения композиций\n",
    "\n",
    "Чтобы алгоритмы в композиции были различными\n",
    " * их обучают по (случайным) подвыборкам\n",
    "   - bagging = bootstrap aggregation. [Breiman, 1996]: подвыборки длины $\\ell$ с повторениями. Доля объектов, попадающих в выборку $\\left( 1 - \\frac{1}{e}\\right) \\approx 0.632$\n",
    " * либо по (случайным) подмножествам признаков\n",
    "   - RSM = random subspace method, [Ho, 1998]\n"
   ]
  },
  {
   "cell_type": "markdown",
   "metadata": {},
   "source": [
    "<div align=\"center\">\n",
    "    <img src=\"images/bagging_visualization.jpg\" alt=\"bagging_visualization\" width=1000/>\n",
    "</div>"
   ]
  },
  {
   "cell_type": "markdown",
   "metadata": {
    "slideshow": {
     "slide_type": "subslide"
    }
   },
   "source": [
    "## Бустинг"
   ]
  },
  {
   "cell_type": "markdown",
   "metadata": {},
   "source": [
    "https://arogozhnikov.github.io/2016/06/24/gradient_boosting_explained.html\n",
    "\n",
    "<div align=\"center\">\n",
    "    <img src=\"images/gbt_visaulization.jpg\" alt=\"gbt_visaulization\" width=800/>\n",
    "</div>"
   ]
  },
  {
   "cell_type": "markdown",
   "metadata": {
    "slideshow": {
     "slide_type": "subslide"
    }
   },
   "source": [
    "![boosting](https://ml-handbook.ru/chapters/ensembles/images/boosting.png)"
   ]
  },
  {
   "cell_type": "markdown",
   "metadata": {
    "slideshow": {
     "slide_type": "subslide"
    }
   },
   "source": [
    "### Бустинг для задачи классификации с двумя классами\n",
    "\n",
    "Возьмём $Y = \\{\\pm 1\\}, b_t: X \\to \\{-1, \\color{red}{[0]}, +1\\}, C(b) = \\text{sign}(b)$\n",
    "\n",
    "**Взвешенное голосование**\n",
    "\n",
    " $a(x) = \\text{sign}\\left( \\sum\\limits_{t=1}^T \\alpha_t b_t (x) \\right), x \\in X$\n",
    "\n",
    "**Функционал качества** композиции — число ошибок на $X^\\ell$\n",
    "\n",
    " $Q_T = \\sum\\limits_{i=1}^\\ell \\left[y_i \\sum\\limits_{t=1}^T \\alpha_t b_t(x_i) < 0 \\right] $\n",
    "\n",
    "**Две основные эвристики бустинга**:\n",
    " * фиксация $\\alpha_1 b_1(x), \\dots, \\alpha_{t-1} b_{t-1}(x)$ при добавлении $\\alpha_{t}b_t(x)$\n",
    " * гладкая аппроксимация пороговой функции потерь $[M < 0]$\n"
   ]
  },
  {
   "cell_type": "markdown",
   "metadata": {
    "slideshow": {
     "slide_type": "subslide"
    }
   },
   "source": [
    "### Гладкие аппроксимации пороговой функции потерь $[M<0]$"
   ]
  },
  {
   "cell_type": "code",
   "execution_count": 1,
   "metadata": {
    "slideshow": {
     "slide_type": "-"
    }
   },
   "outputs": [],
   "source": [
    "import matplotlib.pyplot as plt\n",
    "import numpy as np\n",
    "\n",
    "x = np.linspace(-5.5, 5.5, num=100)\n",
    "acc_loss = x < 0\n",
    "V_M = (1 - x) * ((1 - x) > 0)\n",
    "H_M = acc_loss * (-x)\n",
    "L_M = np.log2(1 + np.exp(-x))\n",
    "Q_M = (1 - x)**2\n",
    "c, s = 0.25, 5.0\n",
    "G_M = np.exp(-c * x * (x + s))\n",
    "S_M = 2 * (1 + np.exp(x))**(-1)\n",
    "E_M = np.exp(-x)"
   ]
  },
  {
   "cell_type": "code",
   "execution_count": 9,
   "metadata": {
    "slideshow": {
     "slide_type": "subslide"
    }
   },
   "outputs": [
    {
     "data": {
      "text/plain": [
       "<matplotlib.legend.Legend at 0x19d001b6e88>"
      ]
     },
     "execution_count": 9,
     "metadata": {},
     "output_type": "execute_result"
    },
    {
     "data": {
      "image/png": "[encoded data removed]",
      "text/plain": [
       "<Figure size 1008x576 with 1 Axes>"
      ]
     },
     "metadata": {
      "needs_background": "light"
     },
     "output_type": "display_data"
    }
   ],
   "source": [
    "fig, ax = plt.subplots()\n",
    "\n",
    "ax.set_xlabel('M')\n",
    "ax.plot(x, acc_loss, 'b', label='[M<0]')\n",
    "ax.plot(x, V_M, 'g', label='V_M (из SVM)')\n",
    "ax.plot(x, L_M, 'r', label='L_M (LogitBoost)')\n",
    "ax.plot(x, Q_M, '--c', label='Q_M (GentleBoost)')\n",
    "ax.plot(x, G_M, '.g', label='G_M (BrownBoost)')\n",
    "ax.plot(x[::5], S_M[::5], '^m', label='S_M (sigmoid)')\n",
    "ax.plot(x, E_M, 'k:', label='E_M (AdaBoost)')\n",
    "\n",
    "ax.set_ylim(-0.5, 5.5)\n",
    "ax.grid(True)\n",
    "fig.set_size_inches(14, 8)\n",
    "plt.legend(loc='best')"
   ]
  },
  {
   "cell_type": "markdown",
   "metadata": {
    "slideshow": {
     "slide_type": "subslide"
    }
   },
   "source": [
    "### Экспоненциальная аппроксимация пороговой функции потерь\n",
    "\n",
    "Оценка функционала качества $Q_T$ сверху:\n",
    "\n",
    " $Q_T \\leq \\tilde Q_T = \\sum\\limits_{i=1}^\\ell \\underbrace{\\exp(-y_i \\sum\\limits_{t=1}^{T-1} \\alpha_t b_t (x_i))}_{w_i} \\exp(-y_i \\alpha_T b_T (x_i))$\n",
    "\n",
    "Нормированные веса: $\\tilde W^\\ell = (\\tilde w_1, \\dots, \\tilde w_\\ell), \\tilde w_i = w_i / \\sum_{j=1}^\\ell w_j$\n",
    "\n",
    "Взвешенное число ошибочных (negative) и правильных (positive) классификаций при векторе весов $U^\\ell = (u_1, \\dots, u_\\ell)$:\n",
    "\n",
    " $N(b, U^\\ell) = \\sum\\limits_{i=1}^\\ell u_i [b(x_i) = -y_i]$\n",
    "\n",
    " $P(b, U^\\ell) = \\sum\\limits_{i=1}^\\ell u_i [b(x_i) = y_i]$\n",
    "\n",
    " $1 - N - P$ — взвешенное число отказов от классификации\n",
    " "
   ]
  },
  {
   "cell_type": "markdown",
   "metadata": {
    "slideshow": {
     "slide_type": "subslide"
    }
   },
   "source": [
    "### Классический вариант AdaBoost\n",
    "\n",
    "Пусть отказов нет, $b_t: X \\to \\{\\pm 1 \\}$. Тогда $P = 1 − N$.\n",
    "\n",
    "**Теорема (Freund, Schapire, 1995)**\n",
    "\n",
    "Пусть для любого нормированного вектора весов $U^\\ell$ существует алгоритм $b \\in B$, классифицирующий выборку хотя бы немного лучше, чем наугад: $N(b, U^\\ell) < \\frac12$.\n",
    "\n",
    "Тогда минимум функционала $\\tilde Q_T$ достигается при\n",
    "\n",
    " $b_T = \\arg\\min\\limits_{b \\in B} N (b, \\tilde W^\\ell)$\n",
    "\n",
    " $\\alpha_T = \\frac12 \\ln\\frac{1-N(b_T, \\tilde W^\\ell)}{N(b_T, \\tilde W^\\ell)}$\n"
   ]
  },
  {
   "cell_type": "markdown",
   "metadata": {
    "slideshow": {
     "slide_type": "subslide"
    }
   },
   "source": [
    "### Алгоритм AdaBoost\n",
    "\n",
    "**Вход**: обучающая выборка $X^\\ell$, <span style=\"color:red\">параметр $Т$</span>\n",
    "\n",
    "**Выход**: базовые алгоритмы и их веса $\\alpha_t b_t, t = 1, \\dots, T$\n",
    "\n",
    "1. инициализировать веса объектов: $w_i = \\frac{1}{\\ell}, i = 1, \\dots, \\ell$\n",
    "\n",
    "2. **для всех** $t = 1, \\dots, \\color{red}{T}$\n",
    "\n",
    "3. обучить базовый алгоритм:\n",
    "\n",
    " $b_t = \\arg \\min\\limits_b N(b, W^\\ell)$\n",
    "\n",
    "4. $\\alpha_t = \\frac12 \\ln \\frac{1-N(b, W^\\ell)}{N(b, W^\\ell)}$\n",
    "\n",
    "5. обновить веса объектов:\n",
    "\n",
    " $w_i = w_i \\exp(-\\alpha_t y_i b_t(x_i)), \\\\ i = 1, \\dots, \\ell$\n",
    "\n",
    "6. нормировать веса объектов:\n",
    "\n",
    " $w_0 = \\sum\\limits_{j=1}^\\ell w_j \\\\ w_i = w_i / w_0,\\ i = 1, \\dots, \\ell$\n"
   ]
  },
  {
   "cell_type": "markdown",
   "metadata": {
    "slideshow": {
     "slide_type": "subslide"
    }
   },
   "source": [
    "### Эвристики и рекомендации\n",
    "\n",
    " * **Базовые классификаторы (weak classifiers)**\n",
    "   - решающие деревья — используются чаще всего\n",
    "   - пороговые правила (data stumрѕ) \n",
    "   \n",
    "   $B = \\{b(x) = [f_j(x) \\lessgtr\\theta] | j = 1, \\dots, n, \\theta \\in \\mathbb{R}\\}$\n",
    "   \n",
    "   - для SVM бустинг обычно не эффективен\n",
    "   \n",
    " * **Отсев шума**: отбросить объекты с наибольшими $w_i$\n",
    " \n",
    " * **Дополнительный критерий остановки**: увеличение частоты ошибок на контрольной выборке\n"
   ]
  },
  {
   "cell_type": "markdown",
   "metadata": {
    "slideshow": {
     "slide_type": "subslide"
    }
   },
   "source": [
    "<div class=\"alert alert-info\">\n",
    "<b>Вопрос 1:</b> Почему бустинг работает?\n",
    "</div>"
   ]
  },
  {
   "cell_type": "markdown",
   "metadata": {
    "slideshow": {
     "slide_type": "subslide"
    }
   },
   "source": [
    "<div class=\"alert alert-info\">\n",
    "<b>Вопрос 2:</b> Какие недостатки у AdaBoost?\n",
    "</div>"
   ]
  },
  {
   "cell_type": "markdown",
   "metadata": {
    "slideshow": {
     "slide_type": "subslide"
    }
   },
   "source": [
    "### Недостатки AdaBoost\n",
    "\n",
    " * Чрезмерная чувствительность к выбросам из-за $e^M$\n",
    " * AdaBoost строит «чёрные ящики» — громоздкие неинтерпретируемые композиции из сотен алгоритмов\n",
    " * Требуются достаточно большие обучающие выборки (бэггинг обходится более короткими)\n",
    " \n",
    "**Способы устранения**:\n",
    " * Другие аппроксимации пороговой функции потерь\n",
    " * Непрерывные вещественные базовые алгоритмы $b_t: X \\to \\mathbb{R}$\n",
    " * Явная оптимизация отступов, без аппроксимации\n",
    " * Менее жадные стратегии наращивания композиции\n"
   ]
  },
  {
   "cell_type": "markdown",
   "metadata": {
    "slideshow": {
     "slide_type": "subslide"
    }
   },
   "source": [
    "### Градиентный бустинг для произвольной функции потерь\n",
    "\n",
    "Линейная (выпуклая) комбинация базовых алгоритмов:\n",
    "\n",
    "$a(x) = \\sum\\limits_{t=1}^T \\alpha_t b_t(x), \\ x \\in X, \\ \\alpha_t \\in \\mathbb{R}_+$\n",
    "\n",
    "Функционал качества с произвольной функцией потерь $\\mathcal{L}(a, y)$\n",
    "\n",
    "$Q(\\alpha, b, X^\\ell) = \\sum\\limits_{i=1}^\\ell \\mathcal{L} \\underbrace{\\underbrace{(\\sum\\limits_{t=1}^{T-1} \\alpha_t b_t(x_i)}_{f_{T-1,i}} + \\alpha b(x_i)}_{f_{T,i}} , y_i) \\to \\min\\limits_{\\alpha, b} $\n",
    "\n",
    "$f_{T-1, i}$ — текущее приближение\n",
    "\n",
    "$f_{T, i}$ — следующее приближение\n",
    "\n",
    "----\n",
    "\n",
    "Friedman G. Greedy Function Approximation: A Gradient Boosting Machine. 1999.\n"
   ]
  },
  {
   "cell_type": "markdown",
   "metadata": {
    "slideshow": {
     "slide_type": "subslide"
    }
   },
   "source": [
    "### Параметрическая аппроксимация градиентного шага\n",
    "\n",
    "Градиентный метод минимизации $Q(f) \\to \\min, f \\in \\mathbb{R}^\\ell$:\n",
    "\n",
    " $f_0 = $ начальное приближение\n",
    " \n",
    " $f_{T,i} = f_{T-1,i} - \\alpha g_i, \\ i = 1, \\dots, \\ell$\n",
    " \n",
    " $g_i = \\mathcal{L}^\\prime (f_{T-1, i}, y_i)$ — компоненты вектора градиента, $\\alpha$ — градиентный шаг.\n",
    " \n",
    "<span style=\"color:red\"> Наблюдение: это очень похоже на одну итерацию бустинга!</span>\n",
    "\n",
    " $f_{T,i} = f_{T-1,i} + \\alpha b(x_i), \\ i = 1, \\dots, \\ell$\n",
    "\n",
    "**Идея**: будем искать такой базовый алгоритм $b_T$, чтобы вектор $(b_T(x_i))_{i=1}^\\ell$ приближал вектор антиградиента $(-g_i)_{i=1}^\\ell$\n",
    "\n",
    " $$b_T = \\arg\\min\\limits_b \\sum\\limits_{i=1}^\\ell (b(x_i) + g_i)^2$$"
   ]
  },
  {
   "cell_type": "markdown",
   "metadata": {
    "slideshow": {
     "slide_type": "subslide"
    }
   },
   "source": [
    "### Алгоритм градиентного буcтинга (Gradient Boosting)\n",
    "\n",
    "**Вход**: обучающая выборка $X^\\ell$, <span style=\"color:red\">параметр $Т$</span>\n",
    "\n",
    "**Выход**: базовые алгоритмы и их веса $\\alpha_t b_t, t = 1, \\dots, T$\n",
    "\n",
    "1. инициализация: $f_i = 0, i = 1, \\dots, \\ell$\n",
    "\n",
    "2. **для всех** $t = 1, \\dots, \\color{red}{T}$\n",
    "\n",
    "3. базовый алгоритм, приближающий антиградиент:\n",
    "\n",
    " $b_t = \\arg \\min\\limits_b \\sum\\limits_{i=1}^\\ell (b(x_i) + \\mathcal{L}^\\prime(f_i, y_i))^2$\n",
    "\n",
    "4. задача одномерной минимизации: $\\alpha_t = \\arg \\min\\limits_{\\alpha > 0} \\sum\\limits_{i=1}^\\ell\n",
    " \\mathcal{L}(f_i + \\alpha b_t(x_i), y_i)$\n",
    "\n",
    "5. обновление вектора значений на объектах выборки:\n",
    "\n",
    " $f_i = f_i + \\alpha_t b_t(x_i)), i = 1, \\dots, \\ell$\n"
   ]
  },
  {
   "cell_type": "markdown",
   "metadata": {
    "slideshow": {
     "slide_type": "subslide"
    }
   },
   "source": [
    "### Стохастический градиентный бустинг (SGB)\n",
    "\n",
    "**Идея**: на шагах 3-5 использовать не всю выборку $X^\\ell$, а случайную подвыборку без возвращений.\n",
    "\n",
    "**Преимущества**:\n",
    " * улучшается качество\n",
    " * улучшается сходимость\n",
    " * уменьшается время обучения\n",
    " \n",
    " ----\n",
    " \n",
    " _Friedman G._ Stochastic Gradient Boosting, 1999."
   ]
  },
  {
   "cell_type": "markdown",
   "metadata": {
    "slideshow": {
     "slide_type": "subslide"
    }
   },
   "source": [
    "<div class=\"alert alert-info\">\n",
    "<b>Вопрос 3:</b> Почему всё так идеально?\n",
    "</div>"
   ]
  },
  {
   "cell_type": "markdown",
   "metadata": {
    "slideshow": {
     "slide_type": "subslide"
    }
   },
   "source": [
    "### Регрессия и AdaBoost\n",
    "\n",
    "**Регрессия**: $\\mathcal{L}(a,y) = (a-y)^2$\n",
    " * $b_T(x)$ обучается на разностях $y_i - \\sum\\limits_{t=1}^{T-1} \\alpha_t b_t (x_i)$\n",
    " * если регрессия линейная, то $\\alpha_t$ можно не обучать\n",
    " \n",
    "**Классификация**: $\\mathcal{L}(a,y) = e^{-ay}, b_t \\in \\{-1, 0 , +1\\}$\n",
    " * GB в точности совпадает с AdaBoost\n",
    " "
   ]
  },
  {
   "cell_type": "markdown",
   "metadata": {
    "slideshow": {
     "slide_type": "subslide"
    }
   },
   "source": [
    "### ХGBoost — популярная и быстрая реализация GB над деревьями\n",
    "\n",
    "Деревья регрессии и классификации (CART):\n",
    "\n",
    "$b(x) = \\sum\\limits_{j=1}^J w_j [x \\in R_j]$,\n",
    "\n",
    "где $R_j$ — область пространства, покрываемая листом $j, w_j$ — веса листьев, $Ј$ — число листьев в дереве.\n",
    "\n",
    "Функционал качества с суммой $L_0, L_1, L_2$ регуляризаторов:\n",
    "\n",
    "$Q(b, \\{w_j\\}_{j=1}^J, X^\\ell) = \\sum\\limits_{i=1}^\\ell \\mathcal{L} \\left(\\sum\\limits_{t=1}^{T-1} \\alpha_t b_t(x_i) +\n",
    "\\alpha b(x_i, y_i)\\right) + \\gamma \\sum\\limits_{j=1}^J [w_j \\neq 0] + \\mu \\sum\\limits_{j=1}^J |w_j| + \\frac{\\lambda}{2} \\sum\\limits_{j=1}^J w_j^2 \\to \\min\\limits_{b, \\{w_j\\}}$\n",
    "\n",
    "По $w_j$ задача имеет аналитическое решение.\n",
    "\n",
    "----\n",
    "\n",
    "Ещё популярные реализации градиентного бустинга над случайными деревьями: LightGBM, CatBoost\n"
   ]
  },
  {
   "cell_type": "markdown",
   "metadata": {
    "slideshow": {
     "slide_type": "subslide"
    }
   },
   "source": [
    "### Резюме по бустингу\n",
    "\n",
    " * Композиции позволяют решать сложные задачи, которые плохо решаются отдельными алгоритмами\n",
    " * Обучать композицию целиком слишком сложно. Поэтому обучаем базовые алгоритмы по одному\n",
    " * Важное открытие середины 90-х: обобщающая способность бустинга не ухудшается с ростом сложности $Т$\n",
    " * Градиентный бустинг — наиболее общий из всех бустингов:\n",
    "    - произвольная функция потерь\n",
    "    - произвольное пространство оценок $R$\n",
    "    - подходит для регрессии, классификации, ранжирования\n",
    " * Стохастический вариант SGB — лучше и быстрее\n",
    " * Чаще всего GB применяется к решающим деревьям\n",
    " * Градиентный бустинг над Oblivious Decision Trees = Catboost (раньше был Yandex.MatrixNet)"
   ]
  },
  {
   "cell_type": "markdown",
   "metadata": {
    "slideshow": {
     "slide_type": "subslide"
    }
   },
   "source": [
    "### Сравнение: boosting — bagging — RSM\n",
    "\n",
    " * Бустинг лучше для больших обучающих выборок и для классов с границами сложной формы\n",
    " * Бэггинг и RSM лучше для коротких обучающих выборок \n",
    " * RSM лучше в тех случаях, когда признаков больше, чем объектов, или когда много неинформативных признаков\n",
    " * Бэггинг и RSM эффективно распараллеливаются, бустинг выполняется строго последовательно\n",
    " \n",
    " <div align=\"center\">\n",
    "    <img src=\"images/bootstrap.png\" alt=\"bootstrap\" width=800/>\n",
    "</div>\n",
    " \n",
    " https://towardsdatascience.com/ensemble-methods-bagging-boosting-and-stacking-c9214a10a205\n"
   ]
  },
  {
   "cell_type": "markdown",
   "metadata": {
    "slideshow": {
     "slide_type": "subslide"
    }
   },
   "source": [
    "### Случайный лес (Random forest)\n",
    "\n",
    "Обучение случайного леса:\n",
    " * бэггинг над решающими деревьями, без pruning\n",
    " * признак в каждой вершине дерева выбирается из случайного подмножества $k$ из $n$ признаков\n",
    "\n",
    "\n",
    "------\n",
    "\n",
    "Подбор числа деревьев $T$ можно делать по критерию out-of-bag: число ошибок на объектах $x_i$, если не учитывать голоса деревьев, для которых $x_i$ был обучающим:\n",
    "\n",
    "$\\text{out-of-bag}(a) = \\sum\\limits_{i=1}^\\ell \\left[\\text{sign}(\\sum\\limits_{t=1}^T [x_i \\notin U_t] b_t(x_i)) \\neq y_i \\right] \\to \\min$\n",
    "\n",
    "Это несмещенная оценка обобщающей способности.\n"
   ]
  },
  {
   "cell_type": "markdown",
   "metadata": {
    "slideshow": {
     "slide_type": "subslide"
    }
   },
   "source": [
    "### Спасибо за внимание!"
   ]
  },
  {
   "cell_type": "markdown",
   "metadata": {
    "slideshow": {
     "slide_type": "subslide"
    }
   },
   "source": [
    "### Обоснование бустинга\n",
    "\n",
    "Усиление понятия частоты ошибок алгоритма $a(x) = \\text{sign}(b(x))$\n",
    "\n",
    "$\\nu_\\theta (a, X^\\ell) = \\frac{1}{\\ell} \\sum\\limits_{i=1}^\\ell [b(x_i) y_i \\leq \\theta]$\n",
    "\n",
    "Обычная частота ошибок $\\nu_0 (a, X^\\ell) \\leq \\nu_\\theta (a, X^\\ell)$ при $\\theta > 0$\n",
    "\n",
    "**Теорема (Freund, Schapire, Bartlett, 1998)**\n",
    "\n",
    "Если $|B| < \\infty$, то $\\forall \\theta > 0, \\forall \\eta \\in (0,1)$ с вероятностью $1-\\eta$\n",
    "\n",
    " $P[y a(x) < 0] \\leq \\nu_\\theta (a, X^\\ell) + C\\sqrt{\\frac{\\ln |B| \\ln \\ell}{\\ell\\theta^2} + \\frac{1}{\\ell}\\ln \\frac{1}{\\eta}}$\n",
    "\n",
    "**Основной вывод**: оценка зависит от $|B|$, но не от $Т$. \n",
    "\n",
    "Голосование не увеличивает сложность эффективно используемого множества алгоритмов.\n"
   ]
  },
  {
   "cell_type": "markdown",
   "metadata": {
    "slideshow": {
     "slide_type": "subslide"
    }
   },
   "source": [
    "### Обоснование бустинга: что же всё-таки происходит?\n",
    "\n",
    "**Распределение отступов**: доля объектов, имеющих отступ меньше заданного $\\theta$ после 5, 100, 1000 итераций (задача классификации UCI:vehicle)\n",
    "\n",
    "<div align=\"center\">\n",
    "    <img src=\"images/boosting_exp.jpg\" alt=\"logo_fmkn\" width=600 />\n",
    "</div>\n",
    "\n",
    " * С ростом $Т$ распределение отступов сдвигается вправо, то есть буcтинг «раздвигает» классы в пространстве векторов растущей размерности $(b_1(x), \\dots, b_T(x))$\n",
    " * Значит, в оценке можно уменьшить второй член, увеличив $\\theta$ и не изменив $\\nu_\\theta (a, X^l)$\n",
    " * Можно уменьшить второй член, если уменьшить |В|, то есть взять простое семейство базовых алгоритмов\n"
   ]
  }
 ],
 "metadata": {
  "celltoolbar": "Slideshow",
  "kernelspec": {
   "display_name": "Python 3 (ipykernel)",
   "language": "python",
   "name": "python3"
  },
  "language_info": {
   "codemirror_mode": {
    "name": "ipython",
    "version": 3
   },
   "file_extension": ".py",
   "mimetype": "text/x-python",
   "name": "python",
   "nbconvert_exporter": "python",
   "pygments_lexer": "ipython3",
   "version": "3.9.7"
  }
 },
 "nbformat": 4,
 "nbformat_minor": 2
}
