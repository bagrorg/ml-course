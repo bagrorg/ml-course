{
 "cells": [
  {
   "cell_type": "markdown",
   "metadata": {
    "slideshow": {
     "slide_type": "slide"
    }
   },
   "source": [
    "<div align=\"center\">\n",
    "    <img src=\"images/logo_fmkn.png\" alt=\"logo_fmkn\" />\n",
    "</div>\n",
    "\n",
    "# Машинное обучение\n",
    "\n",
    "### Лекция 8. Линейные методы классификации и регрессии: метод опорных векторов\n",
    "\n",
    "<br />\n",
    "<br />\n",
    "29 октября 2021"
   ]
  },
  {
   "cell_type": "markdown",
   "metadata": {
    "slideshow": {
     "slide_type": "subslide"
    }
   },
   "source": [
    "### Задача обучения линейного классификатора (напоминание)\n",
    "\n",
    "**Дано**:\n",
    "Обучающая выборка $X^\\ell = (x_i, y_i)_{i=1}^\\ell$\n",
    "\n",
    "$x_i$ — объекты, векторы из множества $X = \\mathbb{R}^n$\n",
    "\n",
    "$x_i$ — метки классов, элементы множества $Y = \\{-1, +1\\}$\n",
    "\n",
    "**Найти**:\n",
    "Параметры $w \\in \\mathbb{R}^n, w_0 \\in \\mathbb{R}$ линейной модели классификации\n",
    "\n",
    "$a(x; w, w_0) = \\text{sign}(\\color{red}{\\left< x, w\\right> - w_0})$\n",
    "\n",
    "**Критерий** — минимизация эмпирического риска:\n",
    "\n",
    "$\\sum\\limits_{i=1}^\\ell [a(x_i;w,w_0) \\neq y_i] = \\sum\\limits_{i=1}^\\ell [M_i(w, w_0) < 0] \\to \\min\\limits_{w, w_0}$\n",
    "\n",
    "где $M_i(w, w_0) = (\\color{red}{\\left< x, w\\right> - w_0})y_i$ — отступ (margin) объекта $x_i$\n"
   ]
  },
  {
   "cell_type": "markdown",
   "metadata": {
    "slideshow": {
     "slide_type": "subslide"
    }
   },
   "source": [
    "### Аппроксимация и регуляризация эмпирического риска\n",
    "\n",
    "Эмпирический риск — это кусочно-постоянная функция. Заменим его оценкой сверху, непрерывной по параметрам:\n",
    "\n",
    "$Q(w, w_0) = \\sum\\limits_{i=1}^\\ell \\color{blue}{[M_i(w, w_0) < 0]} \\leq \n",
    "\\sum\\limits_{i=1}^\\ell \\color{red}{(1 - M_i(w, w_0))_+} + \\frac{1}{2C}\\|w\\|^2 \\to \\min\\limits_{w, w_0}$\n",
    "\n",
    " * _Аппроксимация_ штрафует объекты за приближение к границе классов, увеличивая зазор между классами\n",
    " \n",
    " * _Регуляризация_ штрафует неустойчивые решения в случае мультиколлинеарности\n"
   ]
  },
  {
   "cell_type": "code",
   "execution_count": 1,
   "metadata": {
    "slideshow": {
     "slide_type": "subslide"
    }
   },
   "outputs": [
    {
     "data": {
      "image/png": "[encoded data removed]",
      "text/plain": [
       "<Figure size 1008x576 with 1 Axes>"
      ]
     },
     "metadata": {
      "needs_background": "light"
     },
     "output_type": "display_data"
    }
   ],
   "source": [
    "import matplotlib.pyplot as plt\n",
    "import numpy as np\n",
    "\n",
    "fig, ax = plt.subplots()\n",
    "\n",
    "ax.set_xlabel('M')\n",
    "\n",
    "x = np.linspace(-3.5, 3.5, num=100)\n",
    "acc_loss = x < 0\n",
    "V_M = (1 - x) * ((1 - x) > 0)\n",
    "\n",
    "ax.plot(x, acc_loss, 'b', label='[M < 0]')\n",
    "ax.plot(x, V_M, 'r', label='(1-M)+')\n",
    "\n",
    "ax.set_ylim(-0.5, 3.5)\n",
    "ax.grid(True)\n",
    "\n",
    "fig.set_size_inches(14, 8)\n",
    "plt.legend(loc='best')\n",
    "plt.show()"
   ]
  },
  {
   "cell_type": "markdown",
   "metadata": {
    "slideshow": {
     "slide_type": "subslide"
    }
   },
   "source": [
    "### Оптимальная разделяющая гиперплоскость\n",
    "\n",
    "Линейный классификатор: $a(x, w) = \\text{sign}(\\left<w, x\\right> - w_0)$\n",
    "\n",
    "Пусть выборка $X^\\ell = (x_i, y_i)^\\ell_{i=1}$ линейно разделима:\n",
    "\n",
    "$\\exists w, w_0: M_i(w, w_0) = y_i (\\left<w, x_i \\right> - w_0), i = 1, \\dots, \\ell$\n",
    "\n",
    "Нормировка: $\\min\\limits_{i = 1, \\dots, \\ell} M_i (w, w_0) = 1$\n",
    "\n",
    "Разделяющая полоса (разделяющая гиперплоскость посередине):\n",
    "\n",
    "$\\{x : -1 \\leq \\left<w, x \\right> - w_0 \\leq 1 \\}$\n",
    "\n",
    "$\\exists x_+: \\left<w, x_+ \\right> - w_0 = +1$\n",
    "\n",
    "$\\exists x_-: \\left<w, x_- \\right> - w_0 = -1$\n",
    "\n",
    "Ширина полосы:\n",
    "\n",
    "$\\frac{\\left<w, x_+ - x_- \\right>}{\\|w\\|} = \\frac{2}{\\|w\\|} \\to \\max$\n",
    "\n",
    "<div align=\"center\">\n",
    "    <img src=\"images/SVM_line.jpg\" alt=\"SVM_line\" width=400/>\n",
    "</div>\n"
   ]
  },
  {
   "cell_type": "markdown",
   "metadata": {
    "slideshow": {
     "slide_type": "subslide"
    }
   },
   "source": [
    "### Обоснование кусочно-линейной функции потерь\n",
    "\n",
    "Линейно разделимая выборка\n",
    "\n",
    "$\n",
    "\\begin{cases}\n",
    "\\frac{1}{2} \\|w\\|^2 \\to \\min\\limits_{w, w_0} \\\\\n",
    "M_i(w, w_0) \\geq 1, i = 1, \\dots, \\ell\n",
    "\\end{cases}\n",
    "$\n",
    "\n",
    "Переход к линейно неразделимой выборке (**эвристика**)\n",
    "\n",
    "$\n",
    "\\begin{cases}\n",
    "\\frac{1}{2} \\|w\\|^2 + \\color{red}{C\\sum\\limits_{i=1}^\\ell \\xi_i}  \\to \\min\\limits_{w, w_0, \\color{red}{\\xi}} \\\\\n",
    "M_i(w, w_0) \\geq 1 - \\color{red}{\\xi_i}, i = 1, \\dots, \\ell \\\\\n",
    "\\color{red}{\\xi_i \\geq 0, i = 1, \\dots, \\ell}\n",
    "\\end{cases}\n",
    "$\n",
    "\n",
    "Эквивалентная задача безусловной минимизации:\n",
    "\n",
    "$C \\sum\\limits_{i=1}^\\ell (1 - M_i(w, w_0))_+ + \\frac{1}{2} \\|w\\|^2 \\to \\min\\limits_{w, w_0}$\n"
   ]
  },
  {
   "cell_type": "markdown",
   "metadata": {
    "slideshow": {
     "slide_type": "subslide"
    }
   },
   "source": [
    "### Влияние константы $C$ на решение SVM\n",
    "\n",
    "SVM — аппроксимация и регуляризация эмпирического риска:\n",
    "\n",
    "$ \\sum\\limits_{i=1}^\\ell (1 - M_i(w, w_0))_+ + \\frac{1}{2C} \\|w\\|^2 \\to \\min\\limits_{w, w_0}$\n",
    "\n",
    "<div align=\"center\">\n",
    "  <table>\n",
    "    <tr>\n",
    "      <td>большое C, слабая регуляризация</td>\n",
    "      <td>малое C, сильная регуляризация</td>\n",
    "    </tr>\n",
    "    <tr>\n",
    "      <td><img src=\"images/bigC.jpg\" alt=\"bigC\" width=400/></td>\n",
    "      <td><img src=\"images/smallC.jpg\" alt=\"smallC\" width=400 /></td>\n",
    "    </tr>\n",
    "  </table>\n",
    "</div>\n",
    "\n",
    "----\n",
    "\n",
    "Пример из Python SkLearn"
   ]
  },
  {
   "cell_type": "markdown",
   "metadata": {
    "slideshow": {
     "slide_type": "subslide"
    }
   },
   "source": [
    "### Условия Каруша-Куна-Таккера (ККТ)\n",
    "\n",
    "Задача математического программирования:\n",
    "\n",
    "$\n",
    "\\begin{cases}\n",
    "f(x) \\to \\min\\limits_{x} \\\\\n",
    "g_i(x) \\leq 0, i = 1, \\dots, m \\\\\n",
    "h_j (x) = 0, j= 1, \\dots, k\n",
    "\\end{cases}\n",
    "$\n",
    "\n",
    "Необходимые условия. Если $x$ — точка локального минимума, то существуют множители \n",
    "$\\mu_i, i = 1, \\dots, m, \\lambda_j, j = 1, \\dots, k$:\n",
    "\n",
    "$\n",
    "\\begin{cases}\n",
    "\\frac{\\partial \\mathcal{L}}{\\partial x} = 0,\\ \\mathcal{L}(x; \\mu, \\lambda) = f(x) + \\sum\\limits_{i=1}^m \\mu_i g_i(x) +\n",
    " \\sum\\limits_{j=1}^k \\lambda_j h_j(x) \\\\\n",
    "g_i(x) \\leq 0, h_j(x) = 0\\ (\\text{исходные ограничения}) \\\\\n",
    "\\mu_i \\geq 0\\ (\\text{двойственные ограничения}) \\\\\n",
    "\\mu_i g_i(x) = 0\\ (\\text{условие дополняющей нежесткости})\n",
    "\\end{cases}\n",
    "$\n"
   ]
  },
  {
   "cell_type": "markdown",
   "metadata": {
    "slideshow": {
     "slide_type": "subslide"
    }
   },
   "source": [
    "### Применение условий ККТ к задаче SVM\n",
    "\n",
    "Функция Лагранжа: \n",
    "\n",
    "$\\mathcal{L} (w, w_0, \\xi; \\lambda, \\eta) = \\frac{1}{2} \\|w\\|^2 - \\sum\\limits_{i=1}^\\ell \\lambda_i (M_i(w,w_0)-1) - \\sum\\limits_{i=1}^\\ell \\xi_i(\\lambda_i + \\eta_i - C)$ \n",
    "\n",
    "$\\lambda_i$ − переменные, двойственные к ограничениям $M_i \\geq 1 - \\xi_i$\n",
    "\n",
    "$\\eta_i$ — переменные, двойственные к ограничениям $\\xi_i \\geq 0$\n",
    "\n",
    "$\\begin{cases}\n",
    "\\frac{\\partial \\mathcal{L}}{\\partial w} = 0,\\ \\frac{\\partial \\mathcal{L}}{\\partial w_0} = 0,\\ \\frac{\\partial \\mathcal{L}}{\\partial \\xi} = 0 \\\\ \n",
    "\\xi_i \\geq 0, \\lambda_i \\geq 0, \\eta_i \\geq 0,\\ i=1,\\dots,\\ell \\\\\n",
    "\\lambda_i = 0 \\text{ либо } M_i(w, w_0) = 1 - \\xi_i,\\ i=1,\\dots,\\ell \\\\\n",
    "\\eta_i = 0 \\text{ либо } \\xi_i = 0,\\ i=1,\\dots, \\ell\n",
    "\\end{cases}\n",
    "$\n"
   ]
  },
  {
   "cell_type": "markdown",
   "metadata": {
    "slideshow": {
     "slide_type": "subslide"
    }
   },
   "source": [
    "### Необходимые условия седловой точки функции Лагранжа\n",
    "\n",
    "Функция Лагранжа:\n",
    "\n",
    "$\\mathcal{L} (w, w_0, \\xi; \\lambda, \\eta) = \\frac{1}{2} \\|w\\|^2 - \\sum\\limits_{i=1}^\\ell \\lambda_i (M_i(w,w_0)-1) - \\sum\\limits_{i=1}^\\ell \\xi_i(\\lambda_i + \\eta_i - C)$ \n",
    "\n",
    "Необходимые условия седловой точки функции Лагранжа\n",
    "\n",
    "$\\frac{\\partial \\mathcal{L}}{\\partial w} = w - \\sum\\limits_{i=1}^\\ell \\lambda_iy_ix_i = 0 \\Rightarrow w = \\sum\\limits_{i=1}^\\ell \\lambda_iy_ix_i$\n",
    "\n",
    "$\\frac{\\partial \\mathcal{L}}{\\partial w_0} = - \\sum\\limits_{i=1}^\\ell \\lambda_iy_i = 0 \\Rightarrow \\sum\\limits_{i=1}^\\ell \\lambda_iy_i = 0$\n",
    "\n",
    "$\\frac{\\partial \\mathcal{L}}{\\partial \\xi_i} = - \\lambda_i - \\eta_i + C = 0 \\Rightarrow \\lambda_i + \\eta_i = C,\\ i=1,\\dots,\\ell$"
   ]
  },
  {
   "cell_type": "markdown",
   "metadata": {
    "slideshow": {
     "slide_type": "subslide"
    }
   },
   "source": [
    "<div class=\"alert alert-info\">\n",
    "<b>Вопрос 1:</b> Кто помнит доказательство?\n",
    "</div>"
   ]
  },
  {
   "cell_type": "markdown",
   "metadata": {
    "slideshow": {
     "slide_type": "subslide"
    }
   },
   "source": [
    "### Понятие опорного вектора\n",
    "\n",
    "Типизация объектов:\n",
    "\n",
    "1. $\\lambda_i = 0, \\eta_i = C, \\xi_i = 0, M_i \\geq 1$\n",
    "\n",
    "— периферийные (неинформативные) объекты\n",
    "\n",
    "2. $0 < \\lambda_i < C, 0 < \\eta_i < C, \\xi_i = 0, M_i = 1$\n",
    "\n",
    "— <span style=\"color:red\">опорные</span> граничные объекты\n",
    "\n",
    "3. $\\lambda_i = C, \\eta_i = 0, \\xi_i > 0, M_i < 1$\n",
    "\n",
    "— <span style=\"color:red\">опорные</span>-нарушители\n",
    "\n",
    "**Определение**\n",
    "\n",
    "Объект $x_i$ называется опорным, если $\\lambda_i \\neq 0$\n"
   ]
  },
  {
   "cell_type": "markdown",
   "metadata": {
    "slideshow": {
     "slide_type": "subslide"
    }
   },
   "source": [
    "### Двойственная задача\n",
    "\n",
    "$\\begin{cases}\n",
    "-\\mathcal{L}(\\lambda) = - \\sum\\limits_{i=1}^\\ell\\lambda_i + \\frac{1}{2} \\sum\\limits_{i=1}^\\ell \\sum\\limits_{j=1}^\\ell \\lambda_i \\lambda_j y_i y_j \\color{red}{\\left<x_i, x_j \\right>} \\to \\min\\limits_\\lambda \\\\\n",
    "0 \\leq \\lambda_i \\leq C, i=1, \\dots, \\ell \\\\\n",
    "\\sum\\limits_{i=1}^\\ell \\lambda_i y_i = 0\n",
    "\\end{cases}\n",
    "$\n",
    "\n",
    "Решение прямой задачи выражается через решение двойственной:\n",
    "\n",
    "$\\begin{cases}\n",
    "w = \\sum\\limits_{i=1}^\\ell \\lambda_i y_i x_i \\\\\n",
    "w_0 = \\left<w, x_i \\right> - y_i \\text{ для любого } i: \\lambda_i > 0, M_i = 1\n",
    "\\end{cases}$\n",
    "\n",
    "Линейный классификатор с признаками $f_i(x) = \\color{red}{\\left< x_i, x \\right>}$\n",
    "\n",
    "$a(x) = \\text{sign} \\left(\\sum\\limits_{i=1}^\\ell \\lambda_i y_i \\color{red}{\\left<x_i, x\\right>} - w_0 \\right)$\n"
   ]
  },
  {
   "cell_type": "markdown",
   "metadata": {
    "slideshow": {
     "slide_type": "subslide"
    }
   },
   "source": [
    "### Нелинейное обобщение SVM\n",
    "\n",
    "**Идея**: заменить скалярное произведение $\\left<x, x^\\prime\\right>$ нелинейной функцией $K(x, x^\\prime)$.\n",
    "Переход к спрямляющему пространству, как правило, более высокой размерности: $\\psi: X \\to H$\n",
    "\n",
    "**Определение**\n",
    "\n",
    "Функция $K: X \\times X \\to \\mathbb{R}$ — ядро, если $K(x, x^\\prime) = \\left<\\psi(x), \\psi(x^\\prime) \\right>$\n",
    "при некотором $\\psi: X \\to H$, где $Н$ — гильбертово пространство.\n",
    "\n",
    "**Теорема**\n",
    "\n",
    "Функция $K(x, x^\\prime)$ является ядром тогда и только тогда, когда она симметрична ($K(x, x^\\prime) = K(x^\\prime, x)$) и неотрицательно определена:\n",
    "\n",
    "$\\int_X\\int_X K(x, x^\\prime) g(x) g(x^\\prime) dx dx^\\prime \\geq 0$ для любой $g: X \\to \\mathbb{R}$\n"
   ]
  },
  {
   "cell_type": "markdown",
   "metadata": {
    "slideshow": {
     "slide_type": "subslide"
    }
   },
   "source": [
    "### Конструктивные методы синтеза ядер\n",
    "\n",
    "1. $K(x, x^\\prime) = \\left<x, x^\\prime\\right>$ — ядро\n",
    "2. константа $K(x, x^\\prime) = 1$ — ядро\n",
    "3. произведение ядер $K(x, x^\\prime) = K_1(x, x^\\prime)K_2(x, x^\\prime)$ — ядро\n",
    "4. $\\forall \\psi: X \\to \\mathbb{R}$ произведение $K(x, x^\\prime) = \\psi(x) \\psi(x^\\prime)$ — ядро\n",
    "5. Линейная комбинация $K(x, x^\\prime) = \\alpha_1 K_1(x, x^\\prime) + \\alpha_2 K_2(x, x^\\prime)$ при $\\alpha_i > 0$ — ядро\n",
    "6. $\\forall \\phi: X \\to X$ если $K_0$ ядро, то $K(x, x^\\prime) = K_0(\\phi(x), \\phi(x^\\prime))$ — ядро\n",
    "7. если $s: X \\times X \\to \\mathbb{R}$ — симметричная интегрируемая функция, то $K(x, x^\\prime) = \\int_X s(x, z) s(x^\\prime, z) dz$ — ядро\n",
    "8. если $K_0$ — ядро и функция $f: \\mathbb{R} \\to \\mathbb{R}$ представима в виде сходящегося степенного ряда с неотрицательными коэффициентами, то $K(x, x^\\prime) = f(K_0(x, x^\\prime))$ — ядро\n"
   ]
  },
  {
   "cell_type": "markdown",
   "metadata": {
    "slideshow": {
     "slide_type": "subslide"
    }
   },
   "source": [
    "### Пример\n",
    "\n",
    "<div align=\"center\">\n",
    "    <img src=\"images/svm_kernel_trick.png\" alt=\"svm_kernel_trick\" />\n",
    "</div>\n"
   ]
  },
  {
   "cell_type": "markdown",
   "metadata": {
    "slideshow": {
     "slide_type": "fragment"
    }
   },
   "source": [
    "<div class=\"alert alert-info\">\n",
    "<b>Вопрос 2:</b> Какое ядро подойдёт для такого?\n",
    "</div>"
   ]
  },
  {
   "cell_type": "markdown",
   "metadata": {
    "slideshow": {
     "slide_type": "subslide"
    }
   },
   "source": [
    "### Примеры ядер\n",
    "\n",
    " * $K(x, x^\\prime) = \\left<x, x^\\prime\\right>^2$ — квадратичное ядро\n",
    " * $K(x, x^\\prime) = \\left<x, x^\\prime\\right>^d$ — полиномиальное ядро с мономами степени $d$\n",
    " * $K(x, x^\\prime) = (\\left<x, x^\\prime\\right> + 1)^d$ — полиномиальное ядро с мономами степени $\\leq d$\n",
    " * $K(x, x^\\prime) = \\tanh(k_1\\left<x, x^\\prime\\right> - k_0), k_0, k_1 \\geq 0$ — нейросеть с сигмоидными функциями активации\n",
    " * $K(x, x^\\prime) = \\exp(-\\gamma \\|x - x^\\prime \\|^2)$ — сеть радиальных базисных функций (RBF ядро)"
   ]
  },
  {
   "cell_type": "markdown",
   "metadata": {
    "slideshow": {
     "slide_type": "subslide"
    }
   },
   "source": [
    "### Классификация с различными ядрами\n",
    "\n",
    "Гиперплоскость в спрямляющем пространстве соответствует нелинейной разделяющей поверхности в исходном.\n",
    "\n",
    "Примеры с различными ядрами $K(x, x^\\prime)$\n",
    "\n",
    "<div align=\"center\">\n",
    "  <table>\n",
    "    <tr>\n",
    "      <td>линейное, $\\left<x, x^\\prime\\right>$</td>\n",
    "      <td>полиномиальное, $(\\left<x, x^\\prime\\right> + 1)^d, d=3$</td>\n",
    "      <td>гауссовское, $\\exp(-\\gamma \\|x - x^\\prime \\|^2)$</td>\n",
    "    </tr>\n",
    "    <tr>\n",
    "      <td><img src=\"images/linK.jpg\" alt=\"linK\" width=400/></td>\n",
    "      <td><img src=\"images/polyK.jpg\" alt=\"poly\" width=400 /></td>\n",
    "      <td><img src=\"images/gaussK.jpg\" alt=\"gaussK\" width=400 /></td>\n",
    "    </tr>\n",
    "  </table>\n",
    "</div>\n",
    "\n",
    "----\n",
    "\n",
    "Пример из Python SkLearn\n"
   ]
  },
  {
   "cell_type": "markdown",
   "metadata": {
    "slideshow": {
     "slide_type": "subslide"
    }
   },
   "source": [
    "### SVM как двухслойная нейронная сеть\n",
    "\n",
    "Перенумеруем объекты так, чтобы $x_1, \\dots, x_h$ были опорными.\n",
    "\n",
    "$a(x) = \\text{sign} \\left(\\sum\\limits_{i=1}^h \\lambda_i y_i K(x, x_i) - w_0\\right)$\n",
    "\n",
    "<div align=\"center\">\n",
    "    <img src=\"images/SVM_as_NN.jpg\" alt=\"SVM_as_NN\" width=600 />\n",
    "</div>\n",
    "\n",
    "Первый слой вместо скалярных произведений вычисляет ядра.\n"
   ]
  },
  {
   "cell_type": "markdown",
   "metadata": {
    "slideshow": {
     "slide_type": "subslide"
    }
   },
   "source": [
    "### Преимущества и недостатки SVM\n",
    "\n",
    "**Преимущества** SVM перед двухслойными нейронными сетями:\n",
    " * Задача выпуклого квадратичного программирования имеет единственное решение\n",
    " * Число нейронов скрытого слоя определяется автоматически — это число опорных векторов\n",
    " \n",
    "**Недостатки** классического SVM:\n",
    " * Нет общих подходов к оптимизации $K(x, x^\\prime)$ под задачу\n",
    " * На больших данных SVM может обучаться медленно\n",
    " * Нет «встроенного» отбора признаков\n",
    " * Приходится подбирать константу $С$\n"
   ]
  },
  {
   "cell_type": "markdown",
   "metadata": {
    "slideshow": {
     "slide_type": "subslide"
    }
   },
   "source": [
    "### SVM-регрессия\n",
    "\n",
    "**Модель регрессии**: $a(x) = \\left<x, w\\right> - w_0, w \\in \\mathbb{R}^n, w_0 \\in \\mathbb{R}$\n",
    "\n",
    "**Функция потерь**: $\\color{red}{\\mathcal{L} (|\\varepsilon|-\\delta)_+}$ в сравнении с $\\color{blue}{\\mathcal{L}(\\varepsilon) = \\varepsilon^2}$:\n"
   ]
  },
  {
   "cell_type": "code",
   "execution_count": 2,
   "metadata": {
    "slideshow": {
     "slide_type": "subslide"
    }
   },
   "outputs": [
    {
     "data": {
      "image/png": "[encoded data removed]",
      "text/plain": [
       "<Figure size 1008x576 with 1 Axes>"
      ]
     },
     "metadata": {
      "needs_background": "light"
     },
     "output_type": "display_data"
    }
   ],
   "source": [
    "fig, ax = plt.subplots()\n",
    "\n",
    "x = np.linspace(-3.5, 3.5, num=100)\n",
    "L_1 = (abs(x) - 1) * (abs(x) - 1 > 0)\n",
    "L_2 = x**2\n",
    "\n",
    "ax.plot(x, L_1, 'r')\n",
    "ax.plot(x, L_2, 'b')\n",
    "\n",
    "ax.set_ylim(-0.1, 3.1)\n",
    "ax.grid(True)\n",
    "\n",
    "fig.set_size_inches(14, 8)\n",
    "plt.show()"
   ]
  },
  {
   "cell_type": "markdown",
   "metadata": {
    "slideshow": {
     "slide_type": "subslide"
    }
   },
   "source": [
    "**Постановка задачи**:\n",
    "\n",
    "$\\sum\\limits_{i=1}^\\ell (|\\left< w, x_i\\right> - w_0 - y_i| - \\delta)_+ + \\frac{1}{2C}\\|w\\|^2 \\to \\min\\limits_{w,w_0}$\n",
    "\n",
    "Задача решается путём замены переменных и сведения к задаче квадратичного программирования\n"
   ]
  },
  {
   "cell_type": "markdown",
   "metadata": {
    "slideshow": {
     "slide_type": "subslide"
    }
   },
   "source": [
    "### SVM-регрессия\n",
    "\n",
    "Замена переменных:\n",
    "\n",
    "$\\varepsilon_i^+ = (\\left< w, x_i\\right> - w_0 - y_i - \\delta)_+$\n",
    "\n",
    "$\\varepsilon_i^- = (-\\left< w, x_i\\right> + w_0 + y_i - \\delta)_+$\n",
    "\n",
    "Постановка задачи SVM-регрессии:\n",
    "\n",
    "$\n",
    "\\begin{cases}\n",
    "\\frac12 \\|w\\|^2 + C \\sum\\limits_{i=1}^\\ell (\\varepsilon_i^+ + \\varepsilon_i^-) \\to \\min\\limits_{w, w_0,\\varepsilon^+,\\varepsilon^-} \\\\ \n",
    "y_i - \\delta - \\varepsilon_i^- \\leq \\left< w, x_i\\right> - w_0 \\leq y_i + \\delta + \\varepsilon_i^+, i=1,\\dots,\\ell \\\\\n",
    "\\varepsilon_i^- \\geq 0, \\varepsilon_i^+ \\geq 0, i=1,\\dots,\\ell\n",
    "\\end{cases}\n",
    "$\n",
    "\n",
    "Это задача квадратичного программирования с линейными ограничениями-неравенствами, решается также сведением к двойственной задаче.\n"
   ]
  },
  {
   "cell_type": "markdown",
   "metadata": {
    "slideshow": {
     "slide_type": "subslide"
    }
   },
   "source": [
    "### 1-norm SVM (LASSO SVM)\n",
    "\n",
    "LASSO — Least Absolute Shrinkage and Selection Operator. Аппроксимация эмпирического риска с $L_1$-регуляризацией:\n",
    "\n",
    "$\\sum\\limits_{i=1}^\\ell (1-M_i(w,w_0))_+ + \\mu \\sum\\limits_{j=1}^n |w_j| \\to \\min\\limits_{w,w_0} $\n",
    "\n",
    "+ Отбор признаков с параметром _селективности_ $\\mu$: чем больше $\\mu$, тем меньше признаков останется\n",
    "\n",
    "- LASSO начинает отбрасывать значимые признаки, когда ещё не все шумовые отброшены\n",
    "\n",
    "- Нет _эффекта группировки_ (grouping effect): значимые зависимые признаки должны отбираться вместе и иметь примерно равные веса $w_j$\n",
    "\n",
    "----\n",
    "\n",
    "Bradley P., Mangasarian O. Feature selection via concave minimization and support vector machines // ICML 1998\n"
   ]
  },
  {
   "cell_type": "markdown",
   "metadata": {
    "slideshow": {
     "slide_type": "subslide"
    }
   },
   "source": [
    "<div class=\"alert alert-info\">\n",
    "<b>Вопрос 2:</b> Почему $L_1$-регуляризатор приводит к отбору признаков?\n",
    "</div>"
   ]
  },
  {
   "cell_type": "markdown",
   "metadata": {
    "slideshow": {
     "slide_type": "subslide"
    }
   },
   "source": [
    "### 1-norm SVM (LASSO SVM)\n",
    "\n",
    "Аппроксимация эмпирического риска с $L_1$-регуляризацией:\n",
    "\n",
    "$\\sum\\limits_{i=1}^\\ell (1-M_i(w,w_0))_+ + \\mu \\sum\\limits_{j=1}^n |w_j| \\to \\min\\limits_{w,w_0} $\n",
    "\n",
    "Замена переменных: $u_j = \\frac12 (|w_j|+w_j)$, $v_j = \\frac12 (|w_j|-w_j)$\n",
    "\n",
    "Тогда $w_j = u_j - v_j$ и $|w_j| = u_j + v_j$\n",
    "    \n",
    "$\\begin{cases}\n",
    "\\sum\\limits_{i=1}^\\ell (1-M_i(u-v,w_0))_+ + \\mu \\sum\\limits_{j=1}^n (u_j + v_j) \\to \\min\\limits_{u,v} \\\\\n",
    "u_j \\geq 0, v_j \\geq 0, j = 1, \\dots, n \n",
    "\\end{cases}\n",
    "$\n",
    "\n",
    "чем больше $\\mu$, тем больше индексов $j$ таких, что $u_j = v_j = 0$, но тогда $w_j = 0$, то есть **признак не учитывается**."
   ]
  },
  {
   "cell_type": "markdown",
   "metadata": {
    "slideshow": {
     "slide_type": "subslide"
    }
   },
   "source": [
    "### Сравнение $L_2$ и $L_1$ регуляризации\n",
    "\n",
    "Зависимость весов $w_j$ от коэффициента $\\frac{1}{\\mu}$\n",
    "\n",
    "<div align=\"center\">\n",
    "  <table>\n",
    "    <tr>\n",
    "      <td>$L_2$ регуляризатор, $\\mu \\sum_j w_j^2$</td>\n",
    "      <td>$L_1$ регуляризатор, $\\mu \\sum_j |w_j|$</td>\n",
    "    </tr>\n",
    "    <tr>\n",
    "      <td><img src=\"images/UCI_L2.jpg\" alt=\"UCI_L2\" width=400/></td>\n",
    "      <td><img src=\"images/UCI_L1.jpg\" alt=\"UCI_L1\" width=400/></td>\n",
    "    </tr>\n",
    "  </table>\n",
    "</div>\n",
    "\n",
    "Задача из UCI: prostate cancer (диагностика рака)\n",
    "\n",
    "----\n",
    "\n",
    "_T.Hastie, R. Tibshirani, J.Friedman_. The Elements of Statistical Learning. 2001.\n"
   ]
  },
  {
   "cell_type": "markdown",
   "metadata": {
    "slideshow": {
     "slide_type": "subslide"
    }
   },
   "source": [
    "### Doubly Regularized SVM (Elastic Net SVM)\n",
    "\n",
    " $C\\sum\\limits_{i=1}^\\ell (1-M_i(w,w_0))_+ + \\mu \\sum\\limits_{j=1}^n |w_j| + \\frac12\\sum\\limits_{j=1}^n w_j^2 \\to \\min\\limits_{w,w_0}$\n",
    "\n",
    "+ Отбор признаков с параметром селективности $\\mu$: чем больше $\\mu$, тем меньше признаков останется\n",
    "+ Есть эффект группировки\n",
    "- Шумовые признаки также группируются вместе, и группы значимых признаков могут отбрасываться, когда ещё не все шумовые отброшены\n",
    "\n",
    "----\n",
    "\n",
    "Li Wang, Ji Zhu, Hui Zou. The doubly regularized support vector machine. 2006\n"
   ]
  },
  {
   "cell_type": "markdown",
   "metadata": {
    "slideshow": {
     "slide_type": "subslide"
    }
   },
   "source": [
    "### Doubly Regularized SVM (Elastic Net SVM)\n",
    "\n",
    "Elastic Net менее жёстко отбирает признаки.\n",
    "\n",
    "Зависимости весов $w_j$ от коэффициента $\\log \\frac{1}{\\mu} = -\\log \\alpha$\n",
    "\n",
    "<div align=\"center\">\n",
    "    <img src=\"images/lasso_coordinate_descent_elastic_net.png\" alt=\"lasso_coordinate_descent_elastic_net\" width=500 />\n",
    "</div>\n",
    "\n",
    "----\n",
    "\n",
    "Пример из Python SkLearn: scikitlearn.org/0.5/auto_examples/glm/plot_lasso_coordinate_descent_path.html"
   ]
  },
  {
   "cell_type": "markdown",
   "metadata": {
    "slideshow": {
     "slide_type": "subslide"
    }
   },
   "source": [
    "### Support Features Machine (SFM)\n",
    "\n",
    "$C \\sum\\limits_{i=1}^\\ell (1 - M_i(w, w_0))_+ + \\sum\\limits_{j=1}^n R_\\mu(w_j) \\to \\min\\limits_{w, w_0}$\n",
    "\n",
    "$R_\\mu(w_j) = \n",
    "\\begin{cases}\n",
    "2\\mu |w_j|, |w_j| \\leq \\mu\\\\\n",
    "\\mu^2 + w^2_j, \\geq \\mu\n",
    "\\end{cases}\n",
    "$\n",
    "\n",
    "<div align=\"center\">\n",
    "    <img src=\"images/SFM.jpg\" alt=\"SFM\" />\n",
    "</div>\n",
    "\n",
    "+ Отбор признаков с параметром селективности $\\mu$\n",
    "+ Есть эффект группировки\n",
    "+ Значимые зависимые признаки ($|w_j| > \\mu$) группируются и входят в решение совместно (как в Elastic Net)\n",
    "+ Шумовые признаки ($|w_j| < \\mu$) подавляются независимо (как в LASSO)\n",
    "\n",
    "----\n",
    "\n",
    "_Tatarchuk A., Urlov E., Mottl V., Windridge D._ A support kernel machine for supervised selective combining of diverse pattern-recognition modalities. 2010.\n"
   ]
  },
  {
   "cell_type": "markdown",
   "metadata": {
    "slideshow": {
     "slide_type": "subslide"
    }
   },
   "source": [
    "### Relevance Features Machine (RFM)\n",
    "\n",
    "$C \\sum\\limits_{i=1}^\\ell (1 - M_i(w, w_0))_+ + \\sum\\limits_{j=1}^n \\ln\\left( w_j^2 + \\frac{1}{\\mu}\\right) \\to \\min\\limits_{w, w_0}$\n",
    "\n",
    "$R(w) = \\ln (w^2 + \\frac{1}{\\mu})$ при $\\mu = \\color{green}{0.1}, \\color{blue}{1}, \\color{red}{100}$\n",
    "\n",
    "<div align=\"center\">\n",
    "    <img src=\"images/RFM.jpg\" alt=\"RFM\" />\n",
    "</div>\n",
    "\n",
    "+ Отбор признаков с параметром селективности $\\mu$: чем больше $\\mu$, тем меньше признаков останется\n",
    "+ Есть эффект группировки\n",
    "+ Лучше отбирает набор значимых признаков, когда они только совместно обеспечивают хорошее решение\n",
    "\n",
    "----\n",
    "\n",
    "Tatarchuk A., Mottl V., Eliseyev A., Windridge D. Selectivity supervision in combining pattern recognition modalities by feature- and kernel-selective Support Vector Machines. 2008.\n"
   ]
  },
  {
   "cell_type": "markdown",
   "metadata": {
    "slideshow": {
     "slide_type": "subslide"
    }
   },
   "source": [
    "### Резюме по линейным классификаторам\n",
    "\n",
    " * SVM — лучший метод линейной классификации\n",
    " * SVM изящно обобщается для нелинейной классификации, для линейной и нелинейной регрессии\n",
    " * _Аппроксимация пороговой функции потерь_ $\\mathcal{L}(M)$ увеличивает зазор и повышает качество классификации\n",
    " * _Регуляризация_ устраняет мультиколлинеарность и уменьшает переобучение, по сути она эквивалентна введению априорного распределения в пространстве коэффициентов\n",
    " * Негладкость функции потерь приводит к отбору объектов\n",
    " * Негладкость регуляризатора приводит к отбору признаков"
   ]
  }
 ],
 "metadata": {
  "celltoolbar": "Slideshow",
  "kernelspec": {
   "display_name": "Python 3",
   "language": "python",
   "name": "python3"
  },
  "language_info": {
   "codemirror_mode": {
    "name": "ipython",
    "version": 3
   },
   "file_extension": ".py",
   "mimetype": "text/x-python",
   "name": "python",
   "nbconvert_exporter": "python",
   "pygments_lexer": "ipython3",
   "version": "3.7.6"
  }
 },
 "nbformat": 4,
 "nbformat_minor": 2
}
