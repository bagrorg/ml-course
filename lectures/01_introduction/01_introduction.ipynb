{
 "cells": [
  {
   "cell_type": "markdown",
   "metadata": {
    "slideshow": {
     "slide_type": "slide"
    }
   },
   "source": [
    "<div align=\"left\">\n",
    "    <img src=\"images/logo_fmkn.png\" alt=\"logo_fmkn\" />\n",
    "</div>\n",
    "\n",
    "# Машинное обучение 1\n",
    "\n",
    "### Лекция 1. Введение: устройство курса, правила. Основные термины, постановки задач и примеры применения машинного обучения\n",
    "\n",
    "<br />\n",
    "<br />\n",
    "3 сентября 2021"
   ]
  },
  {
   "cell_type": "markdown",
   "metadata": {
    "slideshow": {
     "slide_type": "subslide"
    }
   },
   "source": [
    "### Первый data scientist\n",
    "\n",
    "|<img src=\"images/carl-gauss.jpg\" width=400>| \n",
    "|:-:|\n",
    "|Карл Фридрих Гаусс|\n",
    "|математик, механик, физик, астроном и геодезист|"
   ]
  },
  {
   "cell_type": "markdown",
   "metadata": {
    "slideshow": {
     "slide_type": "fragment"
    }
   },
   "source": [
    "В 24 года предсказал, где искать малую планету *Цереру*, скрывшуюся за Солнцем"
   ]
  },
  {
   "cell_type": "code",
   "execution_count": 1,
   "metadata": {
    "slideshow": {
     "slide_type": "skip"
    }
   },
   "outputs": [
    {
     "data": {
      "text/html": [
       "<style>\n",
       "img.rounded {\n",
       "  object-fit: cover;\n",
       "  border-radius: 50%;\n",
       "  height: 250px;\n",
       "  width: 250px;\n",
       "}\n",
       "</style>\n"
      ],
      "text/plain": [
       "<IPython.core.display.HTML object>"
      ]
     },
     "metadata": {},
     "output_type": "display_data"
    }
   ],
   "source": [
    "%%html\n",
    "<style>\n",
    "img.rounded {\n",
    "  object-fit: cover;\n",
    "  border-radius: 50%;\n",
    "  height: 250px;\n",
    "  width: 250px;\n",
    "}\n",
    "</style>"
   ]
  },
  {
   "cell_type": "markdown",
   "metadata": {
    "slideshow": {
     "slide_type": "subslide"
    }
   },
   "source": [
    "### Команда курса\n",
    "\n",
    "<table style=\"width:60%\">\n",
    "  <tr>\n",
    "    <td><div class=\"image-cropper\">\n",
    "        <img src=\"images/avalur_2018.jpg\" alt=\"type\" class=\"rounded\"/>\n",
    "        </div>\n",
    "    </td>\n",
    "    <td><ul>Александр Авдюшенко </ul>\n",
    "        <ul>МКН, ШАД (CS центр)</ul>\n",
    "    </td>\n",
    "    <td><ul>организация курса</ul>\n",
    "        <ul>часть лекций</ul>\n",
    "        <ul>практики в группе 19.Б10-мкн</ul>\n",
    "    </td>\n",
    "  </tr>\n",
    "  <tr>\n",
    "    <td><div class=\"image-cropper\">\n",
    "        <img src=\"images/gaschenko.jpg\" alt=\"type\" class=\"rounded\"/>\n",
    "        </div>\n",
    "    </td>\n",
    "    <td><ul>Екатерина Гащенко</ul>\n",
    "        <ul>выпускница МКН и CS центра, Nokia</ul>\n",
    "    </td>\n",
    "    <td><ul>практики в группе 19.Б09-мкн</ul>\n",
    "        <ul>проверка ДЗ</ul>\n",
    "    </td>\n",
    "  </tr>\n",
    "  <tr>\n",
    "    <td><div class=\"image-cropper\">\n",
    "        <img src=\"images/pmostowsky-354x400.jpg\" alt=\"type\" class=\"rounded\"/>\n",
    "        </div>\n",
    "    </td>\n",
    "    <td><ul>Петр Мостовский</ul>\n",
    "        <ul>МКН</ul>\n",
    "    </td>\n",
    "    <td><ul>часть лекций</ul>\n",
    "        <ul>практики в группе 19.Б05-мкн</ul>\n",
    "        <ul>проверка ДЗ</ul>\n",
    "    </td>\n",
    "  </tr>\n",
    "</table>\n"
   ]
  },
  {
   "cell_type": "markdown",
   "metadata": {
    "slideshow": {
     "slide_type": "subslide"
    }
   },
   "source": [
    "### Команда курса\n",
    "\n",
    "<table style=\"width:60%\">\n",
    "  <tr>\n",
    "    <td><div class=\"image-cropper\">\n",
    "        <img src=\"images/dolgov.jpg\" alt=\"type\" class=\"rounded\"/>\n",
    "        </div>\n",
    "    </td>\n",
    "    <td><ul>Иван Долгов</ul>\n",
    "        <ul>выпускник CS центра, JetBrains</ul>\n",
    "    </td>\n",
    "    <td><ul>проверка ДЗ</ul>\n",
    "    </td>\n",
    "  </tr>\n",
    "  <tr>\n",
    "    <td><div class=\"image-cropper\">\n",
    "        <img src=\"images/kudashev.jpeg\" alt=\"type\" class=\"rounded\"/>\n",
    "        </div>\n",
    "    </td>\n",
    "    <td><ul>Олег Кудашев</ul>\n",
    "        <ul>Яндекс, группа беспилотников</ul>\n",
    "    </td>\n",
    "    <td><ul>часть лекций</ul>\n",
    "        <ul>проверка ДЗ</ul>\n",
    "    </td>\n",
    "  </tr>\n",
    "  <tr>\n",
    "    <td><div class=\"image-cropper\">\n",
    "        <img src=\"images/dmitry-pavlov.jpg\" alt=\"type\" class=\"rounded\"/>\n",
    "        </div>\n",
    "    </td>\n",
    "    <td><ul>Дмитрий Павлов </ul>\n",
    "        <ul>МКН</ul>\n",
    "    </td>\n",
    "    <td><ul>часть лекций</ul>\n",
    "        <ul>проверка космического ДЗ</ul>\n",
    "    </td>\n",
    "  </tr>\n",
    "</table>\n",
    "\n",
    "\n"
   ]
  },
  {
   "cell_type": "markdown",
   "metadata": {
    "slideshow": {
     "slide_type": "subslide"
    }
   },
   "source": [
    "### О курсе\n",
    "\n",
    "#### Аннотация\n",
    "Объемный годовой курс, в котором подробно рассматриваются простейшие модели машинного обучения.\n",
    "\n",
    "Такой подход позволяет осознать основные принципы данной области в целом. Знание этих принципов даст возможность самостоятельно понимать механизмы функционирования более сложных современных моделей, обнаруживать пути улучшения уже существующих алгоритмов, а также адаптировать методы машинного обучения для решения нестандартных задач.\n",
    "\n",
    "#### Пререквизиты\n",
    " * Математический анализ, годовой курс\n",
    " * Алгебра, годовой курс\n",
    " * Теория вероятностей\n",
    " * Математическая статистика\n",
    " * Программирование: базовое владение языком программирования Python (ввод-вывод, циклы, рекурсия, классы, функции)\n",
    "  "
   ]
  },
  {
   "cell_type": "markdown",
   "metadata": {
    "slideshow": {
     "slide_type": "subslide"
    }
   },
   "source": [
    "#### Где понадобится\n",
    " * Более узкоспециализированные курсы по машинному обучению\n",
    " * Научная работа в области машинного обучения\n",
    " * В собеседованиях на ML-секциях\n",
    " * В работе на должности Data Scientist, Machine Learning Engineer, Machine Learning Researcher\n",
    "\n",
    "#### Содержание первого семестра\n",
    " * Постановки задач машинного обучения\n",
    " * Линейные методы классификации и регрессии\n",
    " * Логические методы классификации\n",
    " * Метрические методы классификации и регрессии\n",
    " * Метрики качества, обобщающая способность\n",
    " * Методы отбора признаков\n",
    " * Основы байесовских методов\n"
   ]
  },
  {
   "cell_type": "markdown",
   "metadata": {
    "slideshow": {
     "slide_type": "subslide"
    }
   },
   "source": [
    "#### Вы научитесь\n",
    " * ориентироваться в обширной области машинного обучения\n",
    " * понимать на базовом уровне принципы устройства различных методов\n",
    " * формализовывать задачи на языке обучения моделей\n",
    " * понимать преимущества и недостатки моделей\n",
    " * реализовывать базовые модели на языке программирования Python\n",
    " * азам использования таких библиотек языка программирования Python, как numpy, matplotlib и pandas\n",
    " * бороться с проблемами, которые возникают при обучении моделей\n"
   ]
  },
  {
   "cell_type": "markdown",
   "metadata": {
    "slideshow": {
     "slide_type": "subslide"
    }
   },
   "source": [
    "### Домашние задания\n",
    "<table style=\"width:100%\">\n",
    "  <tr>\n",
    "    <th>№ п.п.</th>\n",
    "    <th>Тема</th>\n",
    "    <th>Тип</th>\n",
    "    <th>Старт</th>\n",
    "    <th>Финиш</th>\n",
    "    <th>Баллы</th>\n",
    "    <th>Оценочное время выполнения</th>\n",
    "  </tr>\n",
    "  <tr>\n",
    "    <td>1</td>\n",
    "    <td>numpy, pandas</td>\n",
    "    <td>практика</td>\n",
    "    <td>3 сентября</td>\n",
    "    <td>18 сентября</td>\n",
    "    <td>14</td>\n",
    "    <td>10 часов</td>            \n",
    "  </tr>\n",
    "  <tr>\n",
    "    <td>2</td>\n",
    "    <td>Логические методы</td>\n",
    "    <td>теория</td>\n",
    "    <td>17 сентября</td>\n",
    "    <td>2 октября</td>\n",
    "    <td>10</td>\n",
    "    <td>8 часов</td>\n",
    "    </tr>\n",
    "  <tr>\n",
    "    <td>3</td>\n",
    "    <td>Решающие деревья</td>\n",
    "    <td>практика</td>\n",
    "    <td>17 сентября</td> \n",
    "    <td>9 октября</td>\n",
    "    <td>14</td>\n",
    "    <td>10 часов</td>\n",
    "  </tr>\n",
    "  <tr>\n",
    "    <td>4</td>\n",
    "    <td>Градиентный спуск своими руками</td>\n",
    "    <td>практика</td>\n",
    "    <td>1 октября</td>\n",
    "    <td>19 октября</td>\n",
    "    <td>14</td>\n",
    "    <td>10 часов</td>\n",
    "  </tr>\n",
    "  <tr>\n",
    "    <td>5</td>\n",
    "    <td>Соревнование по классификации</td>\n",
    "    <td>сорева</td>\n",
    "    <td>1 октября</td>\n",
    "    <td>13 ноября</td>\n",
    "    <td>24</td>\n",
    "    <td>20 часов</td>\n",
    "  </tr>\n",
    "  <tr>\n",
    "    <td>6</td>\n",
    "    <td>Космическое ДЗ</td>  \n",
    "    <td>практика</td>\n",
    "    <td>15 октября</td>\n",
    "    <td>4 ноября</td>\n",
    "    <td>24</td>\n",
    "    <td>20 часов</td>\n",
    "  </tr>\n",
    "  <tr>\n",
    "    <td>7</td>\n",
    "    <td>kNN, SVM, оценка качества</td>\n",
    "    <td>теория</td>\n",
    "    <td>22 октября</td>\n",
    "    <td>17 ноября</td>\n",
    "    <td>12</td>\n",
    "    <td>10 часов</td>\n",
    "  </tr>\n",
    "  <tr>\n",
    "    <td>8</td>\n",
    "    <td>Нейронная сеть на numpy</td>\n",
    "    <td>практика</td>\n",
    "    <td>19 ноября</td>\n",
    "    <td>11 декабря</td>\n",
    "    <td>24</td>\n",
    "    <td>16 часов</td>\n",
    "  </tr>\n",
    "</table>\n",
    "\n",
    "Экзамен в форме собеседования по машинному обучению — 24 балла\n",
    "\n",
    "Ещё бонусные пятиминутки в начале лекции — можно получить по 1 баллу за каждую!\n"
   ]
  },
  {
   "cell_type": "markdown",
   "metadata": {
    "slideshow": {
     "slide_type": "subslide"
    }
   },
   "source": [
    "### Критерии оценок\n",
    "\n",
    "Итого максимально можно набрать 160 баллов = 90 (практические) + 22 (теоретические) + 24 (соревнование) + 24 (экзамен)\n",
    "\n",
    " * «зачет» — не менее 81 балла\n",
    " * 82 .. «хорошо» .. 111\n",
    " * «отлично» — не менее 112\n"
   ]
  },
  {
   "cell_type": "markdown",
   "metadata": {
    "slideshow": {
     "slide_type": "subslide"
    }
   },
   "source": [
    "### Другие курсы по машинному обучению\n",
    "\n",
    "<table style=\"width:80%\">\n",
    "  <tr>\n",
    "    <td><div class=\"image-cropper\">\n",
    "        <img src=\"images/vorontsovface.jpg\" alt=\"type\" class=\"rounded\"/>\n",
    "        </div>\n",
    "    </td>\n",
    "    <td>Воронцов Константин Вячеславович\n",
    "        <ol>Профессор РАН</ol>\n",
    "        <ol>Доктор физико-математических наук</ol>\n",
    "        <ol>Руководитель лаборатории машинного интеллекта МФТИ</ol>\n",
    "        <ol>Преподаватель <a href=\"https://yandexdataschool.ru/education\">Школы анализа данных (ШАД)</a></ol>\n",
    "    </td>\n",
    "    <td><ol>Курс машинного обучения в ШАД и МФТИ</ol>\n",
    "        <ol>самый близкий к нашему</ol>\n",
    "        <ol>лекции Воронцова <a href=\"https://www.youtube.com/playlist?list=PLJOzdkh8T5krxc4HsHbB8g8f0hu7973fK\">на youtube</a></ol>\n",
    "    </td>\n",
    "  </tr>\n",
    "  <tr>\n",
    "    <td><div class=\"image-cropper\">\n",
    "        <img src=\"images/sokolov.jpg\" alt=\"type\" class=\"rounded\"/>\n",
    "        </div>\n",
    "    </td>\n",
    "    <td>Соколов Евгений Андреевич\n",
    "        <ol>Научный руководитель Центра непрерывного образования ВШЭ</ol>\n",
    "        <ol>Академический руководитель образовательной программы Прикладная математика и информатика</ol>\n",
    "        <ol>Старший преподаватель факультета компьютерных наук ВШЭ</ol>\n",
    "    </td>\n",
    "    <td><ol>Курс машинного обучения ФКН ВШЭ</ol>\n",
    "        <ol>несколько аналогичных домашних заданий</ol>\n",
    "        <ol>курс Соколова <a href=\"https://github.com/esokolov/ml-course-hse\">на github</a></ol> \n",
    "    </td>\n",
    "  </tr>\n",
    "</table>\n"
   ]
  },
  {
   "cell_type": "markdown",
   "metadata": {
    "slideshow": {
     "slide_type": "subslide"
    }
   },
   "source": [
    "<table style=\"width:80%\">\n",
    "  <tr>\n",
    "    <td><div class=\"image-cropper\">\n",
    "        <img src=\"images/kashnitsky.jpeg\" alt=\"type\" class=\"rounded\"/>\n",
    "        </div>\n",
    "    </td>\n",
    "    <td>Кашницкий Юрий\n",
    "        <ol>Senior Machine Learning Scientist</ol>\n",
    "        <ol>NLP practitioner</ol>\n",
    "        <ol>Ph.D. in applied math</ol>\n",
    "    </td>\n",
    "    <td><ol>Курс машинного обучения от Open Data Science</ol>\n",
    "        <ol>страница <a href=\"https://mlcourse.ai/\">курса</a></ol> \n",
    "    </td>\n",
    "  </tr>\n",
    "  <tr>\n",
    "    <td><div class=\"image-cropper\">\n",
    "        <img src=\"images/Andrew-Ng.jpg\" alt=\"type\" class=\"rounded\"/>\n",
    "        </div>\n",
    "    </td>\n",
    "    <td>Andrew Ng\n",
    "        <ol>American computer scientist and technology entrepreneur focusing on ML</ol> \n",
    "        <ol>One of Coursera founders</ol>\n",
    "        <ol>Adjunct professor at Stanford University</ol>\n",
    "    </td>\n",
    "    <td><ol>страница курса <a href=\"https://coursera.org/learn/machine-learning\">на Coursera</a></ol>\n",
    "    </td>\n",
    "  </tr>\n",
    "</table>"
   ]
  },
  {
   "cell_type": "markdown",
   "metadata": {
    "slideshow": {
     "slide_type": "subslide"
    }
   },
   "source": [
    "_Материал из Википедии — свободной энциклопедии_\n",
    "\n",
    "**Машинное обучение** (англ. machine learning, ML) — класс методов искусственного интеллекта, характерной чертой которых является не прямое решение задачи, а обучение за счёт применения решений множества сходных задач. \n"
   ]
  },
  {
   "cell_type": "markdown",
   "metadata": {
    "slideshow": {
     "slide_type": "fragment"
    }
   },
   "source": [
    "Для построения таких методов используются средства математической статистики, численных методов, математического анализа, методов оптимизации, теории вероятностей, теории графов, различные техники работы с данными в цифровой форме."
   ]
  },
  {
   "cell_type": "markdown",
   "metadata": {
    "slideshow": {
     "slide_type": "subslide"
    }
   },
   "source": [
    "Что это?\n",
    "\n",
    "$$\\begin{cases}\n",
    "\\frac{\\partial \\rho}{\\partial t} + \\frac{\\partial(\\rho u_{i})}{\\partial x_{i}} = 0 \\\\\n",
    "\\frac{\\partial (\\rho u_{i})}{\\partial t} + \\frac{\\partial[\\rho u_{i}u_{j}]}{\\partial x_{j}} = -\\frac{\\partial p}{\\partial x_{i}} + \\frac{\\partial \\tau_{ij}}{\\partial x_{j}} + \\rho f_{i} \n",
    "\\end{cases}\n",
    "$$"
   ]
  },
  {
   "cell_type": "markdown",
   "metadata": {
    "slideshow": {
     "slide_type": "fragment"
    }
   },
   "source": [
    "В машинном обучении нет предзаданной модели с уравнениями..."
   ]
  },
  {
   "cell_type": "markdown",
   "metadata": {
    "slideshow": {
     "slide_type": "subslide"
    }
   },
   "source": [
    " * Различают два типа обучения:\n",
    "    - Обучение по прецедентам (обучение с учителем), или индуктивное обучение, основано на выявлении эмпирических закономерностей в данных.\n",
    "    - Дедуктивное обучение предполагает формализацию знаний экспертов и их перенос в компьютер в виде базы знаний.\n",
    "\n",
    " * Дедуктивное обучение принято относить к области _экспертных систем_ , поэтому _машинное обучение_ ~ _обучение по прецедентам_.\n",
    "\n",
    " * Многие методы машинного обучения разрабатывались как альтернатива классическим статистическим подходам. Многие методы тесно связаны с извлечением информации (англ. information extraction, information retrieval), интеллектуальным анализом данных (data mining)."
   ]
  },
  {
   "cell_type": "markdown",
   "metadata": {
    "slideshow": {
     "slide_type": "subslide"
    }
   },
   "source": [
    "<div align=\"left\">\n",
    "    <img src=\"images/ds_ml_google_trends.jpg\" alt=\"logo_fmkn\" />\n",
    "</div>"
   ]
  },
  {
   "cell_type": "markdown",
   "metadata": {
    "slideshow": {
     "slide_type": "slide"
    }
   },
   "source": [
    "### Основные обозначения\n",
    "\n",
    "$X$ — множество объектов <br>\n",
    "$Y$ — множество ответов\n",
    "\n",
    "$y: X \\to Y$ — неизвестная зависимость (target function)\n",
    "\n",
    "Задача по обучающей выборке (training sample) $\\{x_1,\\dots,x_\\ell\\} \\subset X$ \n",
    "\n",
    "с известными ответами $y_i=y(x_i)$ <br> \n",
    "найти <br>\n",
    "$a: X \\to Y$ — алгоритм, <br>\n",
    "решающую функцию (decision function), приближающую $y$ на всём множестве $X$\n"
   ]
  },
  {
   "cell_type": "markdown",
   "metadata": {
    "slideshow": {
     "slide_type": "fragment"
    }
   },
   "source": [
    "Весь курс машинного обучения про это:\n",
    " * как задаются объекты $x_i$ и какими могут быть ответы $y_i$\n",
    " * в каком смысле «$a$ приближает $y$»\n",
    " * как строить функцию $a$ "
   ]
  },
  {
   "cell_type": "markdown",
   "metadata": {
    "slideshow": {
     "slide_type": "subslide"
    }
   },
   "source": [
    "### Объекты и их признаки (features)"
   ]
  },
  {
   "cell_type": "markdown",
   "metadata": {
    "slideshow": {
     "slide_type": "-"
    }
   },
   "source": [
    "$f_j: X \\to D_j$ \n",
    "\n",
    "Вектор $(f_1(x), \\dots, f_n(x))$ — признаковое описание объекта $x$\n",
    "\n",
    "Типы признаков:\n",
    " * $D_j = \\{0, 1\\}$ — бинарный\n",
    " * $\\#|D_j| < \\infty $ — категориальный (номинальный)\n",
    " * $\\#|D_j| < \\infty, D_j$ упорядочено — ординальный (порядковый)\n",
    " * $D_j = \\mathbb{R}$ — вещественный (количественный)\n",
    "\n",
    "Матрица «объекты-признаки» (feature data)\n",
    "\n",
    "$F = ||f_j(x_i)||_{\\ell\\times n} = \\left[ {\\begin{array}{ccc}\n",
    "   f_1(x_1) & \\dots & f_n(x_1) \\\\\n",
    "     \\dots  & \\dots &   \\dots  \\\\\n",
    "   f_1(x_\\ell) & \\dots & f_n(x_\\ell)\n",
    "  \\end{array} } \\right]$"
   ]
  },
  {
   "cell_type": "markdown",
   "metadata": {
    "slideshow": {
     "slide_type": "subslide"
    }
   },
   "source": [
    "<div class=\"alert alert-info\">\n",
    "<b>Вопрос 1:</b> Как перевести все признаки в бинарные?\n",
    "</div>"
   ]
  },
  {
   "cell_type": "code",
   "execution_count": 1,
   "metadata": {
    "slideshow": {
     "slide_type": "subslide"
    }
   },
   "outputs": [
    {
     "data": {
      "text/html": [
       "<div>\n",
       "<style scoped>\n",
       "    .dataframe tbody tr th:only-of-type {\n",
       "        vertical-align: middle;\n",
       "    }\n",
       "\n",
       "    .dataframe tbody tr th {\n",
       "        vertical-align: top;\n",
       "    }\n",
       "\n",
       "    .dataframe thead th {\n",
       "        text-align: right;\n",
       "    }\n",
       "</style>\n",
       "<table border=\"1\" class=\"dataframe\">\n",
       "  <thead>\n",
       "    <tr style=\"text-align: right;\">\n",
       "      <th></th>\n",
       "      <th>CRIM</th>\n",
       "      <th>ZN</th>\n",
       "      <th>INDUS</th>\n",
       "      <th>CHAS</th>\n",
       "      <th>NOX</th>\n",
       "      <th>RM</th>\n",
       "      <th>AGE</th>\n",
       "      <th>DIS</th>\n",
       "      <th>RAD</th>\n",
       "      <th>TAX</th>\n",
       "      <th>PTRATIO</th>\n",
       "      <th>B</th>\n",
       "      <th>LSTAT</th>\n",
       "      <th>target</th>\n",
       "    </tr>\n",
       "  </thead>\n",
       "  <tbody>\n",
       "    <tr>\n",
       "      <th>0</th>\n",
       "      <td>0.00632</td>\n",
       "      <td>18.0</td>\n",
       "      <td>2.31</td>\n",
       "      <td>0.0</td>\n",
       "      <td>0.538</td>\n",
       "      <td>6.575</td>\n",
       "      <td>65.2</td>\n",
       "      <td>4.0900</td>\n",
       "      <td>1.0</td>\n",
       "      <td>296.0</td>\n",
       "      <td>15.3</td>\n",
       "      <td>396.90</td>\n",
       "      <td>4.98</td>\n",
       "      <td>24.0</td>\n",
       "    </tr>\n",
       "    <tr>\n",
       "      <th>1</th>\n",
       "      <td>0.02731</td>\n",
       "      <td>0.0</td>\n",
       "      <td>7.07</td>\n",
       "      <td>0.0</td>\n",
       "      <td>0.469</td>\n",
       "      <td>6.421</td>\n",
       "      <td>78.9</td>\n",
       "      <td>4.9671</td>\n",
       "      <td>2.0</td>\n",
       "      <td>242.0</td>\n",
       "      <td>17.8</td>\n",
       "      <td>396.90</td>\n",
       "      <td>9.14</td>\n",
       "      <td>21.6</td>\n",
       "    </tr>\n",
       "    <tr>\n",
       "      <th>2</th>\n",
       "      <td>0.02729</td>\n",
       "      <td>0.0</td>\n",
       "      <td>7.07</td>\n",
       "      <td>0.0</td>\n",
       "      <td>0.469</td>\n",
       "      <td>7.185</td>\n",
       "      <td>61.1</td>\n",
       "      <td>4.9671</td>\n",
       "      <td>2.0</td>\n",
       "      <td>242.0</td>\n",
       "      <td>17.8</td>\n",
       "      <td>392.83</td>\n",
       "      <td>4.03</td>\n",
       "      <td>34.7</td>\n",
       "    </tr>\n",
       "    <tr>\n",
       "      <th>3</th>\n",
       "      <td>0.03237</td>\n",
       "      <td>0.0</td>\n",
       "      <td>2.18</td>\n",
       "      <td>0.0</td>\n",
       "      <td>0.458</td>\n",
       "      <td>6.998</td>\n",
       "      <td>45.8</td>\n",
       "      <td>6.0622</td>\n",
       "      <td>3.0</td>\n",
       "      <td>222.0</td>\n",
       "      <td>18.7</td>\n",
       "      <td>394.63</td>\n",
       "      <td>2.94</td>\n",
       "      <td>33.4</td>\n",
       "    </tr>\n",
       "    <tr>\n",
       "      <th>4</th>\n",
       "      <td>0.06905</td>\n",
       "      <td>0.0</td>\n",
       "      <td>2.18</td>\n",
       "      <td>0.0</td>\n",
       "      <td>0.458</td>\n",
       "      <td>7.147</td>\n",
       "      <td>54.2</td>\n",
       "      <td>6.0622</td>\n",
       "      <td>3.0</td>\n",
       "      <td>222.0</td>\n",
       "      <td>18.7</td>\n",
       "      <td>396.90</td>\n",
       "      <td>5.33</td>\n",
       "      <td>36.2</td>\n",
       "    </tr>\n",
       "  </tbody>\n",
       "</table>\n",
       "</div>"
      ],
      "text/plain": [
       "      CRIM    ZN  INDUS  CHAS    NOX     RM   AGE     DIS  RAD    TAX  \\\n",
       "0  0.00632  18.0   2.31   0.0  0.538  6.575  65.2  4.0900  1.0  296.0   \n",
       "1  0.02731   0.0   7.07   0.0  0.469  6.421  78.9  4.9671  2.0  242.0   \n",
       "2  0.02729   0.0   7.07   0.0  0.469  7.185  61.1  4.9671  2.0  242.0   \n",
       "3  0.03237   0.0   2.18   0.0  0.458  6.998  45.8  6.0622  3.0  222.0   \n",
       "4  0.06905   0.0   2.18   0.0  0.458  7.147  54.2  6.0622  3.0  222.0   \n",
       "\n",
       "   PTRATIO       B  LSTAT  target  \n",
       "0     15.3  396.90   4.98    24.0  \n",
       "1     17.8  396.90   9.14    21.6  \n",
       "2     17.8  392.83   4.03    34.7  \n",
       "3     18.7  394.63   2.94    33.4  \n",
       "4     18.7  396.90   5.33    36.2  "
      ]
     },
     "execution_count": 1,
     "metadata": {},
     "output_type": "execute_result"
    }
   ],
   "source": [
    "import pandas as pd\n",
    "from sklearn.datasets import load_boston\n",
    "\n",
    "boston_house_prices = load_boston()\n",
    "\n",
    "X = pd.DataFrame(data=boston_house_prices.data,\n",
    "                 columns=boston_house_prices.feature_names)\n",
    "Y = pd.DataFrame(data=boston_house_prices.target,\n",
    "                 columns=[\"target\"])\n",
    "\n",
    "pd.concat([X, Y], axis=1).head()"
   ]
  },
  {
   "cell_type": "code",
   "execution_count": 2,
   "metadata": {
    "slideshow": {
     "slide_type": "subslide"
    }
   },
   "outputs": [
    {
     "name": "stdout",
     "output_type": "stream",
     "text": [
      ".. _boston_dataset:\n",
      "\n",
      "Boston house prices dataset\n",
      "---------------------------\n",
      "\n",
      "**Data Set Characteristics:**  \n",
      "\n",
      "    :Number of Instances: 506 \n",
      "\n",
      "    :Number of Attributes: 13 numeric/categorical predictive. Median Value (attribute 14) is usually the target.\n",
      "\n",
      "    :Attribute Information (in order):\n",
      "        - CRIM     per capita crime rate by town\n",
      "        - ZN       proportion of residential land zoned for lots over 25,000 sq.ft.\n",
      "        - INDUS    proportion of non-retail business acres per town\n",
      "        - CHAS     Charles River dummy variable (= 1 if tract bounds river; 0 otherwise)\n",
      "        - NOX      nitric oxides concentration (parts per 10 million)\n",
      "        - RM       average number of rooms per dwelling\n",
      "        - AGE      proportion of owner-occupied units built prior to 1940\n",
      "        - DIS      weighted distances to five Boston employment centres\n",
      "        - RAD      index of accessibility to radial highways\n",
      "        - TAX      full-value property-tax rate per $10,000\n",
      "        - PTRATIO  pupil-teacher ratio by town\n",
      "        - B        1000(Bk - 0.63)^2 where Bk is the proportion of blacks by town\n",
      "        - LSTAT    % lower status of the population\n",
      "        - MEDV     Median value of owner-occupied homes in $1000's\n",
      "\n",
      "    :Missing Attribute Values: None\n",
      "\n",
      "    :Creator: Harrison, D. and Rubinfeld, D.L.\n",
      "\n",
      "This is a copy of UCI ML housing dataset.\n",
      "https://archive.ics.uci.edu/ml/machine-learning-databases/housing/\n",
      "\n",
      "\n",
      "This dataset was taken from the StatLib library which is maintained at Carnegie Mellon University.\n",
      "\n",
      "The Boston house-price data of Harrison, D. and Rubinfeld, D.L. 'Hedonic\n",
      "prices and the demand for clean air', J. Environ. Economics & Management,\n",
      "vol.5, 81-102, 1978.   Used in Belsley, Kuh & Welsch, 'Regression diagnostics\n",
      "...', Wiley, 1980.   N.B. Various transformations are used in the table on\n",
      "pages 244-261 of the latter.\n",
      "\n",
      "The Boston house-price data has been used in many machine learning papers that address regression\n",
      "problems.   \n",
      "     \n",
      ".. topic:: References\n",
      "\n",
      "   - Belsley, Kuh & Welsch, 'Regression diagnostics: Identifying Influential Data and Sources of Collinearity', Wiley, 1980. 244-261.\n",
      "   - Quinlan,R. (1993). Combining Instance-Based and Model-Based Learning. In Proceedings on the Tenth International Conference of Machine Learning, 236-243, University of Massachusetts, Amherst. Morgan Kaufmann.\n",
      "\n"
     ]
    }
   ],
   "source": [
    "print(boston_house_prices.DESCR)"
   ]
  },
  {
   "cell_type": "markdown",
   "metadata": {
    "slideshow": {
     "slide_type": "subslide"
    }
   },
   "source": [
    "###  Типы задач\n",
    "\n",
    "#### Классификация (classification)\n",
    " * $Y = \\{-1, +1\\}$ — бинарная классификация\n",
    " * $Y = \\{1, \\dots, M\\}$ —  многоклассовая классификация\n",
    " * $Y = \\{0, 1\\}^M$ —  многоклассовая с пересекающимися классами\n",
    "\n",
    "#### Регрессия (regression)\n",
    " * $Y = \\mathbb{R}$ или $Y = \\mathbb{R}^m$\n",
    "\n",
    "#### Ранжирование (ranking)\n",
    " * $Y$ — конечное упорядоченное множество\n"
   ]
  },
  {
   "cell_type": "markdown",
   "metadata": {
    "slideshow": {
     "slide_type": "subslide"
    }
   },
   "source": [
    "###  Предсказательная модель\n",
    "\n",
    "Модель (predictive model) — параметрическое семейство функций\n",
    "\n",
    "$A = \\{g(x, \\theta) | \\theta \\in \\Theta\\}$,\n",
    "\n",
    "где $g: X \\times \\Theta \\to Y$ — фиксированная функция, $\\Theta$ — множество допустимых значений параметра $\\theta$\n",
    "\n",
    "#### Например\n",
    "Линейная модель с вектором параметров $\\theta = (\\theta_1, \\dots, \\theta_n), \\Theta = \\mathbb{R}^n$:\n",
    "\n",
    "$g(x, \\theta) = \\sum\\limits_{j=1}^n \\theta_jf_j(x)$ — для регрессии и ранжирования, $Y = \\mathbb{R}$\n",
    "\n",
    "$g(x, \\theta) = \\mathrm{sign}\\sum\\limits_{j=1}^n \\theta_jf_j(x)$ — для классификации, $Y = \\{-1, +1\\}$\n"
   ]
  },
  {
   "cell_type": "markdown",
   "metadata": {
    "slideshow": {
     "slide_type": "subslide"
    }
   },
   "source": [
    "### Пример: задача регрессии, синтетические данные\n",
    "\n",
    "$X = Y = \\mathbb{R}$, \n",
    "\n",
    "$l = 50$, \n",
    "\n",
    "$n = 3$ признака: $\\{1, x, x^2\\}$ или $\\{1, x, \\sin x\\}$"
   ]
  },
  {
   "cell_type": "code",
   "execution_count": 3,
   "metadata": {
    "slideshow": {
     "slide_type": "subslide"
    }
   },
   "outputs": [],
   "source": [
    "import numpy as np\n",
    "\n",
    "np.random.seed(0)\n",
    "l = 50\n",
    "\n",
    "x = np.linspace(0, 30, num=l)\n",
    "Y = x + 4*np.sin(x) + 3*np.random.randn(l)\n",
    "\n",
    "X_1 = np.vstack([np.ones_like(x), x, x**2]).T\n",
    "X_2 = np.vstack([np.ones_like(x), x, np.sin(x)]).T"
   ]
  },
  {
   "cell_type": "code",
   "execution_count": 4,
   "metadata": {
    "slideshow": {
     "slide_type": "subslide"
    }
   },
   "outputs": [
    {
     "data": {
      "image/png": "[encoded data removed]",
      "text/plain": [
       "<Figure size 432x288 with 1 Axes>"
      ]
     },
     "metadata": {
      "needs_background": "light"
     },
     "output_type": "display_data"
    }
   ],
   "source": [
    "import matplotlib.pyplot as plt\n",
    "\n",
    "_, ax = plt.subplots()\n",
    "\n",
    "ax.set_xlabel('x')\n",
    "ax.set_ylabel('Y')\n",
    "\n",
    "ax.plot(x, Y, '.', label='train points')\n",
    "\n",
    "x_plot = np.linspace(0, 30, num=1000)\n",
    "ax.plot(x_plot, x_plot + 4*np.sin(x_plot), label='real')\n",
    "\n",
    "plt.legend(loc='best')\n",
    "plt.show()"
   ]
  },
  {
   "cell_type": "code",
   "execution_count": 5,
   "metadata": {
    "slideshow": {
     "slide_type": "subslide"
    }
   },
   "outputs": [
    {
     "data": {
      "text/plain": [
       "LinearRegression(copy_X=True, fit_intercept=False, n_jobs=None, normalize=False)"
      ]
     },
     "execution_count": 5,
     "metadata": {},
     "output_type": "execute_result"
    }
   ],
   "source": [
    "from sklearn.linear_model import LinearRegression\n",
    "\n",
    "reg_1 = LinearRegression(fit_intercept=False)\n",
    "reg_1.fit(X_1, Y)\n",
    "\n",
    "reg_2 = LinearRegression(fit_intercept=False)\n",
    "reg_2.fit(X_2, Y)"
   ]
  },
  {
   "cell_type": "markdown",
   "metadata": {
    "slideshow": {
     "slide_type": "fragment"
    }
   },
   "source": [
    "<div class=\"alert alert-info\">\n",
    "<b>Вопрос 2:</b> Что такое intercept?\n",
    "</div>"
   ]
  },
  {
   "cell_type": "code",
   "execution_count": 6,
   "metadata": {
    "slideshow": {
     "slide_type": "subslide"
    }
   },
   "outputs": [
    {
     "data": {
      "image/png": "[encoded data removed]",
      "text/plain": [
       "<Figure size 432x288 with 1 Axes>"
      ]
     },
     "metadata": {
      "needs_background": "light"
     },
     "output_type": "display_data"
    }
   ],
   "source": [
    "_, ax = plt.subplots()\n",
    "ax.set_xlabel('x')\n",
    "ax.set_ylabel('Y')\n",
    "ax.plot(x, Y, '.', label='train points')\n",
    "\n",
    "x_plot = np.linspace(0, 30, num=1000)\n",
    "X_plot = np.vstack([np.ones_like(x_plot), x_plot, np.sin(x_plot)]).T\n",
    "ax.plot(x_plot, reg_1.predict(X_plot), label='{1, x, x^2}', linestyle='dashed')\n",
    "ax.plot(x_plot, reg_2.predict(X_plot), label='{1, x, sin(x)}')\n",
    "\n",
    "plt.legend(loc='best')\n",
    "plt.show()"
   ]
  },
  {
   "cell_type": "markdown",
   "metadata": {
    "slideshow": {
     "slide_type": "subslide"
    }
   },
   "source": [
    "###  Этап _обучения_ (train)\n",
    "\n",
    "метод $\\mu$ по выборке $(X, Y) = (x_i, y_i)_{i=1}^\\ell$ строит алгоритм $a = \\mu(X, Y)$\n",
    "\n",
    "$\n",
    "\\boxed{\n",
    "\\left[ {\\begin{array}{ccc}\n",
    "   f_1(x_1) & \\dots & f_n(x_1) \\\\\n",
    "     \\dots  & \\dots &   \\dots  \\\\\n",
    "   f_1(x_\\ell) & \\dots & f_n(x_\\ell)\n",
    "  \\end{array} } \\right]\n",
    "\\xrightarrow{y}\n",
    "\\left[ {\\begin{array}{c}\n",
    "y_1 \\\\ \\dots \\\\ y_\\ell \\end{array} }\\right]\n",
    "\\thinspace}\n",
    "\\xrightarrow{\\mu} a\n",
    "$\n",
    "\n",
    "###  Этап _применения_ (test)\n",
    "\n",
    "алгоритм $a$ для новых объектов $x_i^\\prime$ выдаёт ответы $a(x_i^\\prime)$"
   ]
  },
  {
   "cell_type": "markdown",
   "metadata": {
    "slideshow": {
     "slide_type": "subslide"
    }
   },
   "source": [
    "### Функционалы качества\n",
    "\n",
    "$\\mathcal{L}(a, x)$ — функция потерь (loss function). Величина ошибки алгоритма $a \\in A$ на объекте $x \\in X$.\n",
    "\n",
    "**Функции потерь для задач классификации:**\n",
    " * $\\mathcal{L}(a, x) = [a(x)\\neq y(x)]$  —  индикатор ошибки\n",
    " \n",
    "**Функции потерь для задач регрессии:**\n",
    " * $\\mathcal{L}(a, x) = |a(x) - y(x)|$ — абсолютное значение ошибки\n",
    " * $\\mathcal{L}(a, x) = (a(x) - y(x))^2$ — квадратичная ошибка\n",
    "\n",
    "_Эмпирический риск_ – функционал качества алгоритма $a$ на $X^\\ell$:\n",
    "\n",
    "$Q(a, X^\\ell) = \\frac{1}{\\ell} \\sum\\limits_{i=1}^\\ell \\mathcal{L}(a, x_i)$\n"
   ]
  },
  {
   "cell_type": "markdown",
   "metadata": {
    "slideshow": {
     "slide_type": "slide"
    }
   },
   "source": [
    "### Сведение задачи обучения к задаче оптимизации\n",
    "\n"
   ]
  },
  {
   "cell_type": "markdown",
   "metadata": {
    "slideshow": {
     "slide_type": "fragment"
    }
   },
   "source": [
    "Метод минимизации эмпирического риска\n",
    "\n",
    "$\\mu(X^\\ell) = \\arg\\min\\limits_{a \\in A} Q(a, X^\\ell)$\n",
    "\n",
    "**Пример:** метод наименьших квадратов ($Y = \\mathbb{R}, \\mathcal{L}$ квадратична)\n",
    "\n",
    "$\\mu(X^\\ell) = \\arg\\min\\limits_{\\theta} \\sum\\limits_{i=1}^{\\ell} (g(x_i, \\theta) - y_i)^2$\n",
    "\n",
    "**Проблема обобщающей способности**\n",
    " * Найдём ли мы «закон природы» или переобучимся, то есть подгоним функцию $g(x_i, \\theta)$ под заданные точки?\n",
    " * Будет ли $a = \\mu(X^\\ell)$ приближать функцию $y$ на всём $X$?\n",
    " * Будет ли $Q(a, X^k)$ мало́ на новых данных — контрольной выборке $X^k = (x_i^\\prime, y_i^\\prime)_{i=1}^k$, $y_i^\\prime = y(x_i)$?"
   ]
  },
  {
   "cell_type": "markdown",
   "metadata": {
    "slideshow": {
     "slide_type": "subslide"
    }
   },
   "source": [
    "### Пример переобучения\n"
   ]
  },
  {
   "cell_type": "markdown",
   "metadata": {
    "slideshow": {
     "slide_type": "fragment"
    }
   },
   "source": [
    "Зависимость $y(x) = \\frac{1}{1+25x^2}$ на отрезке $x \\in \\left[-2, 2\\right]$\n",
    "\n",
    "Признаковое описание $x \\to (1, x, x^2, \\dots, x^n)$\n",
    "\n",
    "**Модель полиномиальной регрессии**:\n",
    "\n",
    "$a(x, \\theta) = \\theta_0 + \\theta_1 x + \\dots + \\theta_n x^n$ — полином степени $n$\n",
    "\n",
    "**Обучение методом наименьших квадратов**:\n",
    "\n",
    "$Q(\\theta, X^\\ell) = \\sum\\limits_{i=1}^\\ell (\\theta_0 + \\theta_1 x_i + \\dots + \\theta_n x_i^n - y_i)^2 \\to \\min\\limits_{\\theta_0,\\dots,\\theta_n}$\n",
    "\n",
    "Обучающая выборка: $X^\\ell = \\{x_i = 4\\frac{i-1}{\\ell-1} - 2 | i = 1, \\dots, \\ell \\}$\n",
    "\n",
    "Контрольная выборка: $X^k = \\{x_i = 4\\frac{i-0.5}{\\ell-1} - 2 | i = 1, \\dots, \\ell-1 \\}$\n",
    "\n",
    "\n",
    "Что происходит с $Q(\\theta, X^\\ell)$ и $Q(\\theta, X^k)$ при увеличении $n$?\n"
   ]
  },
  {
   "cell_type": "code",
   "execution_count": 5,
   "metadata": {
    "slideshow": {
     "slide_type": "subslide"
    }
   },
   "outputs": [],
   "source": [
    "import numpy as np\n",
    "\n",
    "np.random.seed(0)\n",
    "l = 50\n",
    "\n",
    "x = np.linspace(-2, 2, num=l)\n",
    "Y = 1 / (1 + 25*x**2)"
   ]
  },
  {
   "cell_type": "code",
   "execution_count": 6,
   "metadata": {
    "slideshow": {
     "slide_type": "subslide"
    }
   },
   "outputs": [
    {
     "data": {
      "image/png": "[encoded data removed]",
      "text/plain": [
       "<Figure size 432x288 with 1 Axes>"
      ]
     },
     "metadata": {
      "needs_background": "light"
     },
     "output_type": "display_data"
    }
   ],
   "source": [
    "import matplotlib.pyplot as plt\n",
    "\n",
    "_, ax = plt.subplots()\n",
    "\n",
    "ax.set_xlabel('x')\n",
    "ax.set_ylabel('Y')\n",
    "\n",
    "ax.plot(x, Y, '.', label='train points')\n",
    "\n",
    "x_plot = np.linspace(-2, 2, num=1000)\n",
    "y_plot = 1 / (1 + 25*x_plot**2)\n",
    "ax.plot(x_plot, y_plot, label='real')\n",
    "\n",
    "plt.legend(loc='best')\n",
    "plt.show()"
   ]
  },
  {
   "cell_type": "code",
   "execution_count": 7,
   "metadata": {
    "slideshow": {
     "slide_type": "subslide"
    }
   },
   "outputs": [],
   "source": [
    "from sklearn.linear_model import LinearRegression\n",
    "\n",
    "def X(x, n):\n",
    "    res = [np.ones_like(x)]\n",
    "    for i in range(1, n):\n",
    "        res.append(x**i)\n",
    "    return np.vstack(res).T\n"
   ]
  },
  {
   "cell_type": "code",
   "execution_count": 8,
   "metadata": {
    "slideshow": {
     "slide_type": "fragment"
    }
   },
   "outputs": [],
   "source": [
    "x_l = np.array([4*(i - 1)/(l - 1) - 2 for i in range(1, l + 1)])\n",
    "x_k = np.array([4*(i - 0.5)/(l - 1) - 2 for i in range(1, l)])\n",
    "lin_reg = LinearRegression(fit_intercept=False)\n",
    "\n",
    "train_score, test_score = [], []\n",
    "\n",
    "ns = range(2, 40)\n",
    "for n in ns:\n",
    "    X_l = X(x_l, n)\n",
    "    Y_l = 1 / (1 + 25*X_l**2)\n",
    "    X_k = X(x_k, n)\n",
    "    Y_k = 1 / (1 + 25*X_k**2)\n",
    "    lin_reg.fit(X_l, Y_l)\n",
    "    train_score.append(np.mean((lin_reg.predict(X_l) - Y_l)**2))\n",
    "    test_score.append(np.mean((lin_reg.predict(X_k) - Y_k)**2))\n"
   ]
  },
  {
   "cell_type": "code",
   "execution_count": 9,
   "metadata": {
    "slideshow": {
     "slide_type": "subslide"
    }
   },
   "outputs": [
    {
     "data": {
      "image/png": "[encoded data removed]",
      "text/plain": [
       "<Figure size 432x288 with 1 Axes>"
      ]
     },
     "metadata": {
      "needs_background": "light"
     },
     "output_type": "display_data"
    }
   ],
   "source": [
    "import matplotlib.pyplot as plt\n",
    "\n",
    "_, ax = plt.subplots()\n",
    "\n",
    "ax.set_xlabel('n')\n",
    "ax.set_xlim(0, len(ns) + 2)\n",
    "ax.set_ylabel('log Q')\n",
    "\n",
    "ax.plot(ns, np.log(train_score), 'bo-', label='train score')\n",
    "\n",
    "ax.plot(ns, np.log(test_score), 'go--', label='test score')\n",
    "\n",
    "plt.legend(loc='best')\n",
    "plt.show()\n"
   ]
  },
  {
   "cell_type": "markdown",
   "metadata": {
    "slideshow": {
     "slide_type": "fragment"
    }
   },
   "source": [
    "<div class=\"alert alert-info\">\n",
    "<b>Вопрос 3:</b> Почему такие графики? Как будет меняться точка расхождения $n$ в зависимости от размера обучающей выборки $\\ell$ и почему?\n",
    "</div>"
   ]
  },
  {
   "cell_type": "markdown",
   "metadata": {
    "slideshow": {
     "slide_type": "subslide"
    }
   },
   "source": [
    "### Переобучение — одна из главных проблем в машинном обучении\n",
    "Когда **test_score >> train_score**"
   ]
  },
  {
   "cell_type": "markdown",
   "metadata": {
    "slideshow": {
     "slide_type": "fragment"
    }
   },
   "source": [
    " * Из-за чего возникает переобучение?\n",
    "  - избыточная сложность пространства параметров $\\Theta$, лишние степени свободы в модели $g(x, \\theta)$ «тратятся» на чрезмерно точную подгонку под обучающую выборку\n",
    "  - переобучение есть всегда, когда есть оптимизация параметров по конечной (заведомо неполной) выборке\n",
    "\n",
    " * Как обнаружить переобучение?\n",
    "  - эмпирически, путём разбиения выборки на train и test\n",
    "  \n",
    " * Нельзя избавиться от него совсем. Как минимизировать?\n",
    "  - минимизировать ошибку на валидации (HoldOut, Leave One Out, Cross Validation), но осторожно!\n",
    "  - накладывать ограничения на $\\theta$ (регуляризация)\n",
    "  - минимизировать одну из теоретических оценок"
   ]
  },
  {
   "cell_type": "markdown",
   "metadata": {
    "slideshow": {
     "slide_type": "subslide"
    }
   },
   "source": [
    "### Эмпирические оценки обобщающей способности"
   ]
  },
  {
   "cell_type": "markdown",
   "metadata": {
    "slideshow": {
     "slide_type": "fragment"
    }
   },
   "source": [
    " * Эмпирический риск на тестовых данных (hold-out)\n",
    " \n",
    " $HO(\\mu, X^\\ell, X^k) = Q(\\mu(X^\\ell), X^k) \\to \\min$\n",
    "\n",
    "\n",
    " * Скользящий контроль (leave-one-out), $L = \\ell + 1$\n",
    "\n",
    " $LOO(\\mu, X^\\ell) = \\frac1L \\sum\\limits_{i=1}^L \\mathcal{L}(\\mu(X^\\ell\\backslash \\{x_i\\}), x_i) \\to \\min$\n",
    "\n",
    " * Кросс-проверка (cross-validation), $L = \\ell + k, X^L = X^\\ell_n \\cup X^k_n$:\n",
    "\n",
    " $CV(\\mu, X^L) = \\frac1{|N|} \\sum\\limits_{n \\in N} {Q}(\\mu(X^\\ell_n), X^k_n) \\to \\min$\n",
    "\n"
   ]
  },
  {
   "cell_type": "markdown",
   "metadata": {
    "slideshow": {
     "slide_type": "subslide"
    }
   },
   "source": [
    "<div align=\"center\">\n",
    "    <img src=\"images/A-schematic-illustration-of-K-fold-cross-validation-for-K-5-Original-dataset.png\" alt=\"cross-val\" />\n",
    "</div>"
   ]
  },
  {
   "cell_type": "markdown",
   "metadata": {
    "slideshow": {
     "slide_type": "subslide"
    }
   },
   "source": [
    "### Знаковые события в машинном обучении"
   ]
  },
  {
   "cell_type": "markdown",
   "metadata": {
    "slideshow": {
     "slide_type": "fragment"
    }
   },
   "source": [
    "1997: IBM Deep Blue обыгрывает чемпиона мира по шахматам  Гарри Каспарова\n",
    " - 480 шахматных CPU\n",
    " - перебор модификацией альфа-бета-отсечений\n",
    " - две дебютные книги\n",
    "\n",
    "2004: Соревнование беспилотных автомобилей: DARPA Grand Challenge\n",
    " - призовой фонд $1 млн\n",
    " - в первом заезде победитель проехал 11.8 из 230 км\n",
    "\n",
    "2006: Запуск Google Translate \n",
    " - сначала статистический машинный перевод\n",
    " - мобильное приложение появилось в 2010\n"
   ]
  },
  {
   "cell_type": "markdown",
   "metadata": {
    "slideshow": {
     "slide_type": "subslide"
    }
   },
   "source": [
    "2011: 40 лет развития DARPA CALO (Cognitive Assistant that Learns and Organizes)\n",
    " - появление голосового помощника Apple Siri\n",
    " - IBM Watson победил в телевизионной игре «Jeopardy!» (у нас «Своя игра»)\n",
    "\n",
    "2011-2015: ImageNet: 25% -> 3.5% ошибок против 5% у людей\n",
    "\n",
    "2015: Создание открытой компании OpenAI, Илон Маск и Сэм Альтман, обещают вложить $1 млрд\n",
    "\n",
    "2016: Google DeepMind обыграл чемпиона мира по игре Го\n",
    "\n",
    "2018: На аукционе Christie's картина, формально нарисованная ИИ, продана за 432 500$\n",
    "\n",
    "2020: AlphaFold 2 предсказывает структуру белков с точностью выше 90\\% для примерно двух третей белков в датасете\n"
   ]
  },
  {
   "cell_type": "markdown",
   "metadata": {
    "slideshow": {
     "slide_type": "subslide"
    }
   },
   "source": [
    "### Резюме"
   ]
  },
  {
   "cell_type": "markdown",
   "metadata": {
    "slideshow": {
     "slide_type": "fragment"
    }
   },
   "source": [
    " * Основные понятия машинного обучения:\n",
    " \n",
    " обучение по прецендентам (с учителем), объекты, признаки, ответы, модель алгоритмов, метод обучения, эмпирический риск, переобучение\n",
    "\n",
    " * Проблема переобучения: HoldOut, LeaveOneOut, CrossValidation\n",
    " \n",
    " * Знаковые события в машинном обучении\n"
   ]
  },
  {
   "cell_type": "markdown",
   "metadata": {
    "slideshow": {
     "slide_type": "fragment"
    }
   },
   "source": [
    "Спасибо за внимание!"
   ]
  }
 ],
 "metadata": {
  "celltoolbar": "Slideshow",
  "kernelspec": {
   "display_name": "Python 3",
   "language": "python",
   "name": "python3"
  },
  "language_info": {
   "codemirror_mode": {
    "name": "ipython",
    "version": 3
   },
   "file_extension": ".py",
   "mimetype": "text/x-python",
   "name": "python",
   "nbconvert_exporter": "python",
   "pygments_lexer": "ipython3",
   "version": "3.7.6"
  }
 },
 "nbformat": 4,
 "nbformat_minor": 2
}
