{
 "cells": [
  {
   "cell_type": "markdown",
   "metadata": {
    "slideshow": {
     "slide_type": "slide"
    }
   },
   "source": [
    "<div align=\"center\">\n",
    "    <img src=\"images/logo_fmkn.png\" alt=\"logo_fmkn\" />\n",
    "</div>\n",
    "\n",
    "# Машинное обучение\n",
    "\n",
    "### Лекция 4. CART деревья. Метрические методы классификации и регрессии\n",
    "\n",
    "<br />\n",
    "<br />\n",
    "24 сентября 2021"
   ]
  },
  {
   "cell_type": "markdown",
   "metadata": {
    "slideshow": {
     "slide_type": "subslide"
    }
   },
   "source": [
    "### Пятиминутка\n",
    "\n",
    "1. Что такое закономерность?\n",
    "2. Напишите формулы энтропии и неопределённости Джини для одного аргумента\n",
    "3. Опишите как работает модель классификации на основе решающего дерева"
   ]
  },
  {
   "cell_type": "markdown",
   "metadata": {
    "slideshow": {
     "slide_type": "subslide"
    }
   },
   "source": [
    "### Пример решающего дерева (напоминание)\n",
    "\n",
    "<div align=\"center\">\n",
    "    <img src=\"images/tree.jpg\" alt=\"tree\" />\n",
    "</div>\n"
   ]
  },
  {
   "cell_type": "markdown",
   "metadata": {
    "slideshow": {
     "slide_type": "subslide"
    }
   },
   "source": [
    "### CART: деревья регрессии и классификации\n",
    "\n",
    "Обобщение на случай регрессии: $Y = \\mathbb{R}, y_v \\in \\mathbb{R}$\n",
    "\n",
    "$C(a) = \\sum\\limits_{i=1}^\\ell (a(x_i) - y_i)^2 \\to \\min\\limits_a$\n",
    "\n",
    "Пусть $U$ — множество объектов $x_i$, дошедших до вершины $v$\n",
    "\n",
    "Мера неопределённости — среднеквадратичная ошибка\n",
    "\n",
    "$ \\Phi(U) = \\min_\\limits{y \\in Y} \\frac{1}{|U|} \\sum\\limits_{x_i \\in U} (y - y_i)^2 $\n",
    "\n",
    "Значение $y_v$ в терминальной вершине $v$ — MHK-решение:\n",
    "\n",
    "$y_v = \\frac{1}{|U|} \\sum\\limits_{x_i \\in U} y_i$\n",
    "\n",
    "Дерево регрессии $a(x)$ — это кусочно-постоянная функция.\n"
   ]
  },
  {
   "cell_type": "markdown",
   "metadata": {
    "slideshow": {
     "slide_type": "subslide"
    }
   },
   "source": [
    "### Пример. Деревья регрессии различной глубины\n",
    "\n",
    "Чем сложнее дерево (чем больше его глубина), тем выше влияние шумов в данных и выше риск переобучения.\n",
    "\n",
    "https://scikit-learn.org/stable/auto_examples/tree/plot_tree_regression.html\n",
    "\n",
    "<div align=\"center\">\n",
    "  <img src=\"images/sphx_glr_plot_tree_regression_001.png\" alt=\"tree_regression\" width=800 />\n",
    "</div>\n"
   ]
  },
  {
   "cell_type": "markdown",
   "metadata": {
    "slideshow": {
     "slide_type": "subslide"
    }
   },
   "source": [
    "### CART: критерий Minimal Cost-Complexity Pruning\n",
    "\n",
    "Среднеквадратичная ошибка со штрафом за сложность дерева:\n",
    "\n",
    "$C_\\alpha(a) = \\sum\\limits_{i=1}^\\ell (a(x_i) - y_i)^2 + \\alpha |V_{\\text{лист}}| \\to \\min\\limits_a$\n",
    "\n",
    "При увеличении $\\alpha$ дерево последовательно упрощается. \n",
    "\n",
    "Причем последовательность вложенных деревьев единственна.\n",
    "\n",
    "Из этой последовательности выбирается дерево с минимальной ошибкой на тестовой выборке (Hold-Out).\n",
    "\n",
    "Для случая классификации используется аналогичная стратегия усечения, только с критерием Джини.\n",
    "\n",
    "\n",
    "\n"
   ]
  },
  {
   "cell_type": "markdown",
   "metadata": {
    "slideshow": {
     "slide_type": "subslide"
    }
   },
   "source": [
    "### Вспомогательная задача бинаризации вещественного признака\n",
    "\n",
    "**Цель**: сократить перебор предикатов вида $[\\color{red}{\\alpha} \\leq f(x) \\leq \\color{red}{\\beta}]$\n",
    "\n",
    "**Дано**: выборка значений вещественного признака $f(x_i), x_i \\in X^\\ell$\n",
    "\n",
    "**Найти**: наилучшее (в каком-то смысле) разбиение области значений признака на относительно небольшое число зон:\n",
    "\n",
    "$\\zeta_0(x) = [f(x) < d_1]$\n",
    "\n",
    "$\\zeta_s(x) = [d_s \\leq f(x) < d_{s+1}], s = 1, \\dots, r-1$\n",
    "\n",
    "$\\zeta_r(x) = [d_r \\leq f(x)]$\n",
    "\n",
    "<div align=\"center\">\n",
    "  <img src=\"images/partition.jpg\" alt=\"partition\" width=500 />\n",
    "</div>\n"
   ]
  },
  {
   "cell_type": "markdown",
   "metadata": {
    "slideshow": {
     "slide_type": "subslide"
    }
   },
   "source": [
    "### Способы разбиения области значений признака на зоны\n",
    "\n",
    " * Разбиение на равномощные подвыборки (медианное)\n",
    " * Разбиение по равномерной сетке «удобных» значений\n",
    " * Объединение нескольких разбиений — например, равномерное и медианное\n",
    " * Жадная максимизация информативности путём слияний\n"
   ]
  },
  {
   "cell_type": "markdown",
   "metadata": {
    "slideshow": {
     "slide_type": "subslide"
    }
   },
   "source": [
    "### Случайный лес (Random Forest)\n",
    "\n",
    "Голосование деревьев классификации, $Y = \\{-1, +1\\}$\n",
    "\n",
    "$a(x) = \\text{sign} \\left(\\frac{1}{T} \\sum\\limits_{t=1}^T b_t(x) \\right)$\n",
    "\n",
    "Голосование деревьев регрессии, $Y = \\mathbb{R}$\n",
    "\n",
    "$a(x) = \\frac{1}{T} \\sum\\limits_{t=1}^T b_t(x)$\n",
    "\n",
    " * каждое дерево $b_t(x)$ обучается по случайной выборке с возвращениями\n",
    " * в каждой вершине признак выбирается из случайного подмножества $\\sqrt{n}$ признаков ($\\lfloor n/3 \\rfloor$ для регрессии)\n",
    " * признаки и пороги выбираются по критерию Джини\n",
    " * усечений (pruning) нет\n"
   ]
  },
  {
   "cell_type": "markdown",
   "metadata": {
    "slideshow": {
     "slide_type": "slide"
    }
   },
   "source": [
    "## Метрические методы классификации и регрессии"
   ]
  },
  {
   "cell_type": "markdown",
   "metadata": {
    "slideshow": {
     "slide_type": "subslide"
    }
   },
   "source": [
    "### Гипотезы непрерывности и компактности\n",
    "\n",
    "**Гипотеза непрерывности** (для регрессии):\n",
    "\n",
    "_близким объектам соответствуют близкие ответы_.\n",
    "\n",
    "<div align=\"center\">\n",
    "  <table>\n",
    "    <tr>\n",
    "      <td>выполнена:</td>\n",
    "      <td><img src=\"images/continue_yes.jpg\" alt=\"c_yes\" width=200/></td>\n",
    "    </tr>\n",
    "    <tr>\n",
    "      <td>не выполнена:</td>\n",
    "      <td>    <img src=\"images/continue_no.jpg\" alt=\"c_no\" width=200/></td>\n",
    "    </tr>\n",
    "  </table>        \n",
    "</div>\n",
    "\n"
   ]
  },
  {
   "cell_type": "markdown",
   "metadata": {
    "slideshow": {
     "slide_type": "subslide"
    }
   },
   "source": [
    "**Гипотеза компактности** (для классификации):\n",
    "\n",
    "_близкие объекты, как правило, лежат в одном классе_.\n",
    "\n",
    "<div align=\"center\">\n",
    "  <table>\n",
    "    <tr>\n",
    "      <td>выполнена:</td>\n",
    "      <td><img src=\"images/compactness_yes.jpg\" alt=\"c_yes\" width=200/></td>\n",
    "    </tr>\n",
    "    <tr>\n",
    "      <td>не выполнена:</td>\n",
    "      <td><img src=\"images/compactness_no.jpg\" alt=\"c_no\" width=200/></td>\n",
    "    </tr>\n",
    "  </table>        \n",
    "</div>\n"
   ]
  },
  {
   "cell_type": "markdown",
   "metadata": {
    "slideshow": {
     "slide_type": "subslide"
    }
   },
   "source": [
    "### Пример: задача классификации цветков ириса [Фишер, 1936]\n",
    "\n",
    "$n = 4$ признака, $|Y| = 3$ класса, длина выборки $\\ell = 150$.\n",
    "\n",
    "Привычная мера близости — евклидова метрика в $\\mathbb{R}^2$\n",
    "\n",
    "<div align=\"center\">\n",
    "    <img src=\"images/iris_dataset.jpg\" alt=\"iris_dataset\" width=\"900\"/>\n",
    "</div>"
   ]
  },
  {
   "cell_type": "markdown",
   "metadata": {
    "slideshow": {
     "slide_type": "subslide"
    }
   },
   "source": [
    "### Формализация понятия \"близости\"\n",
    "\n",
    "Евклидова метрика и обобщённая метрика Минковского:\n",
    "\n",
    "$\\rho(x, x_i) = \\left( \\sum\\limits_{j=1}^n |x^j - x_i^j|^2\\right)^{1/2}\n",
    "\\ \\ \\ \\ \n",
    "\\rho(x, x_i) = \\left( \\sum\\limits_{j=1}^n w_j|x^j - x_i^j|^p\\right)^{1/p}\n",
    "$\n",
    "\n",
    "$x = (x^1, \\dots, x^n)$ — вектор признаков объекта $x$,\n",
    "\n",
    "$x_i = (x_i^1, \\dots, x_i^n)$ — вектор признаков объекта $x_i$\n",
    "\n",
    "$w_1, \\dots, w_n$ — веса признаков, которые можно обучать\n",
    "\n",
    "<div align=\"center\">\n",
    "    <img src=\"images/contour_lines.jpg\" alt=\"contour_lines\" width=\"600\"/>\n",
    "</div>\n"
   ]
  },
  {
   "cell_type": "markdown",
   "metadata": {
    "slideshow": {
     "slide_type": "subslide"
    }
   },
   "source": [
    "<div class=\"alert alert-info\">\n",
    "<b>Интересная задача:</b> Найдите наименьшее и наибольшее возможное значение числа $\\pi$ (длины окружности радиуса 1/2) в двумерном нормированном пространстве.\n",
    "</div>"
   ]
  },
  {
   "cell_type": "markdown",
   "metadata": {
    "slideshow": {
     "slide_type": "skip"
    }
   },
   "source": [
    " * Подсказка 1: посмотрите в сторону $L_1$ $L_\\infty$ норм\n",
    " * Подсказка 2: подумайте о правильных, почти идеальных формах"
   ]
  },
  {
   "cell_type": "markdown",
   "metadata": {
    "slideshow": {
     "slide_type": "subslide"
    }
   },
   "source": [
    "### Нестандартные метрики на практике\n",
    "\n",
    "1. **Для строк** — редакторское расстояние Левенштейна\n",
    "\n",
    "<div align=\"center\">\n",
    "    <img src=\"images/levenstein.jpg\" alt=\"levenstein\" width=\"600\"/>\n",
    "</div>\n",
    "\n",
    "2. **Для сигналов** — энергия сжатий и растяжений\n",
    "\n",
    "<div align=\"center\">\n",
    "    <img src=\"images/alpha_drawing.jpg\" alt=\"alpha_drawing\" width=\"600\"/>\n",
    "</div>\n",
    "\n",
    "3. Для вероятностных распределений — [метрика Вассерштейна](https://en.wikipedia.org/wiki/Wasserstein_metric)\n"
   ]
  },
  {
   "cell_type": "markdown",
   "metadata": {
    "slideshow": {
     "slide_type": "subslide"
    }
   },
   "source": [
    "### Обобщённый метрический классификатор\n",
    "\n",
    "Для произвольного $x \\in X$ отранжируем объекты $x_1, \\dots, x_\\ell$:\n",
    "\n",
    "$\\rho(x, x^{(1)}) \\leq \\rho(x, x^{(2)}) \\leq \\dots \\leq \\rho(x, x^{(\\ell)})$,\n",
    "\n",
    "$x^{(i)}$ — $i$-й сосед объекта $x$ среди $x_1, \\dots, x_\\ell$\n",
    "\n",
    "$y^{(i)}$ — ответ на $i$-м соседе объекта $х$\n",
    "\n",
    "**Метрический алгоритм классификации**:\n",
    "\n",
    "$\\color{red}{a(x:X^\\ell) = \\arg\\max\\limits_{y \\in Y}} \\underbrace{\\color{red}{\\sum\\limits_{i=1}^\\ell [y^{(i)} = y] w(i,x)}}_{\\Gamma_y(x)}$\n",
    "\n",
    "$\\color{red}{w(i, x)}$ — вес (степень важности) $i$-го соседа объекта $x$, неотрицателен, не возрастает по $i$\n",
    "\n",
    "$\\Gamma_y(x)$ — оценка близости объекта $x$ к классу $y$"
   ]
  },
  {
   "cell_type": "markdown",
   "metadata": {
    "slideshow": {
     "slide_type": "subslide"
    }
   },
   "source": [
    "### Метод k ближайших соседей (k nearest neighbors, kNN)\n",
    "\n",
    "$w(i, x) = [i \\leq 1]$ — метод ближайшего соседа\n",
    "\n",
    "$w(i, x) = [i ≤ k]$ — метод $k$ ближайших соседей\n",
    "\n",
    "Преимущества:\n",
    " * простота реализации (lazy learning)\n",
    " * параметр $k$ можно оптимизировать по критерию скользящего контроля (leave-one-out):\n",
    " \n",
    " $\\text{LOO}(k, X^\\ell) = \\sum\\limits_{i=1}^\\ell [a(x_i; X^\\ell/ \\{x_i\\}, k) \\neq y_i] \\to \\min\\limits_k $\n",
    " \n",
    "Недостатки:\n",
    " * неоднозначность классификации при $\\Gamma_y(x) = \\Gamma_s(x), y \\neq s$\n",
    " * не учитываются значения расстояний\n"
   ]
  },
  {
   "cell_type": "markdown",
   "metadata": {
    "slideshow": {
     "slide_type": "fragment"
    }
   },
   "source": [
    "<div class=\"alert alert-info\">\n",
    "<b>Вопрос 1:</b> Какой очень существенный, зачастую критический недостаток связан с lazy learning?\n",
    "</div>"
   ]
  },
  {
   "cell_type": "markdown",
   "metadata": {
    "slideshow": {
     "slide_type": "fragment"
    }
   },
   "source": [
    "**Ответ**: трудность и затратность применения"
   ]
  },
  {
   "cell_type": "markdown",
   "metadata": {
    "slideshow": {
     "slide_type": "subslide"
    }
   },
   "source": [
    "### Зависимость LOO от числа соседей\n",
    "\n",
    "**Пример.** Задача UCI: Iris.\n",
    "\n",
    "<div align=\"center\">\n",
    "    <img src=\"images/LOO_Iris.jpg\" alt=\"LOO_Iris\" width=\"800\"/>\n",
    "</div>\n",
    "\n",
    "<span style=\"color:red\">— несмещённое число ошибок LOO</span>\n",
    "\n",
    "<span style=\"color:blue\">— смещённое число ошибок, когда объект учитывается как сосед самого себя</span>\n"
   ]
  },
  {
   "cell_type": "markdown",
   "metadata": {
    "slideshow": {
     "slide_type": "subslide"
    }
   },
   "source": [
    "### Метод k взвешенных ближайших соседей\n",
    "\n",
    "$w(i, x) = [i \\leq k] w_i$,\n",
    "\n",
    "где $w_i$ — вес, зависящий только от номера соседа\n",
    "\n",
    "**Возможные эвристики**\n",
    "\n",
    "$w_i = \\frac{k+1-i}{k}$ — линейно убывающие веса\n",
    "\n",
    "$w_i = q^i$ — экспоненциально убывающие веса, $0 < q < 1$\n",
    "\n",
    "**Замечание**\n",
    "\n",
    "Возможно, было бы лучше, если бы вес $w(i, x)$ зависел не от порядкового номера соседа $i$, а от расстояния до него $\\rho(x, x^{(i)})$\n"
   ]
  },
  {
   "cell_type": "markdown",
   "metadata": {
    "slideshow": {
     "slide_type": "subslide"
    }
   },
   "source": [
    "### Метод окна Парзена\n",
    "\n",
    "$w(i, x) = K \\left(\\frac{\\rho(x, x^{(i)})}{h} \\right)$, где $h$ — ширина окна, \n",
    "\n",
    "$К(r)$ — ядро, не возрастает и положительно на [0, 1].\n",
    "\n",
    "Метод парзеновского окна __фиксированной ширины__:\n",
    "\n",
    "$a(x; X^\\ell, \\color{red}{h}, K) = \\arg\\max\\limits_{y \\in Y} \\sum\\limits_{i=1}^\\ell[y_i = y] K \\left(\\frac{\\rho(x, x_{i})}{\\color{red}{h}} \\right)$\n",
    "\n",
    "Метод парзеновского окна __переменной ширины__:\n",
    "\n",
    "$a(x; X^\\ell, \\color{red}{k}, K) = \\arg\\max\\limits_{y \\in Y} \\sum\\limits_{i=1}^\\ell[y_i = y] K \\left(\\frac{\\rho(x, x_{i})}{\\color{red}{\\rho(x, x^{(k+1)})}} \\right)$\n",
    "\n",
    "**Оптимизация параметров** — по критерию LOO:\n",
    " * выбор ширины окна $h$ или числа соседей $k$\n",
    " * выбор ядра $К$\n"
   ]
  },
  {
   "cell_type": "markdown",
   "metadata": {
    "slideshow": {
     "slide_type": "subslide"
    }
   },
   "source": [
    "### Парзеновское окно фиксированной ширины $h$\n",
    "\n",
    "**Пример**: двумерная выборка, два класса $Y = \\{-1, +1\\}$\n",
    "\n",
    "$а(х) = \\arg\\max\\limits_{y \\in Y} \\Gamma_y(x) = \\text{sign}(\\Gamma_{+1}(x) - \\Gamma_{-1}(x))$\n"
   ]
  },
  {
   "cell_type": "markdown",
   "metadata": {
    "slideshow": {
     "slide_type": "subslide"
    }
   },
   "source": [
    "<div align=\"center\">\n",
    "  $h = 0.05$\n",
    "  <img src=\"images/parzen_fix.jpg\" alt=\"parzen\" width=600 />\n",
    "</div>"
   ]
  },
  {
   "cell_type": "markdown",
   "metadata": {
    "slideshow": {
     "slide_type": "subslide"
    }
   },
   "source": [
    "<div align=\"center\">\n",
    "  $h = 0.2$\n",
    "  <img src=\"images/parzen_h02.jpg\" alt=\"parzen\" width=600 />\n",
    "</div>"
   ]
  },
  {
   "cell_type": "markdown",
   "metadata": {
    "slideshow": {
     "slide_type": "subslide"
    }
   },
   "source": [
    "<div align=\"center\">\n",
    "  $h = 0.5$\n",
    "  <img src=\"images/parzen_h05.jpg\" alt=\"parzen\" width=600 />\n",
    "</div>"
   ]
  },
  {
   "cell_type": "markdown",
   "metadata": {
    "slideshow": {
     "slide_type": "subslide"
    }
   },
   "source": [
    "<div align=\"center\">\n",
    "  $h = 1$\n",
    "  <img src=\"images/parzen_h1.jpg\" alt=\"parzen\" width=600 />\n",
    "</div>"
   ]
  },
  {
   "cell_type": "markdown",
   "metadata": {
    "slideshow": {
     "slide_type": "subslide"
    }
   },
   "source": [
    "<div align=\"center\">\n",
    "  $h = 5$\n",
    "  <img src=\"images/parzen_h5.jpg\" alt=\"parzen\" width=600 />\n",
    "</div>"
   ]
  },
  {
   "cell_type": "markdown",
   "metadata": {
    "slideshow": {
     "slide_type": "subslide"
    }
   },
   "source": [
    "### Метод потенциальных функций\n",
    "\n",
    "$w(i, x) = \\gamma^{(i)} K\\left(\\frac{\\rho(x, x^{(i)}}{h^{(i)}}) \\right)$\n",
    "\n",
    "\n",
    "$a(x; X^\\ell) = \\arg\\max\\limits_{y \\in Y} \\sum\\limits_{i=1}^\\ell[y_i = y] \\gamma_i K \\left(\\frac{\\rho(x, x_{i})}{h_i} \\right)$\n",
    "\n",
    "где $\\gamma_i$ — веса объектов, $\\gamma_i \\geq 0$, $h_i > 0$\n",
    "\n",
    "**Физическая аналогия** из электростатики:\n",
    "\n",
    "$\\gamma_i$ — величина «заряда» в точке $x_i$\n",
    "\n",
    "$h_i$ — «радиус действия» потенциала с центром в точке $x_i$\n",
    "\n",
    "$y_i$ — знак «заряда» (в случае двух классов $Y = \\{-1, +1\\}$)\n",
    "\n",
    "$K(r) = \\frac{1}{r}$ или $\\frac{1}{r+a}$\n",
    "\n",
    "В задачах классификации нет ограничений ни на $K$, на на $|Y|$\n"
   ]
  },
  {
   "cell_type": "markdown",
   "metadata": {
    "slideshow": {
     "slide_type": "subslide"
    }
   },
   "source": [
    "### Метод потенциальных функций — линейный классификатор\n",
    "\n",
    "Два класса: $Y = \\{-1, +1\\}$\n",
    "\n",
    "$a(x, X^\\ell) = \\arg \\max\\limits_{y \\in Y} \\Gamma_y(x) = \\text{sign}(\\Gamma_{+1}(x) - \\Gamma_{-1}(x)) = \\\\\n",
    "= \\text{sign}\\sum\\limits_{i=1}^\\ell \\gamma_i \\color{red}{y_i K\\left(\\frac{\\rho(x, x_i)}{h_i} \\right)}$\n",
    "\n",
    "Сравним с линейной моделью классификации:\n",
    "\n",
    "$a(x) = \\text{sign}\\sum\\limits_{j=1}^n \\gamma_j \\color{red}{ f_j(x)}$\n",
    "\n",
    " * $f_j(x) = y_j K\\left(\\frac{\\rho(x, x_j)}{h_j} \\right)$ — новые признаки объекта $x$\n",
    " * $\\gamma_j$ — веса линейного классификатора\n",
    " * $n = \\ell$ — число признаков равно числу объектов обучения\n"
   ]
  },
  {
   "cell_type": "markdown",
   "metadata": {
    "slideshow": {
     "slide_type": "subslide"
    }
   },
   "source": [
    "### Резюме\n",
    "\n",
    " * Метрические классификаторы — одни из самых простых. Качество классификации определяется качеством метрики.\n",
    " \n",
    " * Что можно обучать:\n",
    "  - число ближайших соседей $k$ или ширину окна $h$\n",
    "  - веса объектов\n",
    "  - набор эталонов (prototype selection)\n",
    "  - метрику (distance learning, similarity learning)\n",
    "  - в частности, веса признаков в метрике\n",
    "  - функцию ядра $К(r)$"
   ]
  },
  {
   "cell_type": "markdown",
   "metadata": {
    "slideshow": {
     "slide_type": "subslide"
    }
   },
   "source": [
    "### Задачи регрессии и метод наименьших квадратов\n",
    "\n",
    "* $X$ — объекты (часто $\\mathbb{R}^n$); $Y$ — ответы (часто $\\mathbb{R}$, реже $\\mathbb{R}^m$);\n",
    "\n",
    " $X^\\ell = (x_i, y_i)_{i=1}^\\ell$ — обучающая выборка\n",
    " \n",
    " $y_i = y(x_i), y: X \\to Y$ — неизвестная зависимость\n",
    " \n",
    " * $a(x) = f(x, \\alpha)$ — параметрическая модель зависимости, $\\alpha \\in \\mathbb{R}^p$ — вектор параметров модели\n",
    "\n",
    " * Метод наименьших квадратов (МНК):\n",
    " $ Q(\\alpha, X^\\ell) = \\sum\\limits_{i=1}^\\ell w_i(f(x_i, \\alpha) - y_i)^2 \\to \\min\\limits_{\\alpha}$\n",
    " \n",
    " где $w_i$ — вес, степень важности $i$-го объекта\n",
    " \n",
    " * Недостаток:\n",
    " \n",
    " надо иметь хорошую параметрическую модель $f(x, \\alpha)$\n"
   ]
  },
  {
   "cell_type": "markdown",
   "metadata": {
    "slideshow": {
     "slide_type": "subslide"
    }
   },
   "source": [
    "### Непараметрическая регрессия, формула Надарая-Ватсона\n",
    "\n",
    "Приближение константой $f(x, \\alpha) = \\alpha$ в окрестности $x \\in X$:\n",
    "\n",
    "$Q(\\alpha; X^\\ell) = \\sum\\limits_{i=1}^\\ell \\color{red}{w_i(x)}(\\alpha - y_i)^2 \\to \\min\\limits_{\\alpha \\in \\mathbb{R}}$\n",
    "\n",
    "где $\\color{red}{w_i(x)} = K\\left(\\frac{\\rho(x, x_i)}{h} \\right)$ — веса объектов $x_i$ относительно $x$.\n",
    "\n",
    "$К(r)$ — ядро, невозрастающее, ограниченное, гладкое\n",
    "\n",
    "$h$ — ширина окна сглаживания\n",
    "\n",
    "**Формула ядерного сглаживания Надарая-Ватсона**\n",
    "\n",
    "$\\alpha_h(x; X^\\ell) = \\frac{\\sum\\limits_{i=1}^\\ell y_i \\color{red}{w_i(x)}}{\\sum\\limits_{i=1}^\\ell \\color{red}{w_i(x)}} = \n",
    " \\frac{\\sum\\limits_{i=1}^\\ell y_i K\\left(\\frac{\\rho(x, x_i)}{h} \\right)}{\\sum\\limits_{i=1}^\\ell K\\left(\\frac{\\rho(x, x_i)}{h} \\right)}$\n",
    "\n",
    "------\n",
    "\n",
    "I. Anokhin, R. Kail, M. Velikanov, M. Panov, A. Zaytsev and D. Yarotsky «M-Ensembles: Accuracy of Standard Ensembles at the Cost of (Almost) a Single Model», submitted to ICML, 2021"
   ]
  },
  {
   "cell_type": "markdown",
   "metadata": {
    "slideshow": {
     "slide_type": "subslide"
    }
   },
   "source": [
    "### Часто используемые ядра K(r)\n",
    "\n",
    " * $R(r) = 0.5 * [|r| \\leq 1]$ — прямоугольное\n",
    " * $Т(r) = (1 – |r|) [|r| \\leq 1]$ — треугольное\n",
    " * $Е(r) = (1 – r^2) [|r| \\leq 1]$ — квадратичное (Епанечникова)\n",
    " * $Q(r) = (1 – r^2)^2 [|r| \\leq 1]$ — квартическое\n",
    " * $G(r) = exp(-2 r^2)$ — гауссовское\n"
   ]
  },
  {
   "cell_type": "code",
   "execution_count": 4,
   "metadata": {
    "slideshow": {
     "slide_type": "subslide"
    }
   },
   "outputs": [
    {
     "data": {
      "image/png": "[encoded data removed]",
      "text/plain": [
       "<Figure size 1008x576 with 1 Axes>"
      ]
     },
     "metadata": {
      "needs_background": "light"
     },
     "output_type": "display_data"
    }
   ],
   "source": [
    "import matplotlib.pyplot as plt\n",
    "import numpy as np\n",
    "\n",
    "fig, ax = plt.subplots()\n",
    "\n",
    "ax.set_xlabel('r')\n",
    "\n",
    "x = np.linspace(-2.5, 2.5, num=100)\n",
    "x_domain = abs(x) <= 1\n",
    "R = 0.5 * x_domain\n",
    "T = (1 - abs(x)) * x_domain\n",
    "E = (1 - x**2) * x_domain\n",
    "Q = (1 - x**2)**2 * x_domain\n",
    "G = np.exp(-2 * x**2)\n",
    "\n",
    "ax.plot(x, R, 'g', label='R')\n",
    "ax.plot(x, T, '.g', label='T')\n",
    "ax.plot(x, E, 'r', label='E')\n",
    "ax.plot(x, Q, '--c', label='Q')\n",
    "ax.plot(x, G, 'k:', label='G')\n",
    "\n",
    "ax.set_ylim(-0.25, 1.25)\n",
    "ax.grid(True)\n",
    "\n",
    "fig.set_size_inches(14, 8)\n",
    "plt.legend(loc='best')\n",
    "plt.show()"
   ]
  },
  {
   "cell_type": "markdown",
   "metadata": {
    "slideshow": {
     "slide_type": "subslide"
    }
   },
   "source": [
    "<div class=\"alert alert-info\">\n",
    "<b>Вопрос 2:</b> Какое ядро выбрать?\n",
    "</div>"
   ]
  },
  {
   "cell_type": "markdown",
   "metadata": {
    "slideshow": {
     "slide_type": "subslide"
    }
   },
   "source": [
    "### Выбор ядра K и ширины окна h\n",
    "\n",
    "$h \\in \\{\\color{red}{0.1}, 1.0, \\color{blue}{3.0}\\}$, гауссовское ядро $K(r) = exp(-2r^2)$\n",
    "\n",
    "<div align=\"center\">\n",
    "  <img src=\"images/gauss_K_var_h.jpg\" alt=\"gauss_K_var_h\" width=800 />\n",
    "</div>\n",
    "\n",
    "Гауссовское ядро $\\Rightarrow$ гладкая аппроксимация\n",
    "\n",
    "Ширина окна существенно влияет на точность аппроксимации"
   ]
  },
  {
   "cell_type": "markdown",
   "metadata": {
    "slideshow": {
     "slide_type": "subslide"
    }
   },
   "source": [
    "### Выбор ядра K и ширины окна h\n",
    "\n",
    "$h \\in \\{\\color{red}{0.1}, 1.0, \\color{blue}{3.0}\\}$, треугольное ядро $K(r) = (1 - |r|) [|r| \\leq 1]$\n",
    "\n",
    "<div align=\"center\">\n",
    "  <img src=\"images/triangle_K_var_h.jpg\" alt=\"triangle_K_var_h\" width=600 />\n",
    "</div>\n",
    "\n",
    "Треугольное ядро $\\Rightarrow$ кусочно-линейная аппроксимация\n",
    "\n",
    "Аппроксимация не определена, если в окне нет точек выборки"
   ]
  },
  {
   "cell_type": "markdown",
   "metadata": {
    "slideshow": {
     "slide_type": "subslide"
    }
   },
   "source": [
    "### Выбор ядра K и ширины окна h\n",
    "\n",
    " * Ядро $K(r)$\n",
    "   - существенно влияет на гладкость функции $a_h(x)$\n",
    "   - слабо влияет на качество аппроксимации\n",
    "\n",
    " * Ширина окна $h$\n",
    "   - существенно влияет на качество аппроксимации\n",
    "   \n",
    " * Переменная ширина окна по $k$ ближайшим соседям:\n",
    " \n",
    "${w_i(x)} = K\\left(\\frac{\\rho(x, x_i)}{h(x)} \\right),\\ \\ h(x) = \\rho(x, x^{(k+1)})$\n",
    "\n",
    "где $x^{(k)}$ — $k$-й сосед объекта $х$\n",
    "\n",
    " * Оптимизация ширины окна по скользящему контролю:\n",
    "\n",
    " $\\text{LOO}(h, X^\\ell) = \\sum\\limits_{i=1}^\\ell (a_h(x_i; X^\\ell/ \\{x_i\\}) - y_i)^2 \\to \\min\\limits_h $\n"
   ]
  },
  {
   "cell_type": "markdown",
   "metadata": {
    "slideshow": {
     "slide_type": "subslide"
    }
   },
   "source": [
    "### Проблема выбросов (эксперимент на синтетических данных)\n",
    "\n",
    "$\\ell= 100, h = 1.0$, гауссовское ядро $К(r) = exp(–2r^2)$\n",
    "\n",
    "<span style=\"color:red\"> Две из 100 точек — выбросы с ординатами $y_i =$ 40 и — 40</span>\n",
    "\n",
    "<span style=\"color:blue\">Синяя кривая — выбросов нет</span>\n",
    "\n",
    "<div align=\"center\">\n",
    "  <img src=\"images/exp_with_outliers.jpg\" alt=\"exp_with_outliers\" width=600 />\n",
    "</div>\n"
   ]
  },
  {
   "cell_type": "markdown",
   "metadata": {
    "slideshow": {
     "slide_type": "subslide"
    }
   },
   "source": [
    "### Проблема выбросов и локально взвешенное сглаживание\n",
    "\n",
    "**Проблема выбросов**: \n",
    "\n",
    "точки с большими случайными ошибками $y_i$ сильно искажают функцию $a_h(x)$\n",
    "\n",
    "**Основная идея**:\n",
    "\n",
    "чем больше величина ошибки $\\varepsilon_i = |a_h(x_i; X^\\ell/\\{x_i\\}) - y_i|$, тем больше прецедент $(x_i, y_i)$ похож на выброс, тем меньше должен быть его вес $w_i(x)$.\n",
    "\n",
    "**Эвристика**:\n",
    "\n",
    "домножить веса $w_i(x)$ на коэффициенты $\\gamma_i = \\tilde K (\\varepsilon_i)$, где $\\tilde K$ — ещё одно ядро, вообще говоря, отличное от $К(r)$ \n",
    "\n",
    "**Рекомендация**:\n",
    "\n",
    "квартическое ядро $\\tilde K (\\varepsilon) = K_Q\\left(\\frac{\\varepsilon}{6\\text{med}\\{\\varepsilon_i\\}} \\right)$, где $\\text{med}\\{\\varepsilon_i\\}$ — медиана вариационного ряда ошибок. \n"
   ]
  },
  {
   "cell_type": "markdown",
   "metadata": {
    "slideshow": {
     "slide_type": "subslide"
    }
   },
   "source": [
    "### Алгоритм LOWESS (LOcally WEighted Scatter plot Smoothing)\n",
    "\n",
    "**Вход**: $X^\\ell$ — обучающая выборка\n",
    "\n",
    "**Выход**: коэффициенты $\\gamma_i, i = 1, \\dots, \\ell$\n",
    "\n",
    "----\n",
    "1: инициализация: $\\gamma_i = 1, i = 1, \\dots, \\ell$\n",
    "\n",
    "2: **повторять**\n",
    "\n",
    "3: $\\ \\ \\ $  **для всех** объектов $i = 1, \\dots, \\ell$\n",
    "\n",
    "4: $\\ \\ \\ $ $\\ \\ \\ $ вычислить оценки скользящего контроля:\n",
    "\n",
    "$\\ \\ \\ \\ \\ \\  \\ \\ \\ a_i := a_h(x_i; X^\\ell/\\{x_i\\}) =  \n",
    " \\frac{\\sum\\limits_{j=1, j\\neq i}^\\ell y_i \\gamma_j K\\left(\\frac{\\rho(x, x_i)}{h(x_i)} \\right)}{\\sum\\limits_{i=1}^\\ell \\gamma_j K\\left(\\frac{\\rho(x, x_i)}{h(x_i)} \\right)}$\n",
    "\n",
    "5: $\\ \\ \\ $  **для всех** объектов $i = 1, \\dots, \\ell$\n",
    "\n",
    "6: $\\gamma_i := \\tilde K(|a_i - y_i|)$\n",
    "\n",
    "7: **пока** коэффициенты $\\gamma_i$ не стабилизируются\n"
   ]
  },
  {
   "cell_type": "markdown",
   "metadata": {
    "slideshow": {
     "slide_type": "subslide"
    }
   },
   "source": [
    "### Пример работы LОWЕЅЅ на синтетических данных\n",
    "\n",
    "$l = 100, h = 1.0$, гауссовское ядро $К(r) = exp(–2r^2)$\n",
    "\n",
    "Две из 100 точек — выбросы с ординатами $y_i$ = 40 и — 40\n",
    "\n",
    "В данном случае LОWЕЅЅ сходится за несколько итераций:\n",
    "\n",
    "<div align=\"center\">\n",
    "  <img src=\"images/lowess_example.jpg\" alt=\"lowess_example\" width=600 />\n",
    "</div>\n"
   ]
  },
  {
   "cell_type": "markdown",
   "metadata": {
    "slideshow": {
     "slide_type": "subslide"
    }
   },
   "source": [
    "### Резюме\n",
    "\n",
    " * Непараметрическая регрессия обходится без явного задания параметрической модели зависимости $f(x, \\alpha)$\n",
    "\n",
    " * Однако неявно модельные предположения закладываются в функцию расстояния $\\rho(x, x_i)$ между объектами\n",
    " \n",
    " * Что можно обучать:\n",
    "   - число ближайших соседей $k$ или ширину окна $h$\n",
    "   - веса объектов (обнаруживать выбросы)\n",
    "   - метрику (distance learning, similarity learning)\n",
    "   - в частности, веса признаков в метрике\n",
    "\n",
    " * Непараметрическая регрессия часто используется как инструмент предварительной обработки данных для сглаживания шумов в данных"
   ]
  }
 ],
 "metadata": {
  "celltoolbar": "Slideshow",
  "kernelspec": {
   "display_name": "Python 3",
   "language": "python",
   "name": "python3"
  },
  "language_info": {
   "codemirror_mode": {
    "name": "ipython",
    "version": 3
   },
   "file_extension": ".py",
   "mimetype": "text/x-python",
   "name": "python",
   "nbconvert_exporter": "python",
   "pygments_lexer": "ipython3",
   "version": "3.7.6"
  }
 },
 "nbformat": 4,
 "nbformat_minor": 2
}
