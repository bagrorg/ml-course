{
 "cells": [
  {
   "cell_type": "markdown",
   "metadata": {
    "slideshow": {
     "slide_type": "slide"
    }
   },
   "source": [
    "<center><img src=\"./images/logo_fmkn.png\" width=300 style=\"display: inline-block;\"></center> \n",
    "\n",
    "## Машинное обучение\n",
    "### Семинар 5. Оценивание качества модели и подбор параметров\n",
    "\n",
    "<br />\n",
    "<br />\n",
    "30 сентября 2021"
   ]
  },
  {
   "cell_type": "markdown",
   "metadata": {
    "slideshow": {
     "slide_type": "subslide"
    }
   },
   "source": [
    "### Подбор параметров в регрессии\n",
    "\n",
    "Для примера будем использовать случайный полином от трёх переменных\n"
   ]
  },
  {
   "cell_type": "code",
   "execution_count": 45,
   "metadata": {
    "slideshow": {
     "slide_type": "subslide"
    }
   },
   "outputs": [],
   "source": [
    "import numpy as np\n",
    "\n",
    "power = 5\n",
    "\n",
    "def str_monomial(monomial):\n",
    "    pow_x = monomial % power\n",
    "    monomial //= power\n",
    "    pow_y = monomial % power\n",
    "    monomial //= power\n",
    "    pow_z = monomial\n",
    "    return f\"x**{pow_x}*y**{pow_y}*z**{pow_z}\"\n",
    "\n",
    "def calc_monomial(monomial, x, y, z):\n",
    "    pow_x = monomial % power\n",
    "    monomial //= power\n",
    "    pow_y = monomial % power\n",
    "    monomial //= power\n",
    "    pow_z = monomial\n",
    "    return x**pow_x * y**pow_y * z**pow_z\n",
    "\n",
    "class Polynomial:\n",
    "    def __init__(self, num_monomials):\n",
    "        self.monomials = np.random.randint(0, power**3, num_monomials)\n",
    "        self.coefs = np.random.random(num_monomials)\n",
    "\n",
    "    def to_str(self):\n",
    "        monomials = [f\"{c:.1f}*{str_monomial(m)}\" for m, c in zip(self.monomials, self.coefs)]\n",
    "        print(\" + \".join(monomials))\n",
    "\n",
    "    def __call__(self, x, y, z):\n",
    "        return np.array([c * calc_monomial(m, x, y, z) for m, c in zip(self.monomials, self.coefs)]).sum(axis=0)\n",
    "    "
   ]
  },
  {
   "cell_type": "code",
   "execution_count": 46,
   "metadata": {
    "slideshow": {
     "slide_type": "subslide"
    }
   },
   "outputs": [
    {
     "name": "stdout",
     "output_type": "stream",
     "text": [
      "0.3*x**3*y**4*z**3 + 0.3*x**1*y**1*z**0 + 0.7*x**3*y**0*z**3 + 0.4*x**2*y**3*z**3 + 0.4*x**0*y**0*z**1\n"
     ]
    }
   ],
   "source": [
    "poly = Polynomial(5)\n",
    "poly.to_str()"
   ]
  },
  {
   "cell_type": "markdown",
   "metadata": {
    "slideshow": {
     "slide_type": "subslide"
    }
   },
   "source": [
    "#### Тренировочный датасет"
   ]
  },
  {
   "cell_type": "code",
   "execution_count": 47,
   "metadata": {
    "slideshow": {
     "slide_type": "-"
    }
   },
   "outputs": [],
   "source": [
    "xs = np.random.uniform(-2, 2, 500)\n",
    "ys = np.random.uniform(-2, 2, 500)\n",
    "zs = np.random.uniform(-2, 2, 500)"
   ]
  },
  {
   "cell_type": "code",
   "execution_count": 48,
   "metadata": {
    "slideshow": {
     "slide_type": "-"
    }
   },
   "outputs": [],
   "source": [
    "X = np.vstack([calc_monomial(m, xs, ys, zs) for m in range(power**3)]).T"
   ]
  },
  {
   "cell_type": "code",
   "execution_count": 49,
   "metadata": {
    "slideshow": {
     "slide_type": "fragment"
    }
   },
   "outputs": [
    {
     "data": {
      "text/plain": [
       "(500, 125)"
      ]
     },
     "execution_count": 49,
     "metadata": {},
     "output_type": "execute_result"
    }
   ],
   "source": [
    "X.shape"
   ]
  },
  {
   "cell_type": "code",
   "execution_count": 50,
   "metadata": {
    "slideshow": {
     "slide_type": "subslide"
    }
   },
   "outputs": [],
   "source": [
    "y = poly(xs, ys, zs) + np.random.normal(loc = 0.0, scale = 2.0, size=500)"
   ]
  },
  {
   "cell_type": "markdown",
   "metadata": {
    "slideshow": {
     "slide_type": "subslide"
    }
   },
   "source": [
    "#### И тестовый датасет"
   ]
  },
  {
   "cell_type": "code",
   "execution_count": 51,
   "metadata": {
    "slideshow": {
     "slide_type": "-"
    }
   },
   "outputs": [],
   "source": [
    "xs_test = np.random.uniform(3, 4, 50)\n",
    "ys_test = np.random.uniform(-4, -3, 50)\n",
    "zs_test = np.random.uniform(-3, -2, 50)"
   ]
  },
  {
   "cell_type": "code",
   "execution_count": 52,
   "metadata": {
    "slideshow": {
     "slide_type": "-"
    }
   },
   "outputs": [],
   "source": [
    "X_test = np.vstack([calc_monomial(m, xs_test, ys_test, zs_test) for m in range(power**3)]).T"
   ]
  },
  {
   "cell_type": "code",
   "execution_count": 53,
   "metadata": {
    "slideshow": {
     "slide_type": "-"
    }
   },
   "outputs": [
    {
     "data": {
      "text/plain": [
       "(50, 125)"
      ]
     },
     "execution_count": 53,
     "metadata": {},
     "output_type": "execute_result"
    }
   ],
   "source": [
    "X_test.shape"
   ]
  },
  {
   "cell_type": "code",
   "execution_count": 54,
   "metadata": {
    "slideshow": {
     "slide_type": "subslide"
    }
   },
   "outputs": [],
   "source": [
    "y_test=poly(xs_test, ys_test, zs_test)"
   ]
  },
  {
   "cell_type": "markdown",
   "metadata": {
    "slideshow": {
     "slide_type": "subslide"
    }
   },
   "source": [
    "### Линейная регрессия"
   ]
  },
  {
   "cell_type": "code",
   "execution_count": 55,
   "metadata": {
    "slideshow": {
     "slide_type": "-"
    }
   },
   "outputs": [],
   "source": [
    "from sklearn.linear_model import LinearRegression, Ridge, Lasso\n",
    "from sklearn.model_selection import cross_val_score, GridSearchCV"
   ]
  },
  {
   "cell_type": "code",
   "execution_count": 56,
   "metadata": {
    "slideshow": {
     "slide_type": "subslide"
    }
   },
   "outputs": [
    {
     "data": {
      "text/plain": [
       "0.96902"
      ]
     },
     "execution_count": 56,
     "metadata": {},
     "output_type": "execute_result"
    }
   ],
   "source": [
    "round(cross_val_score(LinearRegression(), X, y, cv=5).mean(), ndigits=5)"
   ]
  },
  {
   "cell_type": "markdown",
   "metadata": {
    "slideshow": {
     "slide_type": "-"
    }
   },
   "source": [
    "Даже на кроссвалидации результат далек от отличного:\n",
    "    \n",
    "----\n",
    "[Документация score](https://scikit-learn.org/stable/modules/generated/sklearn.linear_model.LinearRegression.html?highlight=score#sklearn.linear_model.LinearRegression.score)\n",
    "\n",
    "Коэффициент $R^2 = 1 - \\frac{u}{v}$\n",
    "\n",
    "$u = ((y\\_true - y\\_pred)^2).sum()$\n",
    "\n",
    "$v = ((y\\_true - y\\_true.mean())^2).sum()$\n"
   ]
  },
  {
   "cell_type": "code",
   "execution_count": 57,
   "metadata": {
    "slideshow": {
     "slide_type": "subslide"
    }
   },
   "outputs": [
    {
     "data": {
      "text/plain": [
       "-57.4429519360437"
      ]
     },
     "execution_count": 57,
     "metadata": {},
     "output_type": "execute_result"
    }
   ],
   "source": [
    "lin_reg = LinearRegression()\n",
    "lin_reg.fit(X, y)\n",
    "lin_reg.score(X_test, y_test)"
   ]
  },
  {
   "cell_type": "markdown",
   "metadata": {
    "slideshow": {
     "slide_type": "-"
    }
   },
   "source": [
    "Тестовые данные в другой области, поэтому результат там еще хуже.\n",
    "\n",
    "Посмотрим 10 самых больших по модулю коэффициентов и выведем их:"
   ]
  },
  {
   "cell_type": "code",
   "execution_count": 58,
   "metadata": {
    "slideshow": {
     "slide_type": "subslide"
    }
   },
   "outputs": [
    {
     "data": {
      "text/plain": [
       "array([16, 52, 26, 51, 31, 12, 37,  6, 62,  0], dtype=int64)"
      ]
     },
     "execution_count": 58,
     "metadata": {},
     "output_type": "execute_result"
    }
   ],
   "source": [
    "ind = np.array(np.abs(lin_reg.coef_)).argpartition(-10)[-10:]\n",
    "ind"
   ]
  },
  {
   "cell_type": "code",
   "execution_count": 59,
   "metadata": {
    "slideshow": {
     "slide_type": "subslide"
    }
   },
   "outputs": [
    {
     "name": "stdout",
     "output_type": "stream",
     "text": [
      "-1.6 x**1*y**3*z**0\n",
      "2.1 x**2*y**0*z**2\n",
      "-1.6 x**1*y**0*z**1\n",
      "1.8 x**1*y**0*z**2\n",
      "2.4 x**1*y**1*z**1\n",
      "1.7 x**2*y**2*z**0\n",
      "3.6 x**2*y**2*z**1\n",
      "3.0 x**1*y**1*z**0\n",
      "-3.6 x**2*y**2*z**2\n",
      "1583449595162.4 x**0*y**0*z**0\n"
     ]
    }
   ],
   "source": [
    "for m in ind:\n",
    "    print(f\"{lin_reg.coef_[m]:.1f} {str_monomial(m)}\")"
   ]
  },
  {
   "cell_type": "code",
   "execution_count": 60,
   "metadata": {
    "slideshow": {
     "slide_type": "-"
    }
   },
   "outputs": [
    {
     "name": "stdout",
     "output_type": "stream",
     "text": [
      "0.3*x**3*y**4*z**3 + 0.3*x**1*y**1*z**0 + 0.7*x**3*y**0*z**3 + 0.4*x**2*y**3*z**3 + 0.4*x**0*y**0*z**1\n"
     ]
    }
   ],
   "source": [
    "poly.to_str()"
   ]
  },
  {
   "cell_type": "markdown",
   "metadata": {
    "slideshow": {
     "slide_type": "subslide"
    }
   },
   "source": [
    "#### Поможет ли регуляризация?"
   ]
  },
  {
   "cell_type": "code",
   "execution_count": 61,
   "metadata": {
    "slideshow": {
     "slide_type": "-"
    }
   },
   "outputs": [
    {
     "data": {
      "text/plain": [
       "GridSearchCV(cv=5, error_score=nan,\n",
       "             estimator=Ridge(alpha=1.0, copy_X=True, fit_intercept=True,\n",
       "                             max_iter=None, normalize=False, random_state=None,\n",
       "                             solver='auto', tol=0.001),\n",
       "             iid='deprecated', n_jobs=None,\n",
       "             param_grid=[{'alpha': [0.001, 0.01, 0.1, 1.0, 10.0, 100.0, 1000.0,\n",
       "                                    10000.0, 100000.0, 1000000.0, 10000000.0,\n",
       "                                    100000000.0, 1000000000.0, 10000000000.0,\n",
       "                                    100000000000.0]}],\n",
       "             pre_dispatch='2*n_jobs', refit=True, return_train_score=False,\n",
       "             scoring=None, verbose=0)"
      ]
     },
     "execution_count": 61,
     "metadata": {},
     "output_type": "execute_result"
    }
   ],
   "source": [
    "param_grid = [{'alpha': [1e-3, 1e-2, 1e-1, 1.0, 1e1, 1e2, 1e3, 1e4, 1e5, 1e6, 1e7, 1e8, 1e9, 1e10, 1e11]}]\n",
    "ridge_searcher = GridSearchCV(Ridge(), param_grid, cv=5)\n",
    "ridge_searcher.fit(X, y)"
   ]
  },
  {
   "cell_type": "code",
   "execution_count": 62,
   "metadata": {
    "slideshow": {
     "slide_type": "subslide"
    }
   },
   "outputs": [
    {
     "data": {
      "text/html": [
       "<div>\n",
       "<style scoped>\n",
       "    .dataframe tbody tr th:only-of-type {\n",
       "        vertical-align: middle;\n",
       "    }\n",
       "\n",
       "    .dataframe tbody tr th {\n",
       "        vertical-align: top;\n",
       "    }\n",
       "\n",
       "    .dataframe thead th {\n",
       "        text-align: right;\n",
       "    }\n",
       "</style>\n",
       "<table border=\"1\" class=\"dataframe\">\n",
       "  <thead>\n",
       "    <tr style=\"text-align: right;\">\n",
       "      <th></th>\n",
       "      <th>mean_fit_time</th>\n",
       "      <th>std_fit_time</th>\n",
       "      <th>mean_score_time</th>\n",
       "      <th>std_score_time</th>\n",
       "      <th>param_alpha</th>\n",
       "      <th>params</th>\n",
       "      <th>split0_test_score</th>\n",
       "      <th>split1_test_score</th>\n",
       "      <th>split2_test_score</th>\n",
       "      <th>split3_test_score</th>\n",
       "      <th>split4_test_score</th>\n",
       "      <th>mean_test_score</th>\n",
       "      <th>std_test_score</th>\n",
       "      <th>rank_test_score</th>\n",
       "    </tr>\n",
       "  </thead>\n",
       "  <tbody>\n",
       "    <tr>\n",
       "      <th>12</th>\n",
       "      <td>0.001197</td>\n",
       "      <td>0.000399</td>\n",
       "      <td>0.000826</td>\n",
       "      <td>0.000416</td>\n",
       "      <td>1e+09</td>\n",
       "      <td>{'alpha': 1000000000.0}</td>\n",
       "      <td>-0.024923</td>\n",
       "      <td>-0.012345</td>\n",
       "      <td>-0.062617</td>\n",
       "      <td>-0.004878</td>\n",
       "      <td>-0.003265</td>\n",
       "      <td>-0.021606</td>\n",
       "      <td>0.021886</td>\n",
       "      <td>15</td>\n",
       "    </tr>\n",
       "    <tr>\n",
       "      <th>11</th>\n",
       "      <td>0.001218</td>\n",
       "      <td>0.000390</td>\n",
       "      <td>0.000598</td>\n",
       "      <td>0.000489</td>\n",
       "      <td>1e+08</td>\n",
       "      <td>{'alpha': 100000000.0}</td>\n",
       "      <td>-0.035633</td>\n",
       "      <td>0.063401</td>\n",
       "      <td>-0.170182</td>\n",
       "      <td>0.029047</td>\n",
       "      <td>0.007055</td>\n",
       "      <td>-0.021263</td>\n",
       "      <td>0.081098</td>\n",
       "      <td>14</td>\n",
       "    </tr>\n",
       "    <tr>\n",
       "      <th>13</th>\n",
       "      <td>0.001415</td>\n",
       "      <td>0.000512</td>\n",
       "      <td>0.000601</td>\n",
       "      <td>0.000490</td>\n",
       "      <td>1e+10</td>\n",
       "      <td>{'alpha': 10000000000.0}</td>\n",
       "      <td>-0.021897</td>\n",
       "      <td>-0.020858</td>\n",
       "      <td>-0.049444</td>\n",
       "      <td>-0.007644</td>\n",
       "      <td>-0.003573</td>\n",
       "      <td>-0.020683</td>\n",
       "      <td>0.016071</td>\n",
       "      <td>13</td>\n",
       "    </tr>\n",
       "    <tr>\n",
       "      <th>14</th>\n",
       "      <td>0.000998</td>\n",
       "      <td>0.000001</td>\n",
       "      <td>0.000620</td>\n",
       "      <td>0.000508</td>\n",
       "      <td>1e+11</td>\n",
       "      <td>{'alpha': 100000000000.0}</td>\n",
       "      <td>-0.021569</td>\n",
       "      <td>-0.021720</td>\n",
       "      <td>-0.048097</td>\n",
       "      <td>-0.007912</td>\n",
       "      <td>-0.003595</td>\n",
       "      <td>-0.020579</td>\n",
       "      <td>0.015546</td>\n",
       "      <td>12</td>\n",
       "    </tr>\n",
       "    <tr>\n",
       "      <th>10</th>\n",
       "      <td>0.001414</td>\n",
       "      <td>0.000513</td>\n",
       "      <td>0.000600</td>\n",
       "      <td>0.000490</td>\n",
       "      <td>1e+07</td>\n",
       "      <td>{'alpha': 10000000.0}</td>\n",
       "      <td>0.250214</td>\n",
       "      <td>0.410541</td>\n",
       "      <td>-0.485112</td>\n",
       "      <td>0.340465</td>\n",
       "      <td>0.231954</td>\n",
       "      <td>0.149612</td>\n",
       "      <td>0.323816</td>\n",
       "      <td>11</td>\n",
       "    </tr>\n",
       "    <tr>\n",
       "      <th>9</th>\n",
       "      <td>0.001614</td>\n",
       "      <td>0.000504</td>\n",
       "      <td>0.000602</td>\n",
       "      <td>0.000492</td>\n",
       "      <td>1e+06</td>\n",
       "      <td>{'alpha': 1000000.0}</td>\n",
       "      <td>0.853219</td>\n",
       "      <td>0.809056</td>\n",
       "      <td>-0.070365</td>\n",
       "      <td>0.767786</td>\n",
       "      <td>0.781099</td>\n",
       "      <td>0.628159</td>\n",
       "      <td>0.350485</td>\n",
       "      <td>10</td>\n",
       "    </tr>\n",
       "    <tr>\n",
       "      <th>8</th>\n",
       "      <td>0.001475</td>\n",
       "      <td>0.000449</td>\n",
       "      <td>0.000598</td>\n",
       "      <td>0.000489</td>\n",
       "      <td>100000</td>\n",
       "      <td>{'alpha': 100000.0}</td>\n",
       "      <td>0.964071</td>\n",
       "      <td>0.928335</td>\n",
       "      <td>0.848614</td>\n",
       "      <td>0.953823</td>\n",
       "      <td>0.926402</td>\n",
       "      <td>0.924249</td>\n",
       "      <td>0.040503</td>\n",
       "      <td>9</td>\n",
       "    </tr>\n",
       "    <tr>\n",
       "      <th>7</th>\n",
       "      <td>0.001224</td>\n",
       "      <td>0.000449</td>\n",
       "      <td>0.000597</td>\n",
       "      <td>0.000487</td>\n",
       "      <td>10000</td>\n",
       "      <td>{'alpha': 10000.0}</td>\n",
       "      <td>0.986459</td>\n",
       "      <td>0.963507</td>\n",
       "      <td>0.984678</td>\n",
       "      <td>0.987645</td>\n",
       "      <td>0.969752</td>\n",
       "      <td>0.978408</td>\n",
       "      <td>0.009863</td>\n",
       "      <td>8</td>\n",
       "    </tr>\n",
       "    <tr>\n",
       "      <th>0</th>\n",
       "      <td>0.002990</td>\n",
       "      <td>0.000631</td>\n",
       "      <td>0.001199</td>\n",
       "      <td>0.000982</td>\n",
       "      <td>0.001</td>\n",
       "      <td>{'alpha': 0.001}</td>\n",
       "      <td>0.983696</td>\n",
       "      <td>0.966748</td>\n",
       "      <td>0.993073</td>\n",
       "      <td>0.987786</td>\n",
       "      <td>0.986733</td>\n",
       "      <td>0.983607</td>\n",
       "      <td>0.008956</td>\n",
       "      <td>7</td>\n",
       "    </tr>\n",
       "    <tr>\n",
       "      <th>1</th>\n",
       "      <td>0.001789</td>\n",
       "      <td>0.000744</td>\n",
       "      <td>0.000605</td>\n",
       "      <td>0.000494</td>\n",
       "      <td>0.01</td>\n",
       "      <td>{'alpha': 0.01}</td>\n",
       "      <td>0.983729</td>\n",
       "      <td>0.966827</td>\n",
       "      <td>0.993096</td>\n",
       "      <td>0.987905</td>\n",
       "      <td>0.986758</td>\n",
       "      <td>0.983663</td>\n",
       "      <td>0.008944</td>\n",
       "      <td>6</td>\n",
       "    </tr>\n",
       "    <tr>\n",
       "      <th>2</th>\n",
       "      <td>0.001194</td>\n",
       "      <td>0.000399</td>\n",
       "      <td>0.000800</td>\n",
       "      <td>0.000400</td>\n",
       "      <td>0.1</td>\n",
       "      <td>{'alpha': 0.1}</td>\n",
       "      <td>0.983888</td>\n",
       "      <td>0.967420</td>\n",
       "      <td>0.993260</td>\n",
       "      <td>0.988758</td>\n",
       "      <td>0.986957</td>\n",
       "      <td>0.984057</td>\n",
       "      <td>0.008855</td>\n",
       "      <td>5</td>\n",
       "    </tr>\n",
       "    <tr>\n",
       "      <th>3</th>\n",
       "      <td>0.001796</td>\n",
       "      <td>0.000398</td>\n",
       "      <td>0.000199</td>\n",
       "      <td>0.000398</td>\n",
       "      <td>1</td>\n",
       "      <td>{'alpha': 1.0}</td>\n",
       "      <td>0.984326</td>\n",
       "      <td>0.969193</td>\n",
       "      <td>0.993642</td>\n",
       "      <td>0.990937</td>\n",
       "      <td>0.987735</td>\n",
       "      <td>0.985166</td>\n",
       "      <td>0.008574</td>\n",
       "      <td>4</td>\n",
       "    </tr>\n",
       "    <tr>\n",
       "      <th>4</th>\n",
       "      <td>0.001613</td>\n",
       "      <td>0.000504</td>\n",
       "      <td>0.000399</td>\n",
       "      <td>0.000489</td>\n",
       "      <td>10</td>\n",
       "      <td>{'alpha': 10.0}</td>\n",
       "      <td>0.986677</td>\n",
       "      <td>0.973263</td>\n",
       "      <td>0.993540</td>\n",
       "      <td>0.992856</td>\n",
       "      <td>0.988579</td>\n",
       "      <td>0.986983</td>\n",
       "      <td>0.007326</td>\n",
       "      <td>3</td>\n",
       "    </tr>\n",
       "    <tr>\n",
       "      <th>6</th>\n",
       "      <td>0.001196</td>\n",
       "      <td>0.000399</td>\n",
       "      <td>0.000646</td>\n",
       "      <td>0.000534</td>\n",
       "      <td>1000</td>\n",
       "      <td>{'alpha': 1000.0}</td>\n",
       "      <td>0.992228</td>\n",
       "      <td>0.975596</td>\n",
       "      <td>0.991756</td>\n",
       "      <td>0.993487</td>\n",
       "      <td>0.989230</td>\n",
       "      <td>0.988459</td>\n",
       "      <td>0.006579</td>\n",
       "      <td>2</td>\n",
       "    </tr>\n",
       "    <tr>\n",
       "      <th>5</th>\n",
       "      <td>0.001080</td>\n",
       "      <td>0.000164</td>\n",
       "      <td>0.000598</td>\n",
       "      <td>0.000489</td>\n",
       "      <td>100</td>\n",
       "      <td>{'alpha': 100.0}</td>\n",
       "      <td>0.990867</td>\n",
       "      <td>0.976655</td>\n",
       "      <td>0.992729</td>\n",
       "      <td>0.994247</td>\n",
       "      <td>0.990609</td>\n",
       "      <td>0.989022</td>\n",
       "      <td>0.006323</td>\n",
       "      <td>1</td>\n",
       "    </tr>\n",
       "  </tbody>\n",
       "</table>\n",
       "</div>"
      ],
      "text/plain": [
       "    mean_fit_time  std_fit_time  mean_score_time  std_score_time param_alpha  \\\n",
       "12       0.001197      0.000399         0.000826        0.000416       1e+09   \n",
       "11       0.001218      0.000390         0.000598        0.000489       1e+08   \n",
       "13       0.001415      0.000512         0.000601        0.000490       1e+10   \n",
       "14       0.000998      0.000001         0.000620        0.000508       1e+11   \n",
       "10       0.001414      0.000513         0.000600        0.000490       1e+07   \n",
       "9        0.001614      0.000504         0.000602        0.000492       1e+06   \n",
       "8        0.001475      0.000449         0.000598        0.000489      100000   \n",
       "7        0.001224      0.000449         0.000597        0.000487       10000   \n",
       "0        0.002990      0.000631         0.001199        0.000982       0.001   \n",
       "1        0.001789      0.000744         0.000605        0.000494        0.01   \n",
       "2        0.001194      0.000399         0.000800        0.000400         0.1   \n",
       "3        0.001796      0.000398         0.000199        0.000398           1   \n",
       "4        0.001613      0.000504         0.000399        0.000489          10   \n",
       "6        0.001196      0.000399         0.000646        0.000534        1000   \n",
       "5        0.001080      0.000164         0.000598        0.000489         100   \n",
       "\n",
       "                       params  split0_test_score  split1_test_score  \\\n",
       "12    {'alpha': 1000000000.0}          -0.024923          -0.012345   \n",
       "11     {'alpha': 100000000.0}          -0.035633           0.063401   \n",
       "13   {'alpha': 10000000000.0}          -0.021897          -0.020858   \n",
       "14  {'alpha': 100000000000.0}          -0.021569          -0.021720   \n",
       "10      {'alpha': 10000000.0}           0.250214           0.410541   \n",
       "9        {'alpha': 1000000.0}           0.853219           0.809056   \n",
       "8         {'alpha': 100000.0}           0.964071           0.928335   \n",
       "7          {'alpha': 10000.0}           0.986459           0.963507   \n",
       "0            {'alpha': 0.001}           0.983696           0.966748   \n",
       "1             {'alpha': 0.01}           0.983729           0.966827   \n",
       "2              {'alpha': 0.1}           0.983888           0.967420   \n",
       "3              {'alpha': 1.0}           0.984326           0.969193   \n",
       "4             {'alpha': 10.0}           0.986677           0.973263   \n",
       "6           {'alpha': 1000.0}           0.992228           0.975596   \n",
       "5            {'alpha': 100.0}           0.990867           0.976655   \n",
       "\n",
       "    split2_test_score  split3_test_score  split4_test_score  mean_test_score  \\\n",
       "12          -0.062617          -0.004878          -0.003265        -0.021606   \n",
       "11          -0.170182           0.029047           0.007055        -0.021263   \n",
       "13          -0.049444          -0.007644          -0.003573        -0.020683   \n",
       "14          -0.048097          -0.007912          -0.003595        -0.020579   \n",
       "10          -0.485112           0.340465           0.231954         0.149612   \n",
       "9           -0.070365           0.767786           0.781099         0.628159   \n",
       "8            0.848614           0.953823           0.926402         0.924249   \n",
       "7            0.984678           0.987645           0.969752         0.978408   \n",
       "0            0.993073           0.987786           0.986733         0.983607   \n",
       "1            0.993096           0.987905           0.986758         0.983663   \n",
       "2            0.993260           0.988758           0.986957         0.984057   \n",
       "3            0.993642           0.990937           0.987735         0.985166   \n",
       "4            0.993540           0.992856           0.988579         0.986983   \n",
       "6            0.991756           0.993487           0.989230         0.988459   \n",
       "5            0.992729           0.994247           0.990609         0.989022   \n",
       "\n",
       "    std_test_score  rank_test_score  \n",
       "12        0.021886               15  \n",
       "11        0.081098               14  \n",
       "13        0.016071               13  \n",
       "14        0.015546               12  \n",
       "10        0.323816               11  \n",
       "9         0.350485               10  \n",
       "8         0.040503                9  \n",
       "7         0.009863                8  \n",
       "0         0.008956                7  \n",
       "1         0.008944                6  \n",
       "2         0.008855                5  \n",
       "3         0.008574                4  \n",
       "4         0.007326                3  \n",
       "6         0.006579                2  \n",
       "5         0.006323                1  "
      ]
     },
     "execution_count": 62,
     "metadata": {},
     "output_type": "execute_result"
    }
   ],
   "source": [
    "import pandas as pd\n",
    "\n",
    "pd.DataFrame(ridge_searcher.cv_results_).sort_values(\"mean_test_score\")"
   ]
  },
  {
   "cell_type": "code",
   "execution_count": 63,
   "metadata": {
    "slideshow": {
     "slide_type": "subslide"
    }
   },
   "outputs": [],
   "source": [
    "ridge_reg = ridge_searcher.best_estimator_"
   ]
  },
  {
   "cell_type": "markdown",
   "metadata": {
    "slideshow": {
     "slide_type": "-"
    }
   },
   "source": [
    "Результат заметно лучше!"
   ]
  },
  {
   "cell_type": "code",
   "execution_count": 64,
   "metadata": {
    "slideshow": {
     "slide_type": "-"
    }
   },
   "outputs": [
    {
     "data": {
      "text/plain": [
       "0.8622076201433861"
      ]
     },
     "execution_count": 64,
     "metadata": {},
     "output_type": "execute_result"
    }
   ],
   "source": [
    "ridge_reg.score(X_test, y_test)"
   ]
  },
  {
   "cell_type": "markdown",
   "metadata": {
    "slideshow": {
     "slide_type": "subslide"
    }
   },
   "source": [
    "Посмотрим, какие мономы были отобраны теперь:"
   ]
  },
  {
   "cell_type": "code",
   "execution_count": 67,
   "metadata": {
    "slideshow": {
     "slide_type": "-"
    }
   },
   "outputs": [
    {
     "data": {
      "text/plain": [
       "array([ 6, 81, 65, 92, 98, 78], dtype=int64)"
      ]
     },
     "execution_count": 67,
     "metadata": {},
     "output_type": "execute_result"
    }
   ],
   "source": [
    "ind = np.array(np.abs(ridge_reg.coef_)).argpartition(-6)[-6:]\n",
    "ind"
   ]
  },
  {
   "cell_type": "code",
   "execution_count": 68,
   "metadata": {
    "slideshow": {
     "slide_type": "subslide"
    }
   },
   "outputs": [
    {
     "name": "stdout",
     "output_type": "stream",
     "text": [
      "3.0 x**1*y**1*z**0\n",
      "-0.7 x**1*y**1*z**3\n",
      "-0.1 x**0*y**3*z**2\n",
      "0.2 x**2*y**3*z**3\n",
      "0.3 x**3*y**4*z**3\n",
      "0.4 x**3*y**0*z**3\n"
     ]
    }
   ],
   "source": [
    "for m in ind:\n",
    "    print(f\"{lin_reg.coef_[m]:.1f} {str_monomial(m)}\")"
   ]
  },
  {
   "cell_type": "code",
   "execution_count": 69,
   "metadata": {
    "slideshow": {
     "slide_type": "fragment"
    }
   },
   "outputs": [
    {
     "name": "stdout",
     "output_type": "stream",
     "text": [
      "0.3*x**3*y**4*z**3 + 0.3*x**1*y**1*z**0 + 0.7*x**3*y**0*z**3 + 0.4*x**2*y**3*z**3 + 0.4*x**0*y**0*z**1\n"
     ]
    }
   ],
   "source": [
    "poly.to_str()"
   ]
  },
  {
   "cell_type": "markdown",
   "metadata": {
    "slideshow": {
     "slide_type": "-"
    }
   },
   "source": [
    "Из ответа в ТОП-6 уже попали первые четыре из пяти."
   ]
  },
  {
   "cell_type": "markdown",
   "metadata": {
    "slideshow": {
     "slide_type": "subslide"
    }
   },
   "source": [
    "#### Отбор признаков можно делать с помощью Лассо"
   ]
  },
  {
   "cell_type": "code",
   "execution_count": 70,
   "metadata": {
    "slideshow": {
     "slide_type": "-"
    }
   },
   "outputs": [
    {
     "name": "stderr",
     "output_type": "stream",
     "text": [
      "C:\\Users\\avalur\\Anaconda3\\lib\\site-packages\\sklearn\\linear_model\\_coordinate_descent.py:476: ConvergenceWarning: Objective did not converge. You might want to increase the number of iterations. Duality gap: 586.9573687406522, tolerance: 28.55338104995496\n",
      "  positive)\n",
      "C:\\Users\\avalur\\Anaconda3\\lib\\site-packages\\sklearn\\linear_model\\_coordinate_descent.py:476: ConvergenceWarning: Objective did not converge. You might want to increase the number of iterations. Duality gap: 649.1927569897489, tolerance: 36.18011727214726\n",
      "  positive)\n",
      "C:\\Users\\avalur\\Anaconda3\\lib\\site-packages\\sklearn\\linear_model\\_coordinate_descent.py:476: ConvergenceWarning: Objective did not converge. You might want to increase the number of iterations. Duality gap: 672.097816202288, tolerance: 25.165947617340958\n",
      "  positive)\n",
      "C:\\Users\\avalur\\Anaconda3\\lib\\site-packages\\sklearn\\linear_model\\_coordinate_descent.py:476: ConvergenceWarning: Objective did not converge. You might want to increase the number of iterations. Duality gap: 660.0002791297375, tolerance: 30.629713245567984\n",
      "  positive)\n",
      "C:\\Users\\avalur\\Anaconda3\\lib\\site-packages\\sklearn\\linear_model\\_coordinate_descent.py:476: ConvergenceWarning: Objective did not converge. You might want to increase the number of iterations. Duality gap: 634.4706912742978, tolerance: 32.90247056216534\n",
      "  positive)\n",
      "C:\\Users\\avalur\\Anaconda3\\lib\\site-packages\\sklearn\\linear_model\\_coordinate_descent.py:476: ConvergenceWarning: Objective did not converge. You might want to increase the number of iterations. Duality gap: 509.2486109611936, tolerance: 28.55338104995496\n",
      "  positive)\n",
      "C:\\Users\\avalur\\Anaconda3\\lib\\site-packages\\sklearn\\linear_model\\_coordinate_descent.py:476: ConvergenceWarning: Objective did not converge. You might want to increase the number of iterations. Duality gap: 607.9787484201986, tolerance: 36.18011727214726\n",
      "  positive)\n",
      "C:\\Users\\avalur\\Anaconda3\\lib\\site-packages\\sklearn\\linear_model\\_coordinate_descent.py:476: ConvergenceWarning: Objective did not converge. You might want to increase the number of iterations. Duality gap: 656.5734882185328, tolerance: 25.165947617340958\n",
      "  positive)\n",
      "C:\\Users\\avalur\\Anaconda3\\lib\\site-packages\\sklearn\\linear_model\\_coordinate_descent.py:476: ConvergenceWarning: Objective did not converge. You might want to increase the number of iterations. Duality gap: 624.5852151283013, tolerance: 30.629713245567984\n",
      "  positive)\n",
      "C:\\Users\\avalur\\Anaconda3\\lib\\site-packages\\sklearn\\linear_model\\_coordinate_descent.py:476: ConvergenceWarning: Objective did not converge. You might want to increase the number of iterations. Duality gap: 584.3487551761333, tolerance: 32.90247056216534\n",
      "  positive)\n",
      "C:\\Users\\avalur\\Anaconda3\\lib\\site-packages\\sklearn\\linear_model\\_coordinate_descent.py:476: ConvergenceWarning: Objective did not converge. You might want to increase the number of iterations. Duality gap: 233.81329165134537, tolerance: 28.55338104995496\n",
      "  positive)\n",
      "C:\\Users\\avalur\\Anaconda3\\lib\\site-packages\\sklearn\\linear_model\\_coordinate_descent.py:476: ConvergenceWarning: Objective did not converge. You might want to increase the number of iterations. Duality gap: 434.5994095207999, tolerance: 36.18011727214726\n",
      "  positive)\n",
      "C:\\Users\\avalur\\Anaconda3\\lib\\site-packages\\sklearn\\linear_model\\_coordinate_descent.py:476: ConvergenceWarning: Objective did not converge. You might want to increase the number of iterations. Duality gap: 534.4423669423861, tolerance: 25.165947617340958\n",
      "  positive)\n",
      "C:\\Users\\avalur\\Anaconda3\\lib\\site-packages\\sklearn\\linear_model\\_coordinate_descent.py:476: ConvergenceWarning: Objective did not converge. You might want to increase the number of iterations. Duality gap: 278.4061714566493, tolerance: 30.629713245567984\n",
      "  positive)\n",
      "C:\\Users\\avalur\\Anaconda3\\lib\\site-packages\\sklearn\\linear_model\\_coordinate_descent.py:476: ConvergenceWarning: Objective did not converge. You might want to increase the number of iterations. Duality gap: 451.2915681814019, tolerance: 32.90247056216534\n",
      "  positive)\n"
     ]
    },
    {
     "data": {
      "text/plain": [
       "GridSearchCV(cv=5, error_score=nan,\n",
       "             estimator=Lasso(alpha=1.0, copy_X=True, fit_intercept=True,\n",
       "                             max_iter=1000, normalize=False, positive=False,\n",
       "                             precompute=False, random_state=None,\n",
       "                             selection='cyclic', tol=0.0001, warm_start=False),\n",
       "             iid='deprecated', n_jobs=None,\n",
       "             param_grid=[{'alpha': [0.001, 0.01, 0.1, 1.0, 10.0, 100.0, 1000.0,\n",
       "                                    10000.0, 100000.0, 1000000.0,\n",
       "                                    10000000.0]}],\n",
       "             pre_dispatch='2*n_jobs', refit=True, return_train_score=False,\n",
       "             scoring=None, verbose=0)"
      ]
     },
     "execution_count": 70,
     "metadata": {},
     "output_type": "execute_result"
    }
   ],
   "source": [
    "param_grid = [{'alpha': [1e-3, 1e-2, 1e-1, 1.0, 1e1, 1e2, 1e3, 1e4, 1e5, 1e6, 1e7]}]\n",
    "lasso_searcher = GridSearchCV(Lasso(), param_grid, cv=5)\n",
    "lasso_searcher.fit(X, y)"
   ]
  },
  {
   "cell_type": "code",
   "execution_count": 71,
   "metadata": {
    "slideshow": {
     "slide_type": "subslide"
    }
   },
   "outputs": [
    {
     "data": {
      "text/html": [
       "<div>\n",
       "<style scoped>\n",
       "    .dataframe tbody tr th:only-of-type {\n",
       "        vertical-align: middle;\n",
       "    }\n",
       "\n",
       "    .dataframe tbody tr th {\n",
       "        vertical-align: top;\n",
       "    }\n",
       "\n",
       "    .dataframe thead th {\n",
       "        text-align: right;\n",
       "    }\n",
       "</style>\n",
       "<table border=\"1\" class=\"dataframe\">\n",
       "  <thead>\n",
       "    <tr style=\"text-align: right;\">\n",
       "      <th></th>\n",
       "      <th>mean_fit_time</th>\n",
       "      <th>std_fit_time</th>\n",
       "      <th>mean_score_time</th>\n",
       "      <th>std_score_time</th>\n",
       "      <th>param_alpha</th>\n",
       "      <th>params</th>\n",
       "      <th>split0_test_score</th>\n",
       "      <th>split1_test_score</th>\n",
       "      <th>split2_test_score</th>\n",
       "      <th>split3_test_score</th>\n",
       "      <th>split4_test_score</th>\n",
       "      <th>mean_test_score</th>\n",
       "      <th>std_test_score</th>\n",
       "      <th>rank_test_score</th>\n",
       "    </tr>\n",
       "  </thead>\n",
       "  <tbody>\n",
       "    <tr>\n",
       "      <th>7</th>\n",
       "      <td>0.001012</td>\n",
       "      <td>2.968555e-05</td>\n",
       "      <td>0.000399</td>\n",
       "      <td>4.888697e-04</td>\n",
       "      <td>10000</td>\n",
       "      <td>{'alpha': 10000.0}</td>\n",
       "      <td>-0.021533</td>\n",
       "      <td>-0.021816</td>\n",
       "      <td>-0.047947</td>\n",
       "      <td>-0.007942</td>\n",
       "      <td>-0.003597</td>\n",
       "      <td>-0.020567</td>\n",
       "      <td>0.015489</td>\n",
       "      <td>8</td>\n",
       "    </tr>\n",
       "    <tr>\n",
       "      <th>8</th>\n",
       "      <td>0.001197</td>\n",
       "      <td>3.987573e-04</td>\n",
       "      <td>0.000645</td>\n",
       "      <td>5.331368e-04</td>\n",
       "      <td>100000</td>\n",
       "      <td>{'alpha': 100000.0}</td>\n",
       "      <td>-0.021533</td>\n",
       "      <td>-0.021816</td>\n",
       "      <td>-0.047947</td>\n",
       "      <td>-0.007942</td>\n",
       "      <td>-0.003597</td>\n",
       "      <td>-0.020567</td>\n",
       "      <td>0.015489</td>\n",
       "      <td>8</td>\n",
       "    </tr>\n",
       "    <tr>\n",
       "      <th>9</th>\n",
       "      <td>0.000813</td>\n",
       "      <td>4.076974e-04</td>\n",
       "      <td>0.000599</td>\n",
       "      <td>4.890840e-04</td>\n",
       "      <td>1e+06</td>\n",
       "      <td>{'alpha': 1000000.0}</td>\n",
       "      <td>-0.021533</td>\n",
       "      <td>-0.021816</td>\n",
       "      <td>-0.047947</td>\n",
       "      <td>-0.007942</td>\n",
       "      <td>-0.003597</td>\n",
       "      <td>-0.020567</td>\n",
       "      <td>0.015489</td>\n",
       "      <td>8</td>\n",
       "    </tr>\n",
       "    <tr>\n",
       "      <th>10</th>\n",
       "      <td>0.001012</td>\n",
       "      <td>2.885673e-05</td>\n",
       "      <td>0.000598</td>\n",
       "      <td>4.883832e-04</td>\n",
       "      <td>1e+07</td>\n",
       "      <td>{'alpha': 10000000.0}</td>\n",
       "      <td>-0.021533</td>\n",
       "      <td>-0.021816</td>\n",
       "      <td>-0.047947</td>\n",
       "      <td>-0.007942</td>\n",
       "      <td>-0.003597</td>\n",
       "      <td>-0.020567</td>\n",
       "      <td>0.015489</td>\n",
       "      <td>8</td>\n",
       "    </tr>\n",
       "    <tr>\n",
       "      <th>6</th>\n",
       "      <td>0.001214</td>\n",
       "      <td>4.320396e-04</td>\n",
       "      <td>0.000399</td>\n",
       "      <td>4.885192e-04</td>\n",
       "      <td>1000</td>\n",
       "      <td>{'alpha': 1000.0}</td>\n",
       "      <td>0.417315</td>\n",
       "      <td>0.603484</td>\n",
       "      <td>-0.753077</td>\n",
       "      <td>0.627169</td>\n",
       "      <td>0.423002</td>\n",
       "      <td>0.263578</td>\n",
       "      <td>0.515824</td>\n",
       "      <td>7</td>\n",
       "    </tr>\n",
       "    <tr>\n",
       "      <th>5</th>\n",
       "      <td>0.000998</td>\n",
       "      <td>8.313940e-07</td>\n",
       "      <td>0.001020</td>\n",
       "      <td>4.649517e-05</td>\n",
       "      <td>100</td>\n",
       "      <td>{'alpha': 100.0}</td>\n",
       "      <td>0.938347</td>\n",
       "      <td>0.865501</td>\n",
       "      <td>0.950291</td>\n",
       "      <td>0.964175</td>\n",
       "      <td>0.903246</td>\n",
       "      <td>0.924312</td>\n",
       "      <td>0.035675</td>\n",
       "      <td>6</td>\n",
       "    </tr>\n",
       "    <tr>\n",
       "      <th>4</th>\n",
       "      <td>0.003188</td>\n",
       "      <td>4.004782e-04</td>\n",
       "      <td>0.000998</td>\n",
       "      <td>6.743496e-07</td>\n",
       "      <td>10</td>\n",
       "      <td>{'alpha': 10.0}</td>\n",
       "      <td>0.990992</td>\n",
       "      <td>0.957849</td>\n",
       "      <td>0.991427</td>\n",
       "      <td>0.990772</td>\n",
       "      <td>0.981657</td>\n",
       "      <td>0.982539</td>\n",
       "      <td>0.012873</td>\n",
       "      <td>5</td>\n",
       "    </tr>\n",
       "    <tr>\n",
       "      <th>0</th>\n",
       "      <td>0.031757</td>\n",
       "      <td>4.379444e-03</td>\n",
       "      <td>0.000814</td>\n",
       "      <td>4.102355e-04</td>\n",
       "      <td>0.001</td>\n",
       "      <td>{'alpha': 0.001}</td>\n",
       "      <td>0.988021</td>\n",
       "      <td>0.971295</td>\n",
       "      <td>0.983694</td>\n",
       "      <td>0.993116</td>\n",
       "      <td>0.987455</td>\n",
       "      <td>0.984716</td>\n",
       "      <td>0.007351</td>\n",
       "      <td>4</td>\n",
       "    </tr>\n",
       "    <tr>\n",
       "      <th>1</th>\n",
       "      <td>0.031310</td>\n",
       "      <td>5.579778e-03</td>\n",
       "      <td>0.000399</td>\n",
       "      <td>4.890457e-04</td>\n",
       "      <td>0.01</td>\n",
       "      <td>{'alpha': 0.01}</td>\n",
       "      <td>0.989201</td>\n",
       "      <td>0.976505</td>\n",
       "      <td>0.984072</td>\n",
       "      <td>0.993680</td>\n",
       "      <td>0.988705</td>\n",
       "      <td>0.986432</td>\n",
       "      <td>0.005822</td>\n",
       "      <td>3</td>\n",
       "    </tr>\n",
       "    <tr>\n",
       "      <th>2</th>\n",
       "      <td>0.024108</td>\n",
       "      <td>2.654760e-03</td>\n",
       "      <td>0.000411</td>\n",
       "      <td>5.036862e-04</td>\n",
       "      <td>0.1</td>\n",
       "      <td>{'alpha': 0.1}</td>\n",
       "      <td>0.992821</td>\n",
       "      <td>0.977667</td>\n",
       "      <td>0.990486</td>\n",
       "      <td>0.994845</td>\n",
       "      <td>0.991737</td>\n",
       "      <td>0.989511</td>\n",
       "      <td>0.006093</td>\n",
       "      <td>2</td>\n",
       "    </tr>\n",
       "    <tr>\n",
       "      <th>3</th>\n",
       "      <td>0.008634</td>\n",
       "      <td>8.129802e-04</td>\n",
       "      <td>0.000801</td>\n",
       "      <td>4.005198e-04</td>\n",
       "      <td>1</td>\n",
       "      <td>{'alpha': 1.0}</td>\n",
       "      <td>0.994945</td>\n",
       "      <td>0.979537</td>\n",
       "      <td>0.996582</td>\n",
       "      <td>0.995198</td>\n",
       "      <td>0.990951</td>\n",
       "      <td>0.991443</td>\n",
       "      <td>0.006241</td>\n",
       "      <td>1</td>\n",
       "    </tr>\n",
       "  </tbody>\n",
       "</table>\n",
       "</div>"
      ],
      "text/plain": [
       "    mean_fit_time  std_fit_time  mean_score_time  std_score_time param_alpha  \\\n",
       "7        0.001012  2.968555e-05         0.000399    4.888697e-04       10000   \n",
       "8        0.001197  3.987573e-04         0.000645    5.331368e-04      100000   \n",
       "9        0.000813  4.076974e-04         0.000599    4.890840e-04       1e+06   \n",
       "10       0.001012  2.885673e-05         0.000598    4.883832e-04       1e+07   \n",
       "6        0.001214  4.320396e-04         0.000399    4.885192e-04        1000   \n",
       "5        0.000998  8.313940e-07         0.001020    4.649517e-05         100   \n",
       "4        0.003188  4.004782e-04         0.000998    6.743496e-07          10   \n",
       "0        0.031757  4.379444e-03         0.000814    4.102355e-04       0.001   \n",
       "1        0.031310  5.579778e-03         0.000399    4.890457e-04        0.01   \n",
       "2        0.024108  2.654760e-03         0.000411    5.036862e-04         0.1   \n",
       "3        0.008634  8.129802e-04         0.000801    4.005198e-04           1   \n",
       "\n",
       "                   params  split0_test_score  split1_test_score  \\\n",
       "7      {'alpha': 10000.0}          -0.021533          -0.021816   \n",
       "8     {'alpha': 100000.0}          -0.021533          -0.021816   \n",
       "9    {'alpha': 1000000.0}          -0.021533          -0.021816   \n",
       "10  {'alpha': 10000000.0}          -0.021533          -0.021816   \n",
       "6       {'alpha': 1000.0}           0.417315           0.603484   \n",
       "5        {'alpha': 100.0}           0.938347           0.865501   \n",
       "4         {'alpha': 10.0}           0.990992           0.957849   \n",
       "0        {'alpha': 0.001}           0.988021           0.971295   \n",
       "1         {'alpha': 0.01}           0.989201           0.976505   \n",
       "2          {'alpha': 0.1}           0.992821           0.977667   \n",
       "3          {'alpha': 1.0}           0.994945           0.979537   \n",
       "\n",
       "    split2_test_score  split3_test_score  split4_test_score  mean_test_score  \\\n",
       "7           -0.047947          -0.007942          -0.003597        -0.020567   \n",
       "8           -0.047947          -0.007942          -0.003597        -0.020567   \n",
       "9           -0.047947          -0.007942          -0.003597        -0.020567   \n",
       "10          -0.047947          -0.007942          -0.003597        -0.020567   \n",
       "6           -0.753077           0.627169           0.423002         0.263578   \n",
       "5            0.950291           0.964175           0.903246         0.924312   \n",
       "4            0.991427           0.990772           0.981657         0.982539   \n",
       "0            0.983694           0.993116           0.987455         0.984716   \n",
       "1            0.984072           0.993680           0.988705         0.986432   \n",
       "2            0.990486           0.994845           0.991737         0.989511   \n",
       "3            0.996582           0.995198           0.990951         0.991443   \n",
       "\n",
       "    std_test_score  rank_test_score  \n",
       "7         0.015489                8  \n",
       "8         0.015489                8  \n",
       "9         0.015489                8  \n",
       "10        0.015489                8  \n",
       "6         0.515824                7  \n",
       "5         0.035675                6  \n",
       "4         0.012873                5  \n",
       "0         0.007351                4  \n",
       "1         0.005822                3  \n",
       "2         0.006093                2  \n",
       "3         0.006241                1  "
      ]
     },
     "execution_count": 71,
     "metadata": {},
     "output_type": "execute_result"
    }
   ],
   "source": [
    "pd.DataFrame(lasso_searcher.cv_results_).sort_values(\"mean_test_score\")"
   ]
  },
  {
   "cell_type": "markdown",
   "metadata": {
    "slideshow": {
     "slide_type": "subslide"
    }
   },
   "source": [
    "Результат стал ещё лучше:"
   ]
  },
  {
   "cell_type": "code",
   "execution_count": 72,
   "metadata": {
    "slideshow": {
     "slide_type": "-"
    }
   },
   "outputs": [
    {
     "data": {
      "text/plain": [
       "0.9997638418566644"
      ]
     },
     "execution_count": 72,
     "metadata": {},
     "output_type": "execute_result"
    }
   ],
   "source": [
    "lasso_reg = lasso_searcher.best_estimator_\n",
    "lasso_reg.score(X_test, y_test)"
   ]
  },
  {
   "cell_type": "markdown",
   "metadata": {
    "slideshow": {
     "slide_type": "subslide"
    }
   },
   "source": [
    "Посмотрим, сколько параметров осталось после лассо регрессии:"
   ]
  },
  {
   "cell_type": "code",
   "execution_count": 73,
   "metadata": {
    "slideshow": {
     "slide_type": "-"
    }
   },
   "outputs": [
    {
     "data": {
      "text/plain": [
       "16"
      ]
     },
     "execution_count": 73,
     "metadata": {},
     "output_type": "execute_result"
    }
   ],
   "source": [
    "np.count_nonzero(lasso_reg.coef_)"
   ]
  },
  {
   "cell_type": "markdown",
   "metadata": {
    "id": "cjbBMuZb8wwA",
    "slideshow": {
     "slide_type": "subslide"
    }
   },
   "source": [
    "При этом коэфициенты монов всё ещё далеки от заданных нами:"
   ]
  },
  {
   "cell_type": "code",
   "execution_count": 74,
   "metadata": {
    "id": "qM4YZ4yulWuF",
    "slideshow": {
     "slide_type": "-"
    }
   },
   "outputs": [
    {
     "data": {
      "text/plain": [
       "array([ 23,  19,  94,  95,  92,  78,  98, 116], dtype=int64)"
      ]
     },
     "execution_count": 74,
     "metadata": {},
     "output_type": "execute_result"
    }
   ],
   "source": [
    "lasso_ind = np.array(np.abs(lasso_reg.coef_)).argpartition(-8)[-8:]\n",
    "lasso_ind"
   ]
  },
  {
   "cell_type": "code",
   "execution_count": 75,
   "metadata": {
    "slideshow": {
     "slide_type": "subslide"
    }
   },
   "outputs": [
    {
     "name": "stdout",
     "output_type": "stream",
     "text": [
      "3.0 x**1*y**1*z**0\n",
      "-0.7 x**1*y**1*z**3\n",
      "-0.1 x**0*y**3*z**2\n",
      "0.2 x**2*y**3*z**3\n",
      "0.3 x**3*y**4*z**3\n",
      "0.4 x**3*y**0*z**3\n"
     ]
    }
   ],
   "source": [
    "for m in ind:\n",
    "    print(f\"{lin_reg.coef_[m]:.1f} {str_monomial(m)}\")"
   ]
  },
  {
   "cell_type": "code",
   "execution_count": 76,
   "metadata": {
    "colab": {
     "base_uri": "https://localhost:8080/",
     "height": 731
    },
    "id": "Nc9JUIatdRFz",
    "outputId": "3aea1b45-4a51-416a-fa8b-39b1a8084fb9",
    "slideshow": {
     "slide_type": "-"
    }
   },
   "outputs": [
    {
     "name": "stdout",
     "output_type": "stream",
     "text": [
      "0.3*x**3*y**4*z**3 + 0.3*x**1*y**1*z**0 + 0.7*x**3*y**0*z**3 + 0.4*x**2*y**3*z**3 + 0.4*x**0*y**0*z**1\n"
     ]
    }
   ],
   "source": [
    "poly.to_str()"
   ]
  },
  {
   "cell_type": "markdown",
   "metadata": {
    "slideshow": {
     "slide_type": "subslide"
    }
   },
   "source": [
    "#### Отобор признаков с помощью прохода вперед (Add)"
   ]
  },
  {
   "cell_type": "code",
   "execution_count": 77,
   "metadata": {
    "slideshow": {
     "slide_type": "-"
    }
   },
   "outputs": [
    {
     "data": {
      "text/plain": [
       "SequentialFeatureSelector(clone_estimator=True, cv=5,\n",
       "                          estimator=LinearRegression(copy_X=True,\n",
       "                                                     fit_intercept=True,\n",
       "                                                     n_jobs=None,\n",
       "                                                     normalize=False),\n",
       "                          fixed_features=None, floating=False, forward=True,\n",
       "                          k_features='parsimonious', n_jobs=1,\n",
       "                          pre_dispatch='2*n_jobs', scoring=None, verbose=0)"
      ]
     },
     "execution_count": 77,
     "metadata": {},
     "output_type": "execute_result"
    }
   ],
   "source": [
    "from mlxtend.feature_selection import SequentialFeatureSelector as sfs\n",
    "\n",
    "forward_feature_selector = sfs(LinearRegression(), k_features=\"parsimonious\", cv=5)\n",
    "forward_feature_selector.fit(X, y)"
   ]
  },
  {
   "cell_type": "code",
   "execution_count": 79,
   "metadata": {
    "id": "RA0Gwvdh9WRU",
    "slideshow": {
     "slide_type": "-"
    }
   },
   "outputs": [
    {
     "data": {
      "text/plain": [
       "(78, 82, 92, 98)"
      ]
     },
     "execution_count": 79,
     "metadata": {},
     "output_type": "execute_result"
    }
   ],
   "source": [
    "forward_feature_selector.k_feature_idx_"
   ]
  },
  {
   "cell_type": "code",
   "execution_count": 80,
   "metadata": {
    "id": "Lm_M4bux7I3H",
    "slideshow": {
     "slide_type": "subslide"
    }
   },
   "outputs": [
    {
     "data": {
      "text/html": [
       "<div>\n",
       "<style scoped>\n",
       "    .dataframe tbody tr th:only-of-type {\n",
       "        vertical-align: middle;\n",
       "    }\n",
       "\n",
       "    .dataframe tbody tr th {\n",
       "        vertical-align: top;\n",
       "    }\n",
       "\n",
       "    .dataframe thead th {\n",
       "        text-align: right;\n",
       "    }\n",
       "</style>\n",
       "<table border=\"1\" class=\"dataframe\">\n",
       "  <thead>\n",
       "    <tr style=\"text-align: right;\">\n",
       "      <th></th>\n",
       "      <th>feature_idx</th>\n",
       "      <th>cv_scores</th>\n",
       "      <th>avg_score</th>\n",
       "      <th>feature_names</th>\n",
       "    </tr>\n",
       "  </thead>\n",
       "  <tbody>\n",
       "    <tr>\n",
       "      <th>0</th>\n",
       "      <td>(98,)</td>\n",
       "      <td>[0.8831931162135032, 0.7883122763628012, 0.929...</td>\n",
       "      <td>0.876303</td>\n",
       "      <td>(98,)</td>\n",
       "    </tr>\n",
       "    <tr>\n",
       "      <th>1</th>\n",
       "      <td>(82, 98)</td>\n",
       "      <td>[0.9546687910214561, 0.9200366995526449, 0.974...</td>\n",
       "      <td>0.947925</td>\n",
       "      <td>(82, 98)</td>\n",
       "    </tr>\n",
       "    <tr>\n",
       "      <th>2</th>\n",
       "      <td>(78, 82, 98)</td>\n",
       "      <td>[0.9855311455346851, 0.9694863187675029, 0.991...</td>\n",
       "      <td>0.982238</td>\n",
       "      <td>(78, 82, 98)</td>\n",
       "    </tr>\n",
       "    <tr>\n",
       "      <th>3</th>\n",
       "      <td>(78, 82, 92, 98)</td>\n",
       "      <td>[0.9949614179494164, 0.980114236760324, 0.9964...</td>\n",
       "      <td>0.991331</td>\n",
       "      <td>(78, 82, 92, 98)</td>\n",
       "    </tr>\n",
       "    <tr>\n",
       "      <th>4</th>\n",
       "      <td>(25, 78, 82, 92, 98)</td>\n",
       "      <td>[0.9951067860450967, 0.9803593531363889, 0.996...</td>\n",
       "      <td>0.991807</td>\n",
       "      <td>(25, 78, 82, 92, 98)</td>\n",
       "    </tr>\n",
       "    <tr>\n",
       "      <th>...</th>\n",
       "      <td>...</td>\n",
       "      <td>...</td>\n",
       "      <td>...</td>\n",
       "      <td>...</td>\n",
       "    </tr>\n",
       "    <tr>\n",
       "      <th>120</th>\n",
       "      <td>(0, 1, 2, 3, 4, 5, 6, 7, 8, 9, 10, 11, 12, 13,...</td>\n",
       "      <td>[0.9832399434729854, 0.9671692065499413, 0.993...</td>\n",
       "      <td>0.983959</td>\n",
       "      <td>(0, 1, 2, 3, 4, 5, 6, 7, 8, 9, 10, 11, 12, 13,...</td>\n",
       "    </tr>\n",
       "    <tr>\n",
       "      <th>121</th>\n",
       "      <td>(0, 1, 2, 3, 4, 5, 6, 7, 8, 9, 10, 11, 12, 13,...</td>\n",
       "      <td>[0.9837525106433415, 0.7863035687316059, 0.993...</td>\n",
       "      <td>0.947853</td>\n",
       "      <td>(0, 1, 2, 3, 4, 5, 6, 7, 8, 9, 10, 11, 12, 13,...</td>\n",
       "    </tr>\n",
       "    <tr>\n",
       "      <th>122</th>\n",
       "      <td>(0, 1, 2, 3, 4, 5, 6, 7, 8, 9, 10, 11, 12, 13,...</td>\n",
       "      <td>[0.9837409891088742, 0.8658859763955332, 0.993...</td>\n",
       "      <td>0.958676</td>\n",
       "      <td>(0, 1, 2, 3, 4, 5, 6, 7, 8, 9, 10, 11, 12, 13,...</td>\n",
       "    </tr>\n",
       "    <tr>\n",
       "      <th>123</th>\n",
       "      <td>(0, 1, 2, 3, 4, 5, 6, 7, 8, 9, 10, 11, 12, 13,...</td>\n",
       "      <td>[0.9785438334760784, 0.9677519580254338, 0.993...</td>\n",
       "      <td>0.971590</td>\n",
       "      <td>(0, 1, 2, 3, 4, 5, 6, 7, 8, 9, 10, 11, 12, 13,...</td>\n",
       "    </tr>\n",
       "    <tr>\n",
       "      <th>124</th>\n",
       "      <td>(0, 1, 2, 3, 4, 5, 6, 7, 8, 9, 10, 11, 12, 13,...</td>\n",
       "      <td>[0.9836919399416533, 0.9218382708179237, 0.993...</td>\n",
       "      <td>0.969023</td>\n",
       "      <td>(0, 1, 2, 3, 4, 5, 6, 7, 8, 9, 10, 11, 12, 13,...</td>\n",
       "    </tr>\n",
       "  </tbody>\n",
       "</table>\n",
       "<p>125 rows × 4 columns</p>\n",
       "</div>"
      ],
      "text/plain": [
       "                                           feature_idx  \\\n",
       "0                                                (98,)   \n",
       "1                                             (82, 98)   \n",
       "2                                         (78, 82, 98)   \n",
       "3                                     (78, 82, 92, 98)   \n",
       "4                                 (25, 78, 82, 92, 98)   \n",
       "..                                                 ...   \n",
       "120  (0, 1, 2, 3, 4, 5, 6, 7, 8, 9, 10, 11, 12, 13,...   \n",
       "121  (0, 1, 2, 3, 4, 5, 6, 7, 8, 9, 10, 11, 12, 13,...   \n",
       "122  (0, 1, 2, 3, 4, 5, 6, 7, 8, 9, 10, 11, 12, 13,...   \n",
       "123  (0, 1, 2, 3, 4, 5, 6, 7, 8, 9, 10, 11, 12, 13,...   \n",
       "124  (0, 1, 2, 3, 4, 5, 6, 7, 8, 9, 10, 11, 12, 13,...   \n",
       "\n",
       "                                             cv_scores  avg_score  \\\n",
       "0    [0.8831931162135032, 0.7883122763628012, 0.929...   0.876303   \n",
       "1    [0.9546687910214561, 0.9200366995526449, 0.974...   0.947925   \n",
       "2    [0.9855311455346851, 0.9694863187675029, 0.991...   0.982238   \n",
       "3    [0.9949614179494164, 0.980114236760324, 0.9964...   0.991331   \n",
       "4    [0.9951067860450967, 0.9803593531363889, 0.996...   0.991807   \n",
       "..                                                 ...        ...   \n",
       "120  [0.9832399434729854, 0.9671692065499413, 0.993...   0.983959   \n",
       "121  [0.9837525106433415, 0.7863035687316059, 0.993...   0.947853   \n",
       "122  [0.9837409891088742, 0.8658859763955332, 0.993...   0.958676   \n",
       "123  [0.9785438334760784, 0.9677519580254338, 0.993...   0.971590   \n",
       "124  [0.9836919399416533, 0.9218382708179237, 0.993...   0.969023   \n",
       "\n",
       "                                         feature_names  \n",
       "0                                                (98,)  \n",
       "1                                             (82, 98)  \n",
       "2                                         (78, 82, 98)  \n",
       "3                                     (78, 82, 92, 98)  \n",
       "4                                 (25, 78, 82, 92, 98)  \n",
       "..                                                 ...  \n",
       "120  (0, 1, 2, 3, 4, 5, 6, 7, 8, 9, 10, 11, 12, 13,...  \n",
       "121  (0, 1, 2, 3, 4, 5, 6, 7, 8, 9, 10, 11, 12, 13,...  \n",
       "122  (0, 1, 2, 3, 4, 5, 6, 7, 8, 9, 10, 11, 12, 13,...  \n",
       "123  (0, 1, 2, 3, 4, 5, 6, 7, 8, 9, 10, 11, 12, 13,...  \n",
       "124  (0, 1, 2, 3, 4, 5, 6, 7, 8, 9, 10, 11, 12, 13,...  \n",
       "\n",
       "[125 rows x 4 columns]"
      ]
     },
     "execution_count": 80,
     "metadata": {},
     "output_type": "execute_result"
    }
   ],
   "source": [
    "pd.DataFrame(forward_feature_selector.subsets_.values())"
   ]
  },
  {
   "cell_type": "code",
   "execution_count": 81,
   "metadata": {
    "colab": {
     "base_uri": "https://localhost:8080/",
     "height": 55
    },
    "id": "ItwolM_L7i1l",
    "outputId": "5993b70b-7c06-4877-95a6-230625650927",
    "slideshow": {
     "slide_type": "subslide"
    }
   },
   "outputs": [
    {
     "data": {
      "text/html": [
       "<div>\n",
       "<style scoped>\n",
       "    .dataframe tbody tr th:only-of-type {\n",
       "        vertical-align: middle;\n",
       "    }\n",
       "\n",
       "    .dataframe tbody tr th {\n",
       "        vertical-align: top;\n",
       "    }\n",
       "\n",
       "    .dataframe thead th {\n",
       "        text-align: right;\n",
       "    }\n",
       "</style>\n",
       "<table border=\"1\" class=\"dataframe\">\n",
       "  <thead>\n",
       "    <tr style=\"text-align: right;\">\n",
       "      <th></th>\n",
       "      <th>feature_idx</th>\n",
       "      <th>cv_scores</th>\n",
       "      <th>avg_score</th>\n",
       "      <th>feature_names</th>\n",
       "    </tr>\n",
       "  </thead>\n",
       "  <tbody>\n",
       "    <tr>\n",
       "      <th>0</th>\n",
       "      <td>(98,)</td>\n",
       "      <td>[0.8831931162135032, 0.7883122763628012, 0.929...</td>\n",
       "      <td>0.876303</td>\n",
       "      <td>(98,)</td>\n",
       "    </tr>\n",
       "    <tr>\n",
       "      <th>121</th>\n",
       "      <td>(0, 1, 2, 3, 4, 5, 6, 7, 8, 9, 10, 11, 12, 13,...</td>\n",
       "      <td>[0.9837525106433415, 0.7863035687316059, 0.993...</td>\n",
       "      <td>0.947853</td>\n",
       "      <td>(0, 1, 2, 3, 4, 5, 6, 7, 8, 9, 10, 11, 12, 13,...</td>\n",
       "    </tr>\n",
       "    <tr>\n",
       "      <th>1</th>\n",
       "      <td>(82, 98)</td>\n",
       "      <td>[0.9546687910214561, 0.9200366995526449, 0.974...</td>\n",
       "      <td>0.947925</td>\n",
       "      <td>(82, 98)</td>\n",
       "    </tr>\n",
       "    <tr>\n",
       "      <th>122</th>\n",
       "      <td>(0, 1, 2, 3, 4, 5, 6, 7, 8, 9, 10, 11, 12, 13,...</td>\n",
       "      <td>[0.9837409891088742, 0.8658859763955332, 0.993...</td>\n",
       "      <td>0.958676</td>\n",
       "      <td>(0, 1, 2, 3, 4, 5, 6, 7, 8, 9, 10, 11, 12, 13,...</td>\n",
       "    </tr>\n",
       "    <tr>\n",
       "      <th>124</th>\n",
       "      <td>(0, 1, 2, 3, 4, 5, 6, 7, 8, 9, 10, 11, 12, 13,...</td>\n",
       "      <td>[0.9836919399416533, 0.9218382708179237, 0.993...</td>\n",
       "      <td>0.969023</td>\n",
       "      <td>(0, 1, 2, 3, 4, 5, 6, 7, 8, 9, 10, 11, 12, 13,...</td>\n",
       "    </tr>\n",
       "    <tr>\n",
       "      <th>...</th>\n",
       "      <td>...</td>\n",
       "      <td>...</td>\n",
       "      <td>...</td>\n",
       "      <td>...</td>\n",
       "    </tr>\n",
       "    <tr>\n",
       "      <th>35</th>\n",
       "      <td>(0, 6, 10, 11, 13, 17, 20, 25, 26, 31, 33, 34,...</td>\n",
       "      <td>[0.9950042435877028, 0.9827118979887989, 0.996...</td>\n",
       "      <td>0.992395</td>\n",
       "      <td>(0, 6, 10, 11, 13, 17, 20, 25, 26, 31, 33, 34,...</td>\n",
       "    </tr>\n",
       "    <tr>\n",
       "      <th>38</th>\n",
       "      <td>(0, 6, 10, 11, 13, 17, 18, 20, 22, 25, 26, 31,...</td>\n",
       "      <td>[0.9949155027949108, 0.9827443544868827, 0.996...</td>\n",
       "      <td>0.992401</td>\n",
       "      <td>(0, 6, 10, 11, 13, 17, 18, 20, 22, 25, 26, 31,...</td>\n",
       "    </tr>\n",
       "    <tr>\n",
       "      <th>36</th>\n",
       "      <td>(0, 6, 10, 11, 13, 17, 20, 25, 26, 31, 32, 33,...</td>\n",
       "      <td>[0.9950076963865815, 0.9827261750378526, 0.996...</td>\n",
       "      <td>0.992404</td>\n",
       "      <td>(0, 6, 10, 11, 13, 17, 20, 25, 26, 31, 32, 33,...</td>\n",
       "    </tr>\n",
       "    <tr>\n",
       "      <th>37</th>\n",
       "      <td>(0, 6, 10, 11, 13, 17, 18, 20, 25, 26, 31, 32,...</td>\n",
       "      <td>[0.9949245074259483, 0.9827532544984885, 0.996...</td>\n",
       "      <td>0.992405</td>\n",
       "      <td>(0, 6, 10, 11, 13, 17, 18, 20, 25, 26, 31, 32,...</td>\n",
       "    </tr>\n",
       "    <tr>\n",
       "      <th>34</th>\n",
       "      <td>(0, 6, 10, 11, 13, 17, 20, 25, 26, 31, 33, 34,...</td>\n",
       "      <td>[0.995025935557806, 0.9827500917105708, 0.9969...</td>\n",
       "      <td>0.992417</td>\n",
       "      <td>(0, 6, 10, 11, 13, 17, 20, 25, 26, 31, 33, 34,...</td>\n",
       "    </tr>\n",
       "  </tbody>\n",
       "</table>\n",
       "<p>125 rows × 4 columns</p>\n",
       "</div>"
      ],
      "text/plain": [
       "                                           feature_idx  \\\n",
       "0                                                (98,)   \n",
       "121  (0, 1, 2, 3, 4, 5, 6, 7, 8, 9, 10, 11, 12, 13,...   \n",
       "1                                             (82, 98)   \n",
       "122  (0, 1, 2, 3, 4, 5, 6, 7, 8, 9, 10, 11, 12, 13,...   \n",
       "124  (0, 1, 2, 3, 4, 5, 6, 7, 8, 9, 10, 11, 12, 13,...   \n",
       "..                                                 ...   \n",
       "35   (0, 6, 10, 11, 13, 17, 20, 25, 26, 31, 33, 34,...   \n",
       "38   (0, 6, 10, 11, 13, 17, 18, 20, 22, 25, 26, 31,...   \n",
       "36   (0, 6, 10, 11, 13, 17, 20, 25, 26, 31, 32, 33,...   \n",
       "37   (0, 6, 10, 11, 13, 17, 18, 20, 25, 26, 31, 32,...   \n",
       "34   (0, 6, 10, 11, 13, 17, 20, 25, 26, 31, 33, 34,...   \n",
       "\n",
       "                                             cv_scores  avg_score  \\\n",
       "0    [0.8831931162135032, 0.7883122763628012, 0.929...   0.876303   \n",
       "121  [0.9837525106433415, 0.7863035687316059, 0.993...   0.947853   \n",
       "1    [0.9546687910214561, 0.9200366995526449, 0.974...   0.947925   \n",
       "122  [0.9837409891088742, 0.8658859763955332, 0.993...   0.958676   \n",
       "124  [0.9836919399416533, 0.9218382708179237, 0.993...   0.969023   \n",
       "..                                                 ...        ...   \n",
       "35   [0.9950042435877028, 0.9827118979887989, 0.996...   0.992395   \n",
       "38   [0.9949155027949108, 0.9827443544868827, 0.996...   0.992401   \n",
       "36   [0.9950076963865815, 0.9827261750378526, 0.996...   0.992404   \n",
       "37   [0.9949245074259483, 0.9827532544984885, 0.996...   0.992405   \n",
       "34   [0.995025935557806, 0.9827500917105708, 0.9969...   0.992417   \n",
       "\n",
       "                                         feature_names  \n",
       "0                                                (98,)  \n",
       "121  (0, 1, 2, 3, 4, 5, 6, 7, 8, 9, 10, 11, 12, 13,...  \n",
       "1                                             (82, 98)  \n",
       "122  (0, 1, 2, 3, 4, 5, 6, 7, 8, 9, 10, 11, 12, 13,...  \n",
       "124  (0, 1, 2, 3, 4, 5, 6, 7, 8, 9, 10, 11, 12, 13,...  \n",
       "..                                                 ...  \n",
       "35   (0, 6, 10, 11, 13, 17, 20, 25, 26, 31, 33, 34,...  \n",
       "38   (0, 6, 10, 11, 13, 17, 18, 20, 22, 25, 26, 31,...  \n",
       "36   (0, 6, 10, 11, 13, 17, 20, 25, 26, 31, 32, 33,...  \n",
       "37   (0, 6, 10, 11, 13, 17, 18, 20, 25, 26, 31, 32,...  \n",
       "34   (0, 6, 10, 11, 13, 17, 20, 25, 26, 31, 33, 34,...  \n",
       "\n",
       "[125 rows x 4 columns]"
      ]
     },
     "execution_count": 81,
     "metadata": {},
     "output_type": "execute_result"
    }
   ],
   "source": [
    "pd.DataFrame(forward_feature_selector.subsets_.values()).sort_values(\"avg_score\")"
   ]
  },
  {
   "cell_type": "code",
   "execution_count": 82,
   "metadata": {
    "slideshow": {
     "slide_type": "subslide"
    }
   },
   "outputs": [
    {
     "data": {
      "text/plain": [
       "LinearRegression(copy_X=True, fit_intercept=True, n_jobs=None, normalize=False)"
      ]
     },
     "execution_count": 82,
     "metadata": {},
     "output_type": "execute_result"
    }
   ],
   "source": [
    "X_forward_selected = X[:, forward_feature_selector.k_feature_idx_]\n",
    "forward_selected_reg = LinearRegression()\n",
    "forward_selected_reg.fit(X_forward_selected, y)"
   ]
  },
  {
   "cell_type": "code",
   "execution_count": 83,
   "metadata": {
    "slideshow": {
     "slide_type": "-"
    }
   },
   "outputs": [
    {
     "name": "stdout",
     "output_type": "stream",
     "text": [
      "0.3*x**3*y**4*z**3 + 0.3*x**1*y**1*z**0 + 0.7*x**3*y**0*z**3 + 0.4*x**2*y**3*z**3 + 0.4*x**0*y**0*z**1\n"
     ]
    }
   ],
   "source": [
    "poly.to_str()"
   ]
  },
  {
   "cell_type": "code",
   "execution_count": 84,
   "metadata": {
    "slideshow": {
     "slide_type": "-"
    }
   },
   "outputs": [
    {
     "name": "stdout",
     "output_type": "stream",
     "text": [
      "0.7 x**3*y**0*z**3\n",
      "0.0 x**2*y**1*z**3\n",
      "0.4 x**2*y**3*z**3\n",
      "0.3 x**3*y**4*z**3\n"
     ]
    }
   ],
   "source": [
    "for coef, m in list(zip(forward_selected_reg.coef_, forward_feature_selector.k_feature_idx_)):\n",
    "    print(f\"{coef:.1f} {str_monomial(m)}\")"
   ]
  },
  {
   "cell_type": "code",
   "execution_count": 85,
   "metadata": {
    "slideshow": {
     "slide_type": "-"
    }
   },
   "outputs": [
    {
     "data": {
      "text/plain": [
       "0.9998931816668009"
      ]
     },
     "execution_count": 85,
     "metadata": {},
     "output_type": "execute_result"
    }
   ],
   "source": [
    "forward_selected_reg.score(X_test[:,  forward_feature_selector.k_feature_idx_], y_test)"
   ]
  },
  {
   "cell_type": "markdown",
   "metadata": {
    "slideshow": {
     "slide_type": "subslide"
    }
   },
   "source": [
    "Результат говорит сам за себя."
   ]
  },
  {
   "cell_type": "markdown",
   "metadata": {
    "slideshow": {
     "slide_type": "subslide"
    }
   },
   "source": [
    "В `sklearn` тоже реализован отбор признаков по корелляции (и несколько других, не зависящих от модели), но они будут нам малополезны в данной задаче:"
   ]
  },
  {
   "cell_type": "code",
   "execution_count": 88,
   "metadata": {
    "slideshow": {
     "slide_type": "subslide"
    }
   },
   "outputs": [
    {
     "name": "stderr",
     "output_type": "stream",
     "text": [
      "C:\\Users\\avalur\\Anaconda3\\lib\\site-packages\\sklearn\\feature_selection\\_univariate_selection.py:299: RuntimeWarning: divide by zero encountered in true_divide\n",
      "  corr /= X_norms\n",
      "C:\\Users\\avalur\\Anaconda3\\lib\\site-packages\\sklearn\\feature_selection\\_univariate_selection.py:304: RuntimeWarning: invalid value encountered in true_divide\n",
      "  F = corr ** 2 / (1 - corr ** 2) * degrees_of_freedom\n"
     ]
    },
    {
     "data": {
      "text/plain": [
       "SelectKBest(k=5, score_func=<function f_regression at 0x0000017D1A568048>)"
      ]
     },
     "execution_count": 88,
     "metadata": {},
     "output_type": "execute_result"
    }
   ],
   "source": [
    "from sklearn.feature_selection import SelectKBest, f_regression\n",
    "kbest_selector = SelectKBest(f_regression, k=5)\n",
    "kbest_selector.fit(X, y)"
   ]
  },
  {
   "cell_type": "code",
   "execution_count": 89,
   "metadata": {
    "slideshow": {
     "slide_type": "-"
    }
   },
   "outputs": [
    {
     "data": {
      "text/plain": [
       "LinearRegression(copy_X=True, fit_intercept=True, n_jobs=None, normalize=False)"
      ]
     },
     "execution_count": 89,
     "metadata": {},
     "output_type": "execute_result"
    }
   ],
   "source": [
    "X_kbest = kbest_selector.transform(X)\n",
    "\n",
    "kbest_selected_reg = LinearRegression()\n",
    "kbest_selected_reg.fit(X_kbest, y)"
   ]
  },
  {
   "cell_type": "code",
   "execution_count": 90,
   "metadata": {
    "slideshow": {
     "slide_type": "-"
    }
   },
   "outputs": [
    {
     "data": {
      "text/plain": [
       "-0.29026249761653644"
      ]
     },
     "execution_count": 90,
     "metadata": {},
     "output_type": "execute_result"
    }
   ],
   "source": [
    "X_kbest_test =kbest_selector.transform(X_test)\n",
    "kbest_selected_reg.score(X_kbest_test, y_test)"
   ]
  },
  {
   "cell_type": "markdown",
   "metadata": {
    "slideshow": {
     "slide_type": "subslide"
    }
   },
   "source": [
    "### ROC кривая"
   ]
  },
  {
   "cell_type": "markdown",
   "metadata": {
    "slideshow": {
     "slide_type": "subslide"
    }
   },
   "source": [
    "По сложившейся традиции вернёмся к классификации ирисов."
   ]
  },
  {
   "cell_type": "code",
   "execution_count": 47,
   "metadata": {
    "slideshow": {
     "slide_type": "-"
    }
   },
   "outputs": [],
   "source": [
    "from sklearn.datasets import load_iris\n",
    "X, y = load_iris(return_X_y=True)"
   ]
  },
  {
   "cell_type": "markdown",
   "metadata": {
    "slideshow": {
     "slide_type": "subslide"
    }
   },
   "source": [
    "Оставим только параметры чашелистика и будем классифицировать виргинские ирисы:"
   ]
  },
  {
   "cell_type": "code",
   "execution_count": 48,
   "metadata": {
    "slideshow": {
     "slide_type": "-"
    }
   },
   "outputs": [],
   "source": [
    "y[y == 2] = 0\n",
    "X = X[:, :2]\n",
    "features = np.array([\"длина чашелистика\", \"ширина чашелистика\"])\n",
    "labels = np.array([\"не виргинский\", \"виргинский\"])"
   ]
  },
  {
   "cell_type": "code",
   "execution_count": 49,
   "metadata": {
    "slideshow": {
     "slide_type": "skip"
    }
   },
   "outputs": [],
   "source": [
    "def show_legend():\n",
    "    cb = plt.colorbar()\n",
    "    loc = [0, 1]\n",
    "    cb.set_ticks(loc)\n",
    "    cb.set_ticklabels(labels)"
   ]
  },
  {
   "cell_type": "markdown",
   "metadata": {
    "slideshow": {
     "slide_type": "subslide"
    }
   },
   "source": [
    "Разобьем датасет на тестовую и тренировочную части:"
   ]
  },
  {
   "cell_type": "code",
   "execution_count": 50,
   "metadata": {
    "slideshow": {
     "slide_type": "-"
    }
   },
   "outputs": [],
   "source": [
    "from sklearn.model_selection import train_test_split\n",
    "\n",
    "X_train, X_test, y_train, y_test = train_test_split(X, y, \n",
    "                                                    test_size=30, \n",
    "                                                    random_state=0)"
   ]
  },
  {
   "cell_type": "markdown",
   "metadata": {
    "slideshow": {
     "slide_type": "subslide"
    }
   },
   "source": [
    "#### Тренировочная часть"
   ]
  },
  {
   "cell_type": "code",
   "execution_count": 51,
   "metadata": {
    "slideshow": {
     "slide_type": "-"
    }
   },
   "outputs": [
    {
     "data": {
      "image/png": "[encoded data removed]",
      "text/plain": [
       "<Figure size 1296x720 with 2 Axes>"
      ]
     },
     "metadata": {
      "needs_background": "light"
     },
     "output_type": "display_data"
    }
   ],
   "source": [
    "import matplotlib.pyplot as plt \n",
    "\n",
    "plt.figure(figsize=(18.0, 10.0))\n",
    "plt.scatter(X_train[:, 0], X_train[:, 1], c=y_train, s=100, cmap='autumn', edgecolors=\"black\")\n",
    "plt.xlabel(features[0])\n",
    "plt.ylabel(features[1])\n",
    "show_legend()"
   ]
  },
  {
   "cell_type": "markdown",
   "metadata": {
    "slideshow": {
     "slide_type": "subslide"
    }
   },
   "source": [
    "#### Тестовая часть"
   ]
  },
  {
   "cell_type": "code",
   "execution_count": 52,
   "metadata": {
    "slideshow": {
     "slide_type": "-"
    }
   },
   "outputs": [
    {
     "data": {
      "image/png": "[encoded data removed]",
      "text/plain": [
       "<Figure size 1296x720 with 2 Axes>"
      ]
     },
     "metadata": {
      "needs_background": "light"
     },
     "output_type": "display_data"
    }
   ],
   "source": [
    "plt.figure(figsize=(18.0, 10.0))\n",
    "plt.scatter(X_test[:, 0], X_test[:, 1], c=y_test, s=100, cmap='autumn', edgecolors=\"black\")\n",
    "plt.xlabel(features[0])\n",
    "plt.ylabel(features[1])\n",
    "show_legend()"
   ]
  },
  {
   "cell_type": "markdown",
   "metadata": {
    "slideshow": {
     "slide_type": "subslide"
    }
   },
   "source": [
    "Обучим логистическую регрессию:"
   ]
  },
  {
   "cell_type": "code",
   "execution_count": 53,
   "metadata": {
    "slideshow": {
     "slide_type": "-"
    }
   },
   "outputs": [
    {
     "data": {
      "text/plain": [
       "array([0, 0, 0, 0, 0, 0, 0, 0, 0, 1, 0, 0, 0, 0, 0, 1, 0, 0, 1, 1, 1, 0,\n",
       "       0, 1, 0, 0, 1, 1, 0, 0, 0, 0, 0, 0, 0, 1, 0, 0, 0, 0, 0, 0, 0, 0,\n",
       "       0, 0, 0, 1, 0, 1, 0, 0, 0, 0, 0, 0, 0, 0, 0, 0, 0, 1, 0, 0, 1, 0,\n",
       "       0, 0, 0, 0, 0, 0, 1, 0, 0, 0, 0, 0, 0, 0, 0, 0, 0, 0, 0, 1, 0, 0,\n",
       "       0, 0, 0, 0, 0, 0, 0, 0, 0, 0, 0, 1, 0, 0, 1, 0, 0, 1, 0, 0, 0, 0,\n",
       "       0, 0, 1, 0, 0, 0, 0, 0, 0, 0])"
      ]
     },
     "execution_count": 53,
     "metadata": {},
     "output_type": "execute_result"
    }
   ],
   "source": [
    "from sklearn.linear_model import LogisticRegression\n",
    "clf = LogisticRegression(random_state=0, C=1.0).fit(X_train, y_train)\n",
    "clf.predict(X_train)"
   ]
  },
  {
   "cell_type": "code",
   "execution_count": 54,
   "metadata": {
    "slideshow": {
     "slide_type": "subslide"
    }
   },
   "outputs": [
    {
     "data": {
      "text/plain": [
       "0.6333333333333333"
      ]
     },
     "execution_count": 54,
     "metadata": {},
     "output_type": "execute_result"
    }
   ],
   "source": [
    "# score(X, y[, sample_weight]) — Return the mean accuracy on the given test data and labels.\n",
    "clf.score(X_test, y_test)"
   ]
  },
  {
   "cell_type": "markdown",
   "metadata": {
    "slideshow": {
     "slide_type": "subslide"
    }
   },
   "source": [
    "Построим ROC-кривую:"
   ]
  },
  {
   "cell_type": "code",
   "execution_count": 55,
   "metadata": {
    "slideshow": {
     "slide_type": "-"
    }
   },
   "outputs": [],
   "source": [
    "from sklearn.metrics import roc_curve, auc\n",
    "\n",
    "fpr, tpr, thresholds = roc_curve(y_test, clf.predict_proba(X_test)[:,1], drop_intermediate=False)"
   ]
  },
  {
   "cell_type": "code",
   "execution_count": 56,
   "metadata": {
    "slideshow": {
     "slide_type": "subslide"
    }
   },
   "outputs": [
    {
     "data": {
      "text/plain": [
       "(array([0.        , 0.        , 0.        , 0.        , 0.05882353,\n",
       "        0.11764706, 0.17647059, 0.17647059, 0.23529412, 0.23529412,\n",
       "        0.23529412, 0.29411765, 0.29411765, 0.29411765, 0.29411765,\n",
       "        0.35294118, 0.41176471, 0.41176471, 0.41176471, 0.41176471,\n",
       "        0.47058824, 0.52941176, 0.64705882, 0.70588235, 0.76470588,\n",
       "        0.82352941, 0.88235294, 0.94117647, 1.        ]),\n",
       " array([0.        , 0.07692308, 0.15384615, 0.23076923, 0.23076923,\n",
       "        0.23076923, 0.23076923, 0.38461538, 0.38461538, 0.46153846,\n",
       "        0.53846154, 0.53846154, 0.61538462, 0.69230769, 0.76923077,\n",
       "        0.76923077, 0.76923077, 0.84615385, 0.92307692, 1.        ,\n",
       "        1.        , 1.        , 1.        , 1.        , 1.        ,\n",
       "        1.        , 1.        , 1.        , 1.        ]))"
      ]
     },
     "execution_count": 56,
     "metadata": {},
     "output_type": "execute_result"
    }
   ],
   "source": [
    "fpr, tpr"
   ]
  },
  {
   "cell_type": "code",
   "execution_count": 57,
   "metadata": {
    "slideshow": {
     "slide_type": "subslide"
    }
   },
   "outputs": [
    {
     "data": {
      "text/plain": [
       "array([1.71289328, 0.71289328, 0.67124341, 0.51102189, 0.50747759,\n",
       "       0.40206465, 0.40092868, 0.39922672, 0.39865994, 0.39696123,\n",
       "       0.395265  , 0.35713844, 0.34850326, 0.34796678, 0.34743069,\n",
       "       0.34155941, 0.30649415, 0.30248961, 0.25336008, 0.21534873,\n",
       "       0.18095105, 0.15528168, 0.1546626 , 0.12810819, 0.10643964,\n",
       "       0.10576709, 0.07056419, 0.05708437, 0.03033316])"
      ]
     },
     "execution_count": 57,
     "metadata": {},
     "output_type": "execute_result"
    }
   ],
   "source": [
    "thresholds"
   ]
  },
  {
   "cell_type": "markdown",
   "metadata": {
    "slideshow": {
     "slide_type": "subslide"
    }
   },
   "source": [
    "Значительная часть точек ROC-кривой бесполезна и можно их удалить:"
   ]
  },
  {
   "cell_type": "code",
   "execution_count": 58,
   "metadata": {
    "id": "XFKNcxDs3sst",
    "slideshow": {
     "slide_type": "-"
    }
   },
   "outputs": [],
   "source": [
    "fpr, tpr, thresholds = roc_curve(y_test, clf.predict_proba(X_test)[:,1], drop_intermediate=True)"
   ]
  },
  {
   "cell_type": "code",
   "execution_count": 60,
   "metadata": {
    "colab": {
     "base_uri": "https://localhost:8080/",
     "height": 90
    },
    "id": "XLAkpRwf5GJJ",
    "outputId": "a4f9050c-501e-4e89-eb6d-2f1579bf9b31",
    "slideshow": {
     "slide_type": "subslide"
    }
   },
   "outputs": [
    {
     "data": {
      "text/plain": [
       "(array([0.        , 0.        , 0.        , 0.17647059, 0.17647059,\n",
       "        0.23529412, 0.23529412, 0.29411765, 0.29411765, 0.41176471,\n",
       "        0.41176471, 0.52941176, 0.64705882, 1.        ]),\n",
       " array([0.        , 0.07692308, 0.23076923, 0.23076923, 0.38461538,\n",
       "        0.38461538, 0.53846154, 0.53846154, 0.76923077, 0.76923077,\n",
       "        1.        , 1.        , 1.        , 1.        ]))"
      ]
     },
     "execution_count": 60,
     "metadata": {},
     "output_type": "execute_result"
    }
   ],
   "source": [
    "fpr, tpr"
   ]
  },
  {
   "cell_type": "code",
   "execution_count": 61,
   "metadata": {
    "colab": {
     "base_uri": "https://localhost:8080/",
     "height": 90
    },
    "id": "yE6rM_eI5HXB",
    "outputId": "0996e273-79fe-4515-f5ff-774d18960db9",
    "slideshow": {
     "slide_type": "subslide"
    }
   },
   "outputs": [
    {
     "data": {
      "text/plain": [
       "array([1.71289328, 0.71289328, 0.51102189, 0.40092868, 0.39922672,\n",
       "       0.39865994, 0.395265  , 0.35713844, 0.34743069, 0.30649415,\n",
       "       0.21534873, 0.15528168, 0.1546626 , 0.03033316])"
      ]
     },
     "execution_count": 61,
     "metadata": {},
     "output_type": "execute_result"
    }
   ],
   "source": [
    "thresholds"
   ]
  },
  {
   "cell_type": "markdown",
   "metadata": {
    "id": "-lRYj2iz-BXF",
    "slideshow": {
     "slide_type": "subslide"
    }
   },
   "source": [
    "ROC-кривая:"
   ]
  },
  {
   "cell_type": "code",
   "execution_count": 62,
   "metadata": {
    "colab": {
     "base_uri": "https://localhost:8080/",
     "height": 644
    },
    "id": "-5x9Oq1I5KmT",
    "outputId": "f59f092b-2cea-4807-cdf1-bded4f07a89e",
    "slideshow": {
     "slide_type": "-"
    }
   },
   "outputs": [
    {
     "data": {
      "text/plain": [
       "Text(0, 0.5, 'tpr')"
      ]
     },
     "execution_count": 62,
     "metadata": {},
     "output_type": "execute_result"
    },
    {
     "data": {
      "image/png": "[encoded data removed]",
      "text/plain": [
       "<Figure size 1296x720 with 1 Axes>"
      ]
     },
     "metadata": {
      "needs_background": "light"
     },
     "output_type": "display_data"
    }
   ],
   "source": [
    "plt.figure(figsize=(18.0, 10.0))\n",
    "plt.plot(fpr, tpr)\n",
    "plt.xlabel(\"fpr\")\n",
    "plt.ylabel(\"tpr\")"
   ]
  },
  {
   "cell_type": "markdown",
   "metadata": {
    "id": "SsA6IgGw-EaE",
    "slideshow": {
     "slide_type": "subslide"
    }
   },
   "source": [
    "Посчитаем ROC-auc"
   ]
  },
  {
   "cell_type": "code",
   "execution_count": 92,
   "metadata": {
    "colab": {
     "base_uri": "https://localhost:8080/",
     "height": 55
    },
    "id": "ZZ0A7Lmi7THN",
    "outputId": "26948edc-b9ea-4665-9685-08e02388d41a",
    "slideshow": {
     "slide_type": "-"
    }
   },
   "outputs": [
    {
     "ename": "NameError",
     "evalue": "name 'auc' is not defined",
     "output_type": "error",
     "traceback": [
      "\u001b[1;31m---------------------------------------------------------------------------\u001b[0m",
      "\u001b[1;31mNameError\u001b[0m                                 Traceback (most recent call last)",
      "\u001b[1;32m<ipython-input-92-6ffa98f0420c>\u001b[0m in \u001b[0;36m<module>\u001b[1;34m\u001b[0m\n\u001b[1;32m----> 1\u001b[1;33m \u001b[0mround\u001b[0m\u001b[1;33m(\u001b[0m\u001b[0mauc\u001b[0m\u001b[1;33m(\u001b[0m\u001b[0mfpr\u001b[0m\u001b[1;33m,\u001b[0m \u001b[0mtpr\u001b[0m\u001b[1;33m)\u001b[0m\u001b[1;33m,\u001b[0m \u001b[0mndigits\u001b[0m\u001b[1;33m=\u001b[0m\u001b[1;36m3\u001b[0m\u001b[1;33m)\u001b[0m\u001b[1;33m\u001b[0m\u001b[1;33m\u001b[0m\u001b[0m\n\u001b[0m",
      "\u001b[1;31mNameError\u001b[0m: name 'auc' is not defined"
     ]
    }
   ],
   "source": [
    "round(auc(fpr, tpr), ndigits=3)"
   ]
  },
  {
   "cell_type": "markdown",
   "metadata": {
    "id": "MfgbY8rX8yh0",
    "slideshow": {
     "slide_type": "subslide"
    }
   },
   "source": [
    "## Precision-recall кривая"
   ]
  },
  {
   "cell_type": "markdown",
   "metadata": {
    "id": "jswhpq-i-K0i",
    "slideshow": {
     "slide_type": "subslide"
    }
   },
   "source": [
    "Аналогично строим precision-recall кривую"
   ]
  },
  {
   "cell_type": "code",
   "execution_count": 65,
   "metadata": {
    "id": "yLhyAUqJ7n5E",
    "slideshow": {
     "slide_type": "-"
    }
   },
   "outputs": [],
   "source": [
    "from sklearn.metrics import precision_recall_curve\n",
    "precision, recall, threshold = precision_recall_curve(y_test, clf.predict_proba(X_test)[:,1])"
   ]
  },
  {
   "cell_type": "code",
   "execution_count": 66,
   "metadata": {
    "colab": {
     "base_uri": "https://localhost:8080/",
     "height": 644
    },
    "id": "IScza7az76nf",
    "outputId": "adc6eaf5-026b-4e52-8588-1d0831125dd0",
    "slideshow": {
     "slide_type": "subslide"
    }
   },
   "outputs": [
    {
     "data": {
      "text/plain": [
       "Text(0, 0.5, 'precision')"
      ]
     },
     "execution_count": 66,
     "metadata": {},
     "output_type": "execute_result"
    },
    {
     "data": {
      "image/png": "[encoded data removed]",
      "text/plain": [
       "<Figure size 1296x720 with 1 Axes>"
      ]
     },
     "metadata": {
      "needs_background": "light"
     },
     "output_type": "display_data"
    }
   ],
   "source": [
    "plt.figure(figsize=(18.0, 10.0))\n",
    "plt.plot(recall, precision)\n",
    "plt.xlabel(\"recall\")\n",
    "plt.ylabel(\"precision\")"
   ]
  },
  {
   "cell_type": "markdown",
   "metadata": {
    "id": "WbG323wm-Po7",
    "slideshow": {
     "slide_type": "subslide"
    }
   },
   "source": [
    "И вычисляем PR-AUC"
   ]
  },
  {
   "cell_type": "code",
   "execution_count": 67,
   "metadata": {
    "colab": {
     "base_uri": "https://localhost:8080/",
     "height": 55
    },
    "id": "SidQ10ys8N6c",
    "outputId": "2ef3642a-3bcd-45a2-ec2b-43a6eac0383d",
    "slideshow": {
     "slide_type": "-"
    }
   },
   "outputs": [
    {
     "data": {
      "text/plain": [
       "0.6973853122876699"
      ]
     },
     "execution_count": 67,
     "metadata": {},
     "output_type": "execute_result"
    }
   ],
   "source": [
    "auc(recall, precision)"
   ]
  }
 ],
 "metadata": {
  "celltoolbar": "Slideshow",
  "kernelspec": {
   "display_name": "Python 3",
   "language": "python",
   "name": "python3"
  },
  "language_info": {
   "codemirror_mode": {
    "name": "ipython",
    "version": 3
   },
   "file_extension": ".py",
   "mimetype": "text/x-python",
   "name": "python",
   "nbconvert_exporter": "python",
   "pygments_lexer": "ipython3",
   "version": "3.7.6"
  },
  "rise": {
   "transition": "none"
  }
 },
 "nbformat": 4,
 "nbformat_minor": 2
}
