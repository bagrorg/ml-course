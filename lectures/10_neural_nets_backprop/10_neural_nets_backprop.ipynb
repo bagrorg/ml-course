{
 "cells": [
  {
   "cell_type": "markdown",
   "metadata": {
    "slideshow": {
     "slide_type": "slide"
    }
   },
   "source": [
    "<div align=\"center\">\n",
    "    <img src=\"images/logo_fmkn.png\" alt=\"logo_fmkn\" />\n",
    "</div>\n",
    "\n",
    "# Машинное обучение\n",
    "\n",
    "### Лекция 10. Введение в нейронные сети\n",
    "\n",
    "<br />\n",
    "<br />\n",
    "19 ноября 2021"
   ]
  },
  {
   "cell_type": "markdown",
   "metadata": {
    "slideshow": {
     "slide_type": "subslide"
    }
   },
   "source": [
    "### Пятиминутка\n",
    "\n",
    "1. Приведите несколько примеров композиций моделей\n",
    "2. Опишите алгоритм AdaBoost\n",
    "3. Назовите популярные реализации градиентного бустинга и их отличительные особенности"
   ]
  },
  {
   "cell_type": "markdown",
   "metadata": {
    "slideshow": {
     "slide_type": "subslide"
    }
   },
   "source": [
    "### Задачи, решаемые нейросетями"
   ]
  },
  {
   "cell_type": "markdown",
   "metadata": {
    "slideshow": {
     "slide_type": "subslide"
    }
   },
   "source": [
    "<table style=\"width:100%\">\n",
    "  <tr>\n",
    "    <td><div align=\"center\">\n",
    "        Картинки\n",
    "        <img src=\"images/image_net.jpg\" />\n",
    "        25% $\\to$ 3.5% ошибок против 5% у людей\n",
    "        </div>\n",
    "    </td>\n",
    "    <td><div align=\"center\">\n",
    "        Текст\n",
    "        <img src=\"images/machine_translation.png\"/>\n",
    "        </div>\n",
    "    </td>\n",
    "    <td><div align=\"center\">\n",
    "        Голос\n",
    "        <img src=\"images/voice.jpg\"/>\n",
    "        </div>\n",
    "    </td>\n",
    "  </tr>\n",
    "  <tr>\n",
    "    <td><div align=\"center\">\n",
    "        Го, 2016\n",
    "        <img src=\"images/alpha_go.jpg\"/>\n",
    "        </div>\n",
    "    </td>\n",
    "    <td><div align=\"center\">\n",
    "        StarCraft, 2019\n",
    "        <img src=\"images/starcraft.png\"/>\n",
    "        </div>\n",
    "    </td>\n",
    "    <td><div align=\"center\">\n",
    "        Структура белка, 2020\n",
    "        <img src=\"images/AlphaFold.png\"/>\n",
    "        </div>\n",
    "    </td>\n",
    "  </tr>\n"
   ]
  },
  {
   "cell_type": "markdown",
   "metadata": {
    "slideshow": {
     "slide_type": "subslide"
    }
   },
   "source": [
    "<div align=\"center\">\n",
    "    <img src=\"images/imagenet_progress_pwc.jpeg\" alt=\"imagenet_progress_pwc\" />\n",
    "    <a href=\"https://paperswithcode.com/sota/image-classification-on-imagenet\">\n",
    "        https://paperswithcode.com/sota/image-classification-on-imagenet</a> \n",
    "</div>"
   ]
  },
  {
   "cell_type": "markdown",
   "metadata": {
    "slideshow": {
     "slide_type": "subslide"
    }
   },
   "source": [
    "### Линейная модель (напоминание)\n",
    "\n",
    " $f_j: X \\to \\mathbb{R}$ — числовые признаки\n",
    " \n",
    " $a(x, w) = \\sigma(\\left<w, x\\right>) = \\sigma \\left(\\sum\\limits_{j=1}^n w_j f_j(x) - w_0 \\right)$, \n",
    " \n",
    " \n",
    " где $w_0, w_1, \\dots, w_n \\in \\mathbb{R}$ — веса признаков\n",
    " \n",
    " $\\sigma(z)$ — функция активации, например, $\\text{sign}(z),\\ \\frac{1}{1+e^{-z}},\\ (z)_+$\n",
    "\n",
    "<div align=\"center\">\n",
    "    <img src=\"images/lin_as_nn.jpg\" alt=\"lin_as_nn\" width=600 />\n",
    "</div>\n"
   ]
  },
  {
   "cell_type": "markdown",
   "metadata": {
    "slideshow": {
     "slide_type": "subslide"
    }
   },
   "source": [
    "### Нейронная сеть как комбинация линейных моделей\n",
    "\n",
    "<div align=\"center\">\n",
    "    <img src=\"images/nn_two_layers_cropped.jpg\" alt=\"nn_two_layers_cropped\" width=800 />\n",
    "</div>\n"
   ]
  },
  {
   "cell_type": "markdown",
   "metadata": {
    "slideshow": {
     "slide_type": "subslide"
    }
   },
   "source": [
    "### Нейронная реализация логических функций\n",
    "\n",
    " Функции И, ИЛИ, НЕ от бинарных переменных $x^1$ и $x^2$:\n",
    "\n",
    " $x^1 \\wedge x^2 = [x^1 + x^2 - \\frac{3}{2} > 0]$\n",
    "\n",
    " $x^1 \\vee x^2 = [x^1 + x^2 - \\frac{1}{2} > 0]$\n",
    "\n",
    " $\\neg x^1 = [-x^1 + \\frac{1}{2} > 0]$\n",
    "\n",
    "<div align=\"center\">\n",
    "    <img src=\"images/and_or.jpg\" alt=\"and_or\" width=500 />\n",
    "</div>\n"
   ]
  },
  {
   "cell_type": "markdown",
   "metadata": {
    "slideshow": {
     "slide_type": "subslide"
    }
   },
   "source": [
    "### Логическая функция XOR (исключающее ИЛИ)\n",
    "\n",
    "Функция $x^1 \\bigoplus x^2 = [x^1 \\neq x^2]$ \n",
    "\n",
    "**не реализуема** одним нейроном.\n",
    "Два способа реализации:\n",
    " * Добавлением нелинейного признака:\n",
    " \n",
    " $x^1 \\bigoplus x^2 = [x^1 + x^2 - 2 \\color{red}{x^1 x^2} - \\frac12 > 0]$\n",
    "\n",
    " * <span style=\"color:red\">Сетью</span> (двухслойной суперпозицией) функций И, ИЛИ, НЕ:\n",
    " \n",
    " $x^1 \\bigoplus x^2 = [(x^1 \\vee x^2) - (x^1 \\wedge x^2) - \\frac12 > 0]$.\n",
    "\n",
    "<div align=\"center\">\n",
    "    <img src=\"images/xor_nn.jpg\" alt=\"xor_nn\" width=500 />\n",
    "</div>\n"
   ]
  },
  {
   "cell_type": "markdown",
   "metadata": {
    "slideshow": {
     "slide_type": "subslide"
    }
   },
   "source": [
    "### Выразительная способность нейронной сети\n",
    "\n",
    " * Двухслойная сеть в $\\{0, 1\\}^n$ позволяет реализовать произвольную булеву функцию\n",
    " * Двухслойная сеть в $\\mathbb{R}^n$ позволяет отделить произвольный выпуклый многогранник\n",
    " * Трёхслойная сеть в $\\mathbb{R}^n$ позволяет отделить произвольную многогранную область (может быть не выпуклой и не связной)\n",
    " * С помощью линейных операций и одной нелинейной функции активации $\\sigma$ можно приблизить любую непрерывную функцию с любой желаемой точностью\n",
    " * Для некоторых специальных классов глубоких нейронных сетей доказано, что они обладают экспоненциально большей выразительной силой, чем неглубокие сети. [V. Khrulkov, A. Novikov, I. Oseledets. Expressive power of recurrent neural networks, Feb 2018, ICLR 2018](https://arxiv.org/pdf/1711.00811.pdf)\n",
    " "
   ]
  },
  {
   "cell_type": "markdown",
   "metadata": {
    "slideshow": {
     "slide_type": "subslide"
    }
   },
   "source": [
    "### Выразительная способность нейронной сети\n",
    "\n",
    "Функция $\\sigma(z)$ — сигмоида, если $\\lim\\limits_{z \\to -\\infty} \\sigma(z) = 0$ и $\\lim\\limits_{z \\to +\\infty} \\sigma(z) = 1$\n",
    "\n",
    "----\n",
    "\n",
    "**Теорема Цыбенко** (опирается на теорему Колмогорова о представимости многомерных функций)\n",
    "\n",
    "Если $\\sigma(z)$ — непрерывная сигмоида, то для любой непрерывной на $[0,1]^n$ функции $f(x)$ существуют такие значения параметров $w_h \\in \\mathbb{R}^n,\\ w_0 \\in \\mathbb{R},\\ \\alpha_h \\in \\mathbb{R}$, что однослойная сеть\n",
    "\n",
    "$a(x) = \\sum\\limits_{h=1}^H \\alpha_h \\sigma(\\left<x, w_h\\right> - w_0)$\n",
    "\n",
    "равномерно приближает $f(x)$ с любой точностью $\\varepsilon$:\n",
    "\n",
    "$|a(x) - f(x)| < \\varepsilon$, для всех $x \\in [0, 1]^n$\n",
    "\n",
    "----\n",
    "\n",
    "G. Cybenko. Approximation by Superpositions of a Sigmoidal Function. Mathematics of Control, Signals, and Systems (MCSS) 2 (4): 303--314 (Dec 1, 1989)\n"
   ]
  },
  {
   "cell_type": "markdown",
   "metadata": {
    "slideshow": {
     "slide_type": "subslide"
    }
   },
   "source": [
    "### Двухслойная нейронная сеть с M-мерным выходом\n",
    "\n",
    " $ $\n",
    "\n",
    "<div align=\"center\">\n",
    "    <img src=\"images/nn_two_layers.jpg\" alt=\"nn_two_layers\" width=800 />\n",
    "</div>\n",
    "\n",
    "Вектор параметров модели $w \\equiv (w_{jh}, w_{hm}) \\in \\mathbb{R}^{Hn + H + MH + M}$\n"
   ]
  },
  {
   "cell_type": "markdown",
   "metadata": {
    "slideshow": {
     "slide_type": "subslide"
    }
   },
   "source": [
    "<div class=\"alert alert-info\">\n",
    "<b>Вопрос 1:</b> Что лучше — увеличивать число слоев (глубину) или количество нейронов в слое (ширину)?\n",
    "</div>"
   ]
  },
  {
   "cell_type": "code",
   "execution_count": 2,
   "metadata": {
    "slideshow": {
     "slide_type": "subslide"
    }
   },
   "outputs": [],
   "source": [
    "import tensorflow.keras as keras\n",
    "\n",
    "(x_train, y_train), (x_test, y_test) = keras.datasets.mnist.load_data()"
   ]
  },
  {
   "cell_type": "code",
   "execution_count": 3,
   "metadata": {
    "slideshow": {
     "slide_type": "subslide"
    }
   },
   "outputs": [
    {
     "data": {
      "image/png": "[encoded data removed]",
      "text/plain": [
       "<Figure size 1296x576 with 6 Axes>"
      ]
     },
     "metadata": {
      "needs_background": "light"
     },
     "output_type": "display_data"
    }
   ],
   "source": [
    "import matplotlib.pyplot as plt\n",
    "import matplotlib\n",
    "\n",
    "fig, gs = plt.figure(figsize=(18, 8)), matplotlib.gridspec.GridSpec(2, 3)\n",
    "\n",
    "for i in range(6):\n",
    "    plot = fig.add_subplot(gs[i])\n",
    "    plot.imshow(x_train[i], cmap='gray') # cmap='gray_r'\n",
    "\n",
    "plt.show()"
   ]
  },
  {
   "cell_type": "code",
   "execution_count": 4,
   "metadata": {
    "slideshow": {
     "slide_type": "subslide"
    }
   },
   "outputs": [
    {
     "data": {
      "text/plain": [
       "(60000, 28, 28)"
      ]
     },
     "execution_count": 4,
     "metadata": {},
     "output_type": "execute_result"
    }
   ],
   "source": [
    "x_train.shape"
   ]
  },
  {
   "cell_type": "code",
   "execution_count": 5,
   "metadata": {
    "slideshow": {
     "slide_type": "fragment"
    }
   },
   "outputs": [
    {
     "data": {
      "text/plain": [
       "array([  0,   0,   0,   0,   0,   0,   0,   0,   0,   0,   0,   0,   3,\n",
       "        18,  18,  18, 126, 136, 175,  26, 166, 255, 247, 127,   0,   0,\n",
       "         0,   0], dtype=uint8)"
      ]
     },
     "execution_count": 5,
     "metadata": {},
     "output_type": "execute_result"
    }
   ],
   "source": [
    "x_train[0, 5]"
   ]
  },
  {
   "cell_type": "markdown",
   "metadata": {
    "slideshow": {
     "slide_type": "subslide"
    }
   },
   "source": [
    "### Линейный классификатор\n",
    "\n",
    "Предсказание $$ y_{pred} = x \\cdot W + b $$\n",
    "\n",
    "<div align=\"center\">\n",
    "    <img src=\"images/linear_classification_scheme.jpg\" width=700/>\n",
    "    $x\\quad\\quad\\quad\\cdot\\quad W\\quad\\quad\\quad+\\quad b$\n",
    "</div>\n"
   ]
  },
  {
   "cell_type": "markdown",
   "metadata": {
    "slideshow": {
     "slide_type": "subslide"
    }
   },
   "source": [
    "### Десять разделяющих плоскостей\n",
    "\n",
    "<div align=\"center\">\n",
    "    <img src=\"images/2D_example.jpg\" width=800/>\n",
    "</div>\n",
    "\n",
    " * В нашем примере пространство 784-мерное ($\\mathbb{R}^{784}$)\n"
   ]
  },
  {
   "cell_type": "markdown",
   "metadata": {
    "slideshow": {
     "slide_type": "subslide"
    }
   },
   "source": [
    "<div class=\"alert alert-info\">\n",
    "<b>Вопрос 2:</b> Как найти лучшие параметры: матрицу весов $W$ и смещение $b$?\n",
    "</div>"
   ]
  },
  {
   "cell_type": "markdown",
   "metadata": {
    "slideshow": {
     "slide_type": "fragment"
    }
   },
   "source": [
    "Если бы $\\text{y_true}_i \\in \\mathbb{R}$ (то есть задача линейной регресии), то для минимизации суммы квадратов разностей (метод наименьших квадратов) ответ вычисляется **аналитически** формулой:\n",
    "$$\\hat{W} = (X^TX)^{-1}X^T\\text{y_true}$$"
   ]
  },
  {
   "cell_type": "markdown",
   "metadata": {
    "slideshow": {
     "slide_type": "subslide"
    }
   },
   "source": [
    "В общем случае решается **численно** минимизацией функции потерь. Чаще всего градиентным спуском (gradient descent).\n",
    "\n",
    "<div align=\"center\">\n",
    "    <img src=\"images/momentum.jpg\" width=900/>\n",
    "</div>\n",
    "\n",
    "[Distill.pub momentum](https://distill.pub/2017/momentum/)"
   ]
  },
  {
   "cell_type": "markdown",
   "metadata": {
    "slideshow": {
     "slide_type": "subslide"
    }
   },
   "source": [
    "### Softmax — для классификации\n",
    "\n",
    "Переводим наши ответы линейной модели в вероятности классов:\n",
    "\n",
    "$$ p(c=0| x) = \\frac{e^{y_0}}{e^{y_0}+e^{y_1}+\\dots+e^{y_n}} = \\frac{e^{y_0}}{\\sum\\limits_i e^{y_i}} \\\\\n",
    "   p(c=1| x) = \\frac{e^{y_1}}{e^{y_0}+e^{y_1}+\\dots+e^{y_n}} = \\frac{e^{y_1}}{\\sum\\limits_i e^{y_i}} \\\\\n",
    "   \\dots\n",
    "$$\n"
   ]
  },
  {
   "cell_type": "markdown",
   "metadata": {
    "slideshow": {
     "slide_type": "subslide"
    }
   },
   "source": [
    "### Принцип максимального правдоподобия (напоминание)\n",
    "\n",
    "$\\arg\\max\\limits_w {P(Y|w, X)P(w)} \\color{red}{=} \\arg\\max\\limits_w \\prod\\limits_{i=1}^\\ell {P(y_i|w, x_i)P(w)} = \\\\ \\arg\\max\\limits_w \\sum\\limits_{i=1}^\\ell \\log P(y_i|w, x_i) + \\log P(w)$\n",
    "\n",
    "\n",
    "### Минимизация функции потерь\n",
    "\n",
    "$$L(w) = \\sum\\limits_{i=1}^\\ell {\\mathcal{L}(y_i, x_i, w)} = -\\ln P(y_i|w, x_i) \\to \\min\\limits_w$$\n",
    "\n",
    " * это cross-entropy loss для случая $y_i \\in \\{0, 1\\}$\n",
    " * в нашем случае\n",
    "\n",
    "$$ L(W, b) = - \\sum\\limits_j \\ln \\frac{e^{(x_jW + b)_{y_j}}}{\\sum\\limits_i e^{(x_jW + b)_{i}}}$$\n",
    "\n",
    " * минимум функции находим стохастическим градиентным спуском\n",
    "\n",
    "$$ W^{k+1} = W^{k} - \\eta \\frac{\\partial L}{\\partial W} \\\\\n",
    "   b^{k+1} = b^{k} - \\eta \\frac{\\partial L}{\\partial b}$$\n",
    "\n"
   ]
  },
  {
   "cell_type": "markdown",
   "metadata": {
    "slideshow": {
     "slide_type": "subslide"
    }
   },
   "source": [
    "<div class=\"alert alert-info\">\n",
    "<b>Вопрос 3:</b> Почему такая функция потерь — это cross-entropy loss?\n",
    "</div>"
   ]
  },
  {
   "cell_type": "markdown",
   "metadata": {
    "slideshow": {
     "slide_type": "subslide"
    }
   },
   "source": [
    "### Обучение по мини-подвыборкам (mini-batch)\n",
    "\n",
    "Снижаем разброс градиента.\n",
    "\n",
    "**Вход**: выборка $X^\\ell$, темп обучения $\\eta$, темп забывания $\\lambda$\n",
    "\n",
    "**Выход**: вектор весов $w \\equiv (w_{jh}, w_{hm})$\n",
    "\n",
    "1. инициализировать веса\n",
    "\n",
    "2. инициализировать оценку функционала\n",
    "\n",
    "  $$Q = \\frac{1}{\\ell} \\sum\\limits_{i=1}^\\ell \\mathcal{L}_i (w)$$\n",
    "\n",
    "3. **повторять**\n",
    "\n",
    "   4. выбрать $M$ объектов $x_i$ из $X^\\ell$ случайным образом\n",
    "   5. вычислить потерю: $\\varepsilon = \\frac{1}{M} \\sum\\limits_{i=1}^M \\mathcal{L}_i (w)$\n",
    "   6. сделать градиентный шаг: $\\color{red}{w = w - \\eta \\frac{1}{M} \\sum\\limits_{i=1}^M \\nabla \\mathcal{L}_i (w)}$\n",
    "   7. оценить функционал: $Q = \\lambda \\varepsilon + (1 - \\lambda) Q$\n",
    "\n",
    "8. **пока** значение $Q$ и/или веса $w$ не сойдутся\n"
   ]
  },
  {
   "cell_type": "markdown",
   "metadata": {
    "slideshow": {
     "slide_type": "subslide"
    }
   },
   "source": [
    "### Однослойная нейросеть для классификации\n",
    "\n",
    "Для построения нейронной сети на Python продолжим работать с библиотекой keras. Это в свою очередь высокоуровневая надстройка над tensorflow. Большим ее преимуществом является интерфейс, совместимый с sklearn."
   ]
  },
  {
   "cell_type": "code",
   "execution_count": 6,
   "metadata": {
    "slideshow": {
     "slide_type": "fragment"
    }
   },
   "outputs": [],
   "source": [
    "model = keras.Sequential([\n",
    "    keras.layers.Flatten(),\n",
    "    keras.layers.Dense(10, activation='softmax')\n",
    "])\n",
    "model.compile(optimizer='sgd', loss='sparse_categorical_crossentropy', metrics=['accuracy'])"
   ]
  },
  {
   "cell_type": "markdown",
   "metadata": {
    "slideshow": {
     "slide_type": "fragment"
    }
   },
   "source": [
    "Для того, чтобы градиенты были более стабильными, поделим входные данные на 255 (чтобы они были из диапозона [0,1]). \n",
    "\n",
    "И запустим обучение!"
   ]
  },
  {
   "cell_type": "code",
   "execution_count": 7,
   "metadata": {
    "slideshow": {
     "slide_type": "fragment"
    }
   },
   "outputs": [
    {
     "name": "stdout",
     "output_type": "stream",
     "text": [
      "Epoch 1/20\n",
      "1875/1875 [==============================] - 2s 902us/step - loss: 0.7740 - accuracy: 0.8160\n",
      "Epoch 2/20\n",
      "1875/1875 [==============================] - 2s 873us/step - loss: 0.4556 - accuracy: 0.8812\n",
      "Epoch 3/20\n",
      "1875/1875 [==============================] - 2s 809us/step - loss: 0.4030 - accuracy: 0.8914\n",
      "Epoch 4/20\n",
      "1875/1875 [==============================] - 1s 775us/step - loss: 0.3767 - accuracy: 0.8973\n",
      "Epoch 5/20\n",
      "1875/1875 [==============================] - 2s 835us/step - loss: 0.3601 - accuracy: 0.9009\n",
      "Epoch 6/20\n",
      "1875/1875 [==============================] - 1s 797us/step - loss: 0.3483 - accuracy: 0.9033\n",
      "Epoch 7/20\n",
      "1875/1875 [==============================] - 2s 849us/step - loss: 0.3394 - accuracy: 0.9055\n",
      "Epoch 8/20\n",
      "1875/1875 [==============================] - 2s 995us/step - loss: 0.3323 - accuracy: 0.9069\n",
      "Epoch 9/20\n",
      "1875/1875 [==============================] - 2s 1ms/step - loss: 0.3264 - accuracy: 0.9089\n",
      "Epoch 10/20\n",
      "1875/1875 [==============================] - 2s 1ms/step - loss: 0.3216 - accuracy: 0.9099\n",
      "Epoch 11/20\n",
      "1875/1875 [==============================] - 2s 990us/step - loss: 0.3173 - accuracy: 0.9111\n",
      "Epoch 12/20\n",
      "1875/1875 [==============================] - 2s 868us/step - loss: 0.3136 - accuracy: 0.9124\n",
      "Epoch 13/20\n",
      "1875/1875 [==============================] - 2s 804us/step - loss: 0.3105 - accuracy: 0.9134\n",
      "Epoch 14/20\n",
      "1875/1875 [==============================] - 2s 814us/step - loss: 0.3075 - accuracy: 0.9141\n",
      "Epoch 15/20\n",
      "1875/1875 [==============================] - 2s 882us/step - loss: 0.3050 - accuracy: 0.9153\n",
      "Epoch 16/20\n",
      "1875/1875 [==============================] - 2s 800us/step - loss: 0.3026 - accuracy: 0.9153\n",
      "Epoch 17/20\n",
      "1875/1875 [==============================] - 2s 895us/step - loss: 0.3005 - accuracy: 0.9164\n",
      "Epoch 18/20\n",
      "1875/1875 [==============================] - 2s 806us/step - loss: 0.2984 - accuracy: 0.9168\n",
      "Epoch 19/20\n",
      "1875/1875 [==============================] - 2s 913us/step - loss: 0.2968 - accuracy: 0.9168\n",
      "Epoch 20/20\n",
      "1875/1875 [==============================] - 2s 843us/step - loss: 0.2952 - accuracy: 0.9175\n"
     ]
    },
    {
     "data": {
      "text/plain": [
       "<keras.callbacks.History at 0x26c874d2d08>"
      ]
     },
     "execution_count": 7,
     "metadata": {},
     "output_type": "execute_result"
    }
   ],
   "source": [
    "# If unspecified, `batch_size` will default to 32\n",
    "model.fit(x_train.astype(\"float32\") / 255, y_train, epochs=20) "
   ]
  },
  {
   "cell_type": "markdown",
   "metadata": {
    "slideshow": {
     "slide_type": "subslide"
    }
   },
   "source": [
    "<div align=\"center\">\n",
    "    <img src=\"images/kot-spit-mem.jpeg\" width=900/>\n",
    "</div>"
   ]
  },
  {
   "cell_type": "markdown",
   "metadata": {
    "slideshow": {
     "slide_type": "subslide"
    }
   },
   "source": [
    "### Посмотрим, какое качество получилось"
   ]
  },
  {
   "cell_type": "code",
   "execution_count": 6,
   "metadata": {
    "slideshow": {
     "slide_type": "fragment"
    }
   },
   "outputs": [
    {
     "data": {
      "text/plain": [
       "array([7, 2, 1, ..., 4, 5, 6], dtype=int64)"
      ]
     },
     "execution_count": 6,
     "metadata": {},
     "output_type": "execute_result"
    }
   ],
   "source": [
    "import numpy as np\n",
    "\n",
    "np.argmax(model.predict(x_test.astype(\"float32\") / 255), axis=1)"
   ]
  },
  {
   "cell_type": "code",
   "execution_count": 7,
   "metadata": {
    "slideshow": {
     "slide_type": "fragment"
    }
   },
   "outputs": [
    {
     "data": {
      "text/plain": [
       "0.9201"
      ]
     },
     "execution_count": 7,
     "metadata": {},
     "output_type": "execute_result"
    }
   ],
   "source": [
    "from sklearn.metrics import accuracy_score\n",
    "\n",
    "accuracy_score(np.argmax(model.predict(x_test.astype(\"float32\") / 255), axis=1), y_test)"
   ]
  },
  {
   "cell_type": "code",
   "execution_count": 8,
   "metadata": {
    "slideshow": {
     "slide_type": "fragment"
    }
   },
   "outputs": [
    {
     "name": "stdout",
     "output_type": "stream",
     "text": [
      "Model: \"sequential\"\n",
      "_________________________________________________________________\n",
      "Layer (type)                 Output Shape              Param #   \n",
      "=================================================================\n",
      "flatten (Flatten)            (None, 784)               0         \n",
      "_________________________________________________________________\n",
      "dense (Dense)                (None, 10)                7850      \n",
      "=================================================================\n",
      "Total params: 7,850\n",
      "Trainable params: 7,850\n",
      "Non-trainable params: 0\n",
      "_________________________________________________________________\n"
     ]
    }
   ],
   "source": [
    "model.summary()"
   ]
  },
  {
   "cell_type": "markdown",
   "metadata": {
    "slideshow": {
     "slide_type": "subslide"
    }
   },
   "source": [
    "### Нейронная сеть\n",
    "\n",
    "<div align=\"center\">\n",
    "    <img src=\"images/nn_scheme.jpg\" width=700/>\n",
    "</div>\n"
   ]
  },
  {
   "cell_type": "markdown",
   "metadata": {
    "slideshow": {
     "slide_type": "subslide"
    }
   },
   "source": [
    "### Нелинейные функции: ReLU, PReLU (LeakyReLU)\n",
    "\n",
    " $$\\text{ReLU}(y) = \\max(0, y), \\\\ \\text{PReLU}(y) = \\max(0, y) + \\alpha\\min(0, y)$$\n"
   ]
  },
  {
   "cell_type": "code",
   "execution_count": 1,
   "metadata": {
    "slideshow": {
     "slide_type": "subslide"
    }
   },
   "outputs": [
    {
     "data": {
      "image/png": "[encoded data removed]",
      "text/plain": [
       "<Figure size 1008x432 with 1 Axes>"
      ]
     },
     "metadata": {
      "needs_background": "light"
     },
     "output_type": "display_data"
    }
   ],
   "source": [
    "import matplotlib.pyplot as plt\n",
    "import numpy as np\n",
    "\n",
    "fig, ax1 = plt.subplots(1, 1)\n",
    "\n",
    "ax1.set_xlabel('x')\n",
    "\n",
    "x1 = np.linspace(-3.5, 3.5, num=100)\n",
    "ax1.set_ylim(-1.1, 2.1)\n",
    "\n",
    "sigmoid = 1 / (1 + np.exp(-x1)) \n",
    "ax1.plot(x1, sigmoid, 'r', label='sigmoid')\n",
    "tanh = np.tanh(x1) \n",
    "ax1.plot(x1, tanh, 'g--', label='tanh')\n",
    "relu = x1 * (x1 > 0) \n",
    "ax1.plot(x1, relu, 'k+', label='relu')\n",
    "leaky_relu = x1 * (x1 > 0) + 0.1 * x1 * (x1 < 0) \n",
    "ax1.plot(x1, leaky_relu, 'b-', label='leaky_relu, 0.1')\n",
    "\n",
    "step = 1 * (x1 > 0) \n",
    "ax1.plot(x1, step, '-', label='step')\n",
    "\n",
    "ax1.grid(True)\n",
    "\n",
    "fig.set_size_inches(14, 6)\n",
    "plt.legend(loc='best')\n",
    "plt.show()"
   ]
  },
  {
   "cell_type": "markdown",
   "metadata": {
    "slideshow": {
     "slide_type": "subslide"
    }
   },
   "source": [
    "### Регуляризация\n",
    "\n",
    "$$ L(W, b) = - \\sum\\limits_j \\ln \\frac{e^{(x_jW + b)_{y_j}}}{\\sum\\limits_i e^{(x_jW + b)_{i}}} + \\lambda R(W, b) \\\\\n",
    "   R(W, b) = \\|W\\|_2^2 + \\|b\\|_2^2 \\\\\n",
    "   \\|b\\|_2^2 = b_0^2 + \\dots + b_k^2\n",
    "$$\n",
    "\n",
    "<div align=\"center\">\n",
    "    <img src=\"images/regularization.png\" width=400/>\n",
    "</div>\n"
   ]
  },
  {
   "cell_type": "markdown",
   "metadata": {
    "slideshow": {
     "slide_type": "slide"
    }
   },
   "source": [
    "### Метод обратного распространения ошибки"
   ]
  },
  {
   "cell_type": "markdown",
   "metadata": {
    "slideshow": {
     "slide_type": "subslide"
    }
   },
   "source": [
    "### Граф вычислений\n",
    "\n",
    "Внесём $b$ в $W$\n",
    "\n",
    "$$ L(W) = - \\sum\\limits_j \\ln p(c = y_j|x_j) + \\lambda R(W) \\\\ \\ $$\n",
    "\n",
    "<div align=\"center\">\n",
    "    <img src=\"images/graph_calc.png\" width=800/>\n",
    "</div>\n",
    "\n",
    "Хотим найти градиенты функции потерь $L$ по всем входам графа вычислений.\n"
   ]
  },
  {
   "cell_type": "markdown",
   "metadata": {
    "slideshow": {
     "slide_type": "subslide"
    }
   },
   "source": [
    "### Простой пример\n",
    "\n",
    "Производная сложной функции $f(g(x))\\ \\ \\to \\frac{df}{dx} = \\frac{df}{dg} \\frac{dg}{dx}$\n",
    "\n",
    "Пусть $f(x, w) = 1 + e^{w_1x + w_0}$\n",
    "\n",
    "<div align=\"center\">\n",
    "    <img src=\"images/simple_graph.png\" width=600/>\n",
    "</div>\n",
    "\n",
    "$$ \\frac{\\partial f}{\\partial f} = 1, \\ f = c + 1, \\ dc = \\frac{\\partial f}{\\partial c} = 1, \\dots$$\n"
   ]
  },
  {
   "cell_type": "markdown",
   "metadata": {
    "slideshow": {
     "slide_type": "subslide"
    }
   },
   "source": [
    "### Общая схема вычисления градиента\n",
    "\n",
    "<div align=\"center\">\n",
    "    <img src=\"images/backprop_scheme.png\" width=400/>\n",
    "</div>\n"
   ]
  },
  {
   "cell_type": "markdown",
   "metadata": {
    "slideshow": {
     "slide_type": "subslide"
    }
   },
   "source": [
    "### Метод обратного распространения ошибки (backpropagation)\n",
    "\n",
    "В итоге мы смогли вычислить все градиенты простыми операциями обратным проходом по графу\n",
    "\n",
    " * не выписывали всю производную целиком аналитически\n",
    " * на каждом шаге дифференцировали простую функцию\n",
    " * за один проход по графу вычислений\n",
    " * возможно распараллеливание"
   ]
  },
  {
   "cell_type": "markdown",
   "metadata": {
    "slideshow": {
     "slide_type": "subslide"
    }
   },
   "source": [
    "### В случае двуслойной нейросети\n",
    "\n",
    "Выходные значения сети $a^m(x_i), m = 1 \\dots M$ на объекте $x_i$:\n",
    "\n",
    "$a^m(x_i) = \\sigma_m \\left( \\sum\\limits_{h=0}^H w_{hm} \\color{red}{u^h(x_i)} \\right)$\n",
    "\n",
    "$\\color{red}{u^h(x_i)} = \\sigma_h \\left( \\sum\\limits_{j=0}^J w_{jh} f_j(x_i) \\right)$\n",
    "\n",
    "Пусть для определенности\n",
    "\n",
    "$\\mathcal{L}_i (w) = \\frac12 \\sum\\limits_{m=1}^M (a^m(x_i) - y_i^m)^2$\n",
    "\n",
    "**Промежуточная задача**: частные производные\n",
    "\n",
    "$\\frac{\\partial \\mathcal{L}_i(w)}{\\partial a^m},\\ \\ \\frac{\\partial \\mathcal{L}_i(w)}{\\partial u^h}$\n"
   ]
  },
  {
   "cell_type": "markdown",
   "metadata": {
    "slideshow": {
     "slide_type": "subslide"
    }
   },
   "source": [
    "### Быстрое дифференцирование. Вспомогательные градиенты\n",
    "\n",
    "**Промежуточная задача**: частные производные\n",
    "\n",
    "$\\frac{\\partial \\mathcal{L}_i(w)}{\\partial a^m} = a^m(x_i) - y_i^m = \\varepsilon_i^m$\n",
    "\n",
    "— это ошибка на выходном слое (для квадратичных потерь);\n",
    "\n",
    "$\\frac{\\partial \\mathcal{L}_i(w)}{\\partial u^h} = \\sum\\limits_{m=1}^M (a^m(x_i) - y_i^m) \\sigma_m^\\prime w_{hm} = \n",
    " \\sum\\limits_{m=1}^M \\varepsilon_i^m \\sigma_m^\\prime w_{hm} = \\varepsilon_i^h$\n",
    "\n",
    "— назовём это *ошибкой на скрытом слое*.\n",
    "\n",
    "Получается, что $\\varepsilon_i^h$ вычисляется по $\\varepsilon_i^m$, если запустить сеть «задом наперёд»:\n",
    "\n",
    "<div align=\"center\">\n",
    "    <img src=\"images/backprop_eps.jpg\" width=400/>\n",
    "</div>\n"
   ]
  },
  {
   "cell_type": "markdown",
   "metadata": {
    "slideshow": {
     "slide_type": "subslide"
    }
   },
   "source": [
    "### Быстрое вычисление градиента\n",
    "\n",
    "Теперь, имея частные производные $\\mathcal{L}_i(w)$ по $a^m$ и $u^h$, легко выписать градиент $\\mathcal{L}_i(w)$ по весам $w$:\n",
    "\n",
    "$\\frac{\\partial \\mathcal{L}_i(w)}{\\partial w_{hm}} = \\frac{\\partial \\mathcal{L}_i(w)}{\\partial a^m} \\frac{\\partial a^m}{\\partial w_{hm}} = \\varepsilon_i^m \\sigma^\\prime_m u^h(x_i), \\\\ m = 1, \\dots, M, h = 0, \\dots, H$\n",
    "\n",
    "$\\frac{\\partial \\mathcal{L}_i(w)}{\\partial w_{jh}} = \\frac{\\partial \\mathcal{L}_i(w)}{\\partial u^h} \\frac{\\partial u^h}{\\partial w_{jh}} = \\varepsilon_i^h \\sigma^\\prime_h f_j(x_i), \\\\ h = 1, \\dots, H, j = 0, \\dots, n$\n"
   ]
  },
  {
   "cell_type": "markdown",
   "metadata": {
    "slideshow": {
     "slide_type": "subslide"
    }
   },
   "source": [
    "### Алгоритм обратного распространения ошибки (BackPropagation)\n",
    "\n",
    "1. инициализировать веса $w_{jh}, w_{hm}$\n",
    "\n",
    "2. **повторять**\n",
    "    3. выбрать объект $x_i$ из $X^\\ell$ (например, случайно)\n",
    "    4. прямой ход\n",
    "    \n",
    "    $u_i^h = \\sigma_h \\left(\\sum_{j=0}^J w_{jh}x_i^j \\right), h = 1, \\dots, H$\n",
    "    \n",
    "    $a_i^m = \\sigma_m \\left(\\sum_{h=0}^H w_{hm}u_i^h \\right), \\varepsilon_i^m = a_i^m - y_i^m, m =  1, \\dots, M$\n",
    "    \n",
    "    $\\mathcal{L}_i = \\sum_{m=1}^M (\\varepsilon_i^m)^2$\n",
    "\n",
    "    5. обратный ход \n",
    "    \n",
    "    $\\varepsilon_i^h =\\sum\\limits_{m=1}^M \\varepsilon_i^m \\sigma_m^\\prime w_{hm}, h = 1\\dots H$\n",
    "\n",
    "    6. градиентный шаг\n",
    "    \n",
    "    $w_{hm} = w_{hm} - \\eta \\varepsilon_i^m\\sigma_m^\\prime u_i^h, h = 0, \\dots, H, m = 1\\dots M$\n",
    "\n",
    "    $w_{jh} = w_{jh} - \\eta \\varepsilon_i^h\\sigma_h^\\prime x_i^j, j = 0, \\dots, n, h = 1\\dots H$\n",
    "\n",
    "    7. $Q = (1 - \\lambda)Q + \\lambda \\mathcal{L}_i$\n",
    "\n",
    "8. **пока** Q не стабилизируется"
   ]
  },
  {
   "cell_type": "markdown",
   "metadata": {
    "slideshow": {
     "slide_type": "subslide"
    }
   },
   "source": [
    "### Резюме\n",
    "\n",
    " * Нейрон = линейная классификация или регрессия\n",
    " * Нейронная сеть = суперпозиция нейронов с нелинейной функцией активации\n",
    " * BackPropagation =  быстрое дифференцирование суперпозиций. Позволяет обучать сети практически любой конфигурации\n",
    " * Методы улучшения сходимости и качества:\n",
    "   - обучение по мини-подвыборкам (mini-batch)\n",
    "   - различные функции активации\n",
    "   - регуляризация\n",
    " * Не было на этой лекции\n",
    "   - различные алгоритмы оптимизации: adam, RMSProp\n",
    "   - dropout\n",
    "   - выбор начального приближения\n",
    "   \n",
    "### Что ещё можно посмотреть?\n",
    " * Лекция 3 курса «DL на пальцах» от Семена Козлова: https://www.youtube.com/watch?v=kWTC1NvL894\n",
    " * 3blue1brown: https://www.youtube.com/watch?v=Ilg3gGewQ5U\n",
    " * В курсе Стенфорда: http://cs231n.github.io/optimization-2/\n",
    "   "
   ]
  },
  {
   "cell_type": "markdown",
   "metadata": {
    "slideshow": {
     "slide_type": "subslide"
    }
   },
   "source": [
    "### Сверточная сеть — в следующем семестре\n",
    "\n",
    "<div align=\"center\">\n",
    "    <img src=\"images/cnn_architecture.jpg\" width=800 />\n",
    "    <a href=\"https://www.pyimagesearch.com/wp-content/uploads/2014/06/cnn_architecture.jpg\">\n",
    "        Source</a> \n",
    "</div>"
   ]
  }
 ],
 "metadata": {
  "celltoolbar": "Slideshow",
  "kernelspec": {
   "display_name": "Python 3",
   "language": "python",
   "name": "python3"
  },
  "language_info": {
   "codemirror_mode": {
    "name": "ipython",
    "version": 3
   },
   "file_extension": ".py",
   "mimetype": "text/x-python",
   "name": "python",
   "nbconvert_exporter": "python",
   "pygments_lexer": "ipython3",
   "version": "3.7.6"
  }
 },
 "nbformat": 4,
 "nbformat_minor": 2
}
