{
 "cells": [
  {
   "cell_type": "markdown",
   "metadata": {
    "slideshow": {
     "slide_type": "slide"
    }
   },
   "source": [
    "<center><img src=\"./images/logo_fmkn.png\" width=300 style=\"display: inline-block;\"></center> \n",
    "\n",
    "## Машинное обучение\n",
    "### Семинар 14. Многомерная линейная регрессия. Метод главных компонент\n",
    "\n",
    "<br />\n",
    "<br />\n",
    "16 декабря 2021"
   ]
  },
  {
   "cell_type": "markdown",
   "metadata": {
    "id": "Vop69uKO-WpV",
    "slideshow": {
     "slide_type": "slide"
    }
   },
   "source": [
    "### Многомерная регрессия\n",
    "\n",
    "#### Простое решение МНК"
   ]
  },
  {
   "cell_type": "markdown",
   "metadata": {
    "id": "_w3zdh6K0uLK",
    "slideshow": {
     "slide_type": "fragment"
    }
   },
   "source": [
    "Ранее мы выводили, что решением\n",
    "$$||XW-Y||^2_2 \\rightarrow \\min_W$$\n",
    "будет матрица\n",
    "$$W^{*} = (X^TX)^{-1}X^TY$$"
   ]
  },
  {
   "cell_type": "code",
   "execution_count": 1,
   "metadata": {
    "id": "ZBrbr58U1S_n",
    "slideshow": {
     "slide_type": "subslide"
    }
   },
   "outputs": [],
   "source": [
    "import matplotlib.pyplot as plt\n",
    "import numpy as np\n",
    "np.random.seed(42)\n",
    "\n",
    "n = 2\n",
    "l = 100\n",
    "K = 2\n",
    "beta= 0.\n",
    "\n",
    "X = np.random.randn(l, n)\n",
    "W_true = np.random.randn(n, K)\n",
    "\n",
    "y = X @ W_true + beta * np.random.randn(l, K)"
   ]
  },
  {
   "cell_type": "code",
   "execution_count": 2,
   "metadata": {
    "colab": {
     "base_uri": "https://localhost:8080/"
    },
    "id": "tLi1BNAp1bCb",
    "outputId": "a78db314-04b4-461a-8683-ec3c936c4f1b",
    "slideshow": {
     "slide_type": "fragment"
    }
   },
   "outputs": [
    {
     "data": {
      "text/plain": [
       "1.4251881588465545e-31"
      ]
     },
     "execution_count": 2,
     "metadata": {},
     "output_type": "execute_result"
    }
   ],
   "source": [
    "W = np.linalg.inv(X.T @ X) @ X.T @ y\n",
    "\n",
    "((W - W_true)**2).mean()"
   ]
  },
  {
   "cell_type": "code",
   "execution_count": 3,
   "metadata": {
    "id": "n4kjbepy1fY2",
    "slideshow": {
     "slide_type": "subslide"
    }
   },
   "outputs": [],
   "source": [
    "betas = np.linspace(0, 10, 1000)\n",
    "list_of_errors = []\n",
    "\n",
    "for beta in betas:\n",
    "    y = X @ W_true + beta * np.random.randn(l, K)\n",
    "    \n",
    "    W = np.linalg.inv(X.T @ X) @ X.T @ y\n",
    "\n",
    "    list_of_errors.append(((W - W_true)**2).mean())"
   ]
  },
  {
   "cell_type": "code",
   "execution_count": 8,
   "metadata": {
    "colab": {
     "base_uri": "https://localhost:8080/",
     "height": 299
    },
    "id": "Dt3g0w4D1kt4",
    "outputId": "5d50937f-515e-4ce0-da4b-b919cb26195b",
    "slideshow": {
     "slide_type": "fragment"
    }
   },
   "outputs": [
    {
     "data": {
      "image/png": "[encoded data removed]",
      "text/plain": [
       "<Figure size 432x288 with 1 Axes>"
      ]
     },
     "metadata": {
      "needs_background": "light"
     },
     "output_type": "display_data"
    }
   ],
   "source": [
    "plt.plot(betas, list_of_errors)\n",
    "plt.xlabel(\"noise\")\n",
    "plt.ylabel(\"error\")\n",
    "plt.grid()\n",
    "plt.show()"
   ]
  },
  {
   "cell_type": "markdown",
   "metadata": {
    "id": "I9OpoOkU155y",
    "slideshow": {
     "slide_type": "subslide"
    }
   },
   "source": [
    "### SVD\n",
    "\n",
    "#### SVD разложение\n",
    "$$X=VDU^T$$\n",
    "\n",
    "#### Лемма\n",
    "$$X^+=(X^TX)^{-1}X^T= \\\\\n",
    "  (UD^TV^TVDU^T)^{-1}UD^TV^T= \\\\\n",
    "  UD^{-1}D^{-1}U^T UD^TV^T\n",
    "=UD^{-1}V^T \n",
    "$$\n",
    "\n",
    "#### Решение\n",
    "$$W^*=UD^{-1}V^TY$$\n"
   ]
  },
  {
   "cell_type": "code",
   "execution_count": 4,
   "metadata": {
    "id": "fV23NqAa3U2L",
    "slideshow": {
     "slide_type": "subslide"
    }
   },
   "outputs": [],
   "source": [
    "np.random.seed(42)\n",
    "n = 2\n",
    "l = 100\n",
    "K = 2\n",
    "beta= 0.\n",
    "\n",
    "X = np.random.randn(l, n).astype(np.float64)\n",
    "W_true = np.random.randn(n, K).astype(np.float64)\n",
    "\n",
    "y = X @ W_true + beta*np.random.randn(l, K)"
   ]
  },
  {
   "cell_type": "code",
   "execution_count": 5,
   "metadata": {
    "id": "PPde8xuz3YMB",
    "slideshow": {
     "slide_type": "fragment"
    }
   },
   "outputs": [],
   "source": [
    "V, d, U = np.linalg.svd(X, full_matrices=False)\n",
    "\n",
    "D = np.eye(len(d)) * d \n",
    "lambds = d**2"
   ]
  },
  {
   "cell_type": "code",
   "execution_count": 6,
   "metadata": {},
   "outputs": [
    {
     "data": {
      "text/plain": [
       "array([99.10805222, 73.71129184])"
      ]
     },
     "execution_count": 6,
     "metadata": {},
     "output_type": "execute_result"
    }
   ],
   "source": [
    "lambds"
   ]
  },
  {
   "cell_type": "markdown",
   "metadata": {
    "id": "o_RhB2ZOIOnP",
    "slideshow": {
     "slide_type": "subslide"
    }
   },
   "source": [
    "Число обусловленности:"
   ]
  },
  {
   "cell_type": "code",
   "execution_count": 12,
   "metadata": {
    "colab": {
     "base_uri": "https://localhost:8080/"
    },
    "id": "ValN1rWx3gW2",
    "outputId": "5512b775-41ad-48f1-9eba-ba2a19c86d98",
    "slideshow": {
     "slide_type": "fragment"
    }
   },
   "outputs": [
    {
     "data": {
      "text/plain": [
       "1.3445436885287005"
      ]
     },
     "execution_count": 12,
     "metadata": {},
     "output_type": "execute_result"
    }
   ],
   "source": [
    "np.max(lambds)/np.min(lambds)"
   ]
  },
  {
   "cell_type": "code",
   "execution_count": 7,
   "metadata": {
    "colab": {
     "base_uri": "https://localhost:8080/"
    },
    "id": "r7zsXWJ63jiH",
    "outputId": "24712927-2e6e-4629-e8c3-5f85e1095e95",
    "slideshow": {
     "slide_type": "fragment"
    }
   },
   "outputs": [
    {
     "data": {
      "text/plain": [
       "4.0059342843254506e-32"
      ]
     },
     "execution_count": 7,
     "metadata": {},
     "output_type": "execute_result"
    }
   ],
   "source": [
    "W = (U.T @ np.linalg.inv(D) @ V.T) @ y\n",
    "\n",
    "((W-W_true)**2).mean()"
   ]
  },
  {
   "cell_type": "markdown",
   "metadata": {
    "id": "mtsrYxieIRnT",
    "slideshow": {
     "slide_type": "subslide"
    }
   },
   "source": [
    "Посмотрим, как меняется ошибка, если число обусловленности растет:"
   ]
  },
  {
   "cell_type": "code",
   "execution_count": 8,
   "metadata": {
    "id": "Av6pXAnsOm7C",
    "slideshow": {
     "slide_type": "-"
    }
   },
   "outputs": [],
   "source": [
    "np.random.seed(0)\n",
    "mus = np.linspace(0.00001, 0.0001, 1000, dtype=np.float64)\n",
    "list_of_errors = []\n",
    "beta=0.1\n",
    "for mu in mus:\n",
    "    lambds_new = np.array(lambds)\n",
    "    lambds_new[1] = mu * lambds_new[0]\n",
    "    d_new = np.sqrt(lambds_new)\n",
    "    D_new = np.eye(len(d_new)) * d_new\n",
    "    X_new = V @ D_new @ U\n",
    "    \n",
    "    y_new = X_new @ W_true + beta*np.random.randn(l, K)\n",
    "    \n",
    "    W = np.linalg.inv(X_new.T @ X_new) @ X_new.T @ y_new\n",
    "\n",
    "    list_of_errors.append(((W-W_true)**2).mean())"
   ]
  },
  {
   "cell_type": "markdown",
   "metadata": {
    "slideshow": {
     "slide_type": "fragment"
    }
   },
   "source": [
    "<div class=\"alert alert-info\">\n",
    "<b>Вопрос 1:</b> Объясните код `lambds_new[1] = mu * lambds_new[0]`.\n",
    "</div>"
   ]
  },
  {
   "cell_type": "code",
   "execution_count": 9,
   "metadata": {
    "colab": {
     "base_uri": "https://localhost:8080/",
     "height": 299
    },
    "id": "4veOuD-B3855",
    "outputId": "10e7c0b8-293f-4337-e338-e55c3a97ba6b",
    "slideshow": {
     "slide_type": "subslide"
    }
   },
   "outputs": [
    {
     "data": {
      "image/png": "[encoded data removed]",
      "text/plain": [
       "<Figure size 432x288 with 1 Axes>"
      ]
     },
     "metadata": {
      "needs_background": "light"
     },
     "output_type": "display_data"
    }
   ],
   "source": [
    "plt.plot(mus, list_of_errors)\n",
    "plt.xlabel(\"condition\")\n",
    "plt.ylabel(\"error\")\n",
    "plt.grid()\n",
    "plt.show()"
   ]
  },
  {
   "cell_type": "markdown",
   "metadata": {
    "slideshow": {
     "slide_type": "subslide"
    }
   },
   "source": [
    "<div class=\"alert alert-info\">\n",
    "<b>Вопрос 2:</b> Мы увеличили невязку, устремив одно из собственных значений к нулю. Что будет, если мы устремим его к бесконечности?\n",
    "</div>"
   ]
  },
  {
   "cell_type": "code",
   "execution_count": 11,
   "metadata": {
    "id": "Vr3rJu8BI17J",
    "slideshow": {
     "slide_type": "subslide"
    }
   },
   "outputs": [],
   "source": [
    "np.random.seed(0)\n",
    "mus = np.linspace(0.00001, 0.0001, 1000, dtype=np.float64)\n",
    "list_of_errors = []\n",
    "beta=0.1\n",
    "for mu in mus:\n",
    "    lambds_new = np.array(lambds)\n",
    "    lambds_new[1] = lambds_new[0] / mu\n",
    "    d_new = np.sqrt(lambds_new)\n",
    "    D_new = np.eye(len(d_new)) * d_new\n",
    "    X_new = V @ D_new @ U\n",
    "    \n",
    "    y_new = X_new @ W_true + beta * np.random.randn(l, K)\n",
    "    \n",
    "    W = np.linalg.inv(X_new.T @ X_new) @ X_new.T @ y_new\n",
    "\n",
    "    list_of_errors.append(((W-W_true)**2).mean())"
   ]
  },
  {
   "cell_type": "code",
   "execution_count": 29,
   "metadata": {
    "colab": {
     "base_uri": "https://localhost:8080/",
     "height": 299
    },
    "id": "wZ9QxVGPNtY-",
    "outputId": "0f0c7971-87eb-4b06-f887-c4ecf0f9579a",
    "slideshow": {
     "slide_type": "subslide"
    }
   },
   "outputs": [
    {
     "data": {
      "image/png": "[encoded data removed]",
      "text/plain": [
       "<Figure size 432x288 with 1 Axes>"
      ]
     },
     "metadata": {
      "needs_background": "light"
     },
     "output_type": "display_data"
    }
   ],
   "source": [
    "plt.plot(mus, list_of_errors)\n",
    "plt.xlabel(\"condition\")\n",
    "plt.ylabel(\"error\")\n",
    "plt.grid()\n",
    "plt.show()"
   ]
  },
  {
   "cell_type": "markdown",
   "metadata": {
    "id": "W4P-UODHOd7a",
    "slideshow": {
     "slide_type": "slide"
    }
   },
   "source": [
    "### Гребневая регрессия\n",
    "\n",
    "#### Решение:\n",
    "$$W^{*} = (X^TX +\\tau I)^{-1}X^TY$$\n",
    "\n",
    "#### SVD:\n",
    "$$W^*=U(D^2 + \\tau I)^{-1}DV^TY$$\n"
   ]
  },
  {
   "cell_type": "code",
   "execution_count": 13,
   "metadata": {
    "id": "A7kQDgHMOS__",
    "slideshow": {
     "slide_type": "subslide"
    }
   },
   "outputs": [],
   "source": [
    "np.random.seed(42)\n",
    "n = 2\n",
    "l = 100\n",
    "K = 2\n",
    "beta = 0.1\n",
    "mu = 0.00001\n",
    "X_old = np.random.randn(l, n)\n",
    "\n",
    "V, d_old, U = np.linalg.svd(X_old, full_matrices=False)\n",
    "\n",
    "D_old = np.eye(len(d_old)) * d_old\n",
    "lambds_old = d_old**2\n",
    "\n",
    "lambds = np.array(lambds_old)\n",
    "lambds[1] = mu * lambds[0]\n",
    "d = np.sqrt(lambds)\n",
    "D = np.eye(len(d)) * d\n",
    "W_true = np.random.randn(n, K)\n",
    "X = V @ D @ U\n",
    "\n",
    "y = X @ W_true + beta * np.random.randn(l, K)"
   ]
  },
  {
   "cell_type": "code",
   "execution_count": 14,
   "metadata": {
    "colab": {
     "base_uri": "https://localhost:8080/"
    },
    "id": "yLD1EZ0HPL_H",
    "outputId": "fc47c188-60c7-4243-8c4b-d64872056946",
    "slideshow": {
     "slide_type": "subslide"
    }
   },
   "outputs": [
    {
     "data": {
      "text/plain": [
       "13.015925827949049"
      ]
     },
     "execution_count": 14,
     "metadata": {},
     "output_type": "execute_result"
    }
   ],
   "source": [
    "W = (U.T @ np.linalg.inv(D) @ V.T) @ y\n",
    "\n",
    "((W-W_true)**2).mean()"
   ]
  },
  {
   "cell_type": "code",
   "execution_count": 15,
   "metadata": {
    "colab": {
     "base_uri": "https://localhost:8080/"
    },
    "id": "8wROsBy-RiRu",
    "outputId": "761edbe7-9044-45bc-a41a-8bc74556f207",
    "slideshow": {
     "slide_type": "fragment"
    }
   },
   "outputs": [
    {
     "data": {
      "text/plain": [
       "0.06871818815161033"
      ]
     },
     "execution_count": 15,
     "metadata": {},
     "output_type": "execute_result"
    }
   ],
   "source": [
    "W = (U.T @ np.linalg.inv(D @ D + np.eye(2)) @ D @ V.T) @ y\n",
    "\n",
    "((W-W_true)**2).mean()"
   ]
  },
  {
   "cell_type": "code",
   "execution_count": 17,
   "metadata": {
    "id": "ZLa1JuJcStU0",
    "slideshow": {
     "slide_type": "subslide"
    }
   },
   "outputs": [],
   "source": [
    "taus = np.geomspace(0.001, 1000, 100)\n",
    "list_of_errors = []\n",
    "\n",
    "for tau in taus:\n",
    "    W = (U.T @ np.linalg.inv(D @ D + tau * np.eye(2)) @ D @ V.T) @ y\n",
    "    list_of_errors.append(((W-W_true)**2).mean())"
   ]
  },
  {
   "cell_type": "code",
   "execution_count": 18,
   "metadata": {
    "colab": {
     "base_uri": "https://localhost:8080/",
     "height": 289
    },
    "id": "8HVKls3XTLDA",
    "outputId": "3e49048f-e94c-47b2-a0e4-6bc7247bc357",
    "slideshow": {
     "slide_type": "fragment"
    }
   },
   "outputs": [
    {
     "data": {
      "image/png": "[encoded data removed]",
      "text/plain": [
       "<Figure size 432x288 with 1 Axes>"
      ]
     },
     "metadata": {
      "needs_background": "light"
     },
     "output_type": "display_data"
    }
   ],
   "source": [
    "plt.plot(taus, list_of_errors)\n",
    "plt.xscale(\"log\")\n",
    "plt.grid()\n",
    "plt.show()"
   ]
  },
  {
   "cell_type": "markdown",
   "metadata": {
    "slideshow": {
     "slide_type": "subslide"
    }
   },
   "source": [
    "### Регуляризация"
   ]
  },
  {
   "cell_type": "code",
   "execution_count": 19,
   "metadata": {
    "id": "f-m-jvM0T170",
    "slideshow": {
     "slide_type": "-"
    }
   },
   "outputs": [],
   "source": [
    "from sklearn.model_selection import train_test_split\n",
    "np.random.seed(42)\n",
    "n = 2\n",
    "l = 15\n",
    "K = 2\n",
    "beta=10.0\n",
    "mu=1e-20\n",
    "X_old = np.random.randn(l, n)\n",
    "\n",
    "V, d_old, U = np.linalg.svd(X_old, full_matrices=False)\n",
    "\n",
    "D_old = np.eye(len(d_old))*d_old\n",
    "lambds_old = d_old**2 \n",
    "lambds = np.array(lambds_old)\n",
    "lambds[1] = mu * lambds[0]\n",
    "d = np.sqrt(lambds)\n",
    "D = np.eye(len(d))*d\n",
    "W_true = np.random.randn(n, K)\n",
    "X = V @ D @ U\n",
    "y = X @ W_true + beta * np.random.randn(l, K)\n",
    "X_train, X_test, y_train, y_test = train_test_split(X, y, test_size=0.33, random_state=42)"
   ]
  },
  {
   "cell_type": "code",
   "execution_count": 21,
   "metadata": {
    "id": "d_QDJCdVWLQe",
    "slideshow": {
     "slide_type": "subslide"
    }
   },
   "outputs": [],
   "source": [
    "V, d, U = np.linalg.svd(X_train, full_matrices=False)\n",
    "D = np.eye(len(d)) * d"
   ]
  },
  {
   "cell_type": "code",
   "execution_count": 22,
   "metadata": {
    "colab": {
     "base_uri": "https://localhost:8080/"
    },
    "id": "YghPkH7TenH3",
    "outputId": "22872dbf-afbe-410a-b47d-07eae132d7ef",
    "slideshow": {
     "slide_type": "fragment"
    }
   },
   "outputs": [
    {
     "data": {
      "text/plain": [
       "1.2043604422706174e+21"
      ]
     },
     "execution_count": 22,
     "metadata": {},
     "output_type": "execute_result"
    }
   ],
   "source": [
    "W = U.T @ (np.linalg.inv(D)) @ V.T @ y_train\n",
    "((W - W_true)**2).mean()"
   ]
  },
  {
   "cell_type": "code",
   "execution_count": 23,
   "metadata": {
    "colab": {
     "base_uri": "https://localhost:8080/"
    },
    "id": "6wmHA4vAfaf2",
    "outputId": "1246859e-0515-44bf-c6e9-0f2c1d345c88",
    "slideshow": {
     "slide_type": "fragment"
    }
   },
   "outputs": [
    {
     "data": {
      "text/plain": [
       "array([[-9.73108385e+08,  4.56222185e+10],\n",
       "       [ 1.11525271e+09, -5.22863675e+10]])"
      ]
     },
     "execution_count": 23,
     "metadata": {},
     "output_type": "execute_result"
    }
   ],
   "source": [
    "W"
   ]
  },
  {
   "cell_type": "code",
   "execution_count": 24,
   "metadata": {
    "id": "r8Xnlt8ofcGb",
    "slideshow": {
     "slide_type": "fragment"
    }
   },
   "outputs": [
    {
     "data": {
      "text/plain": [
       "array([[-0.60170661,  1.85227818],\n",
       "       [-0.01349722, -1.05771093]])"
      ]
     },
     "execution_count": 24,
     "metadata": {},
     "output_type": "execute_result"
    }
   ],
   "source": [
    "W_true"
   ]
  },
  {
   "cell_type": "code",
   "execution_count": 25,
   "metadata": {
    "colab": {
     "base_uri": "https://localhost:8080/"
    },
    "id": "rDP-xNJffPEV",
    "outputId": "d3aaf15c-6ceb-453e-d965-f5d8d7e8eecc",
    "slideshow": {
     "slide_type": "fragment"
    }
   },
   "outputs": [
    {
     "data": {
      "text/plain": [
       "3.4379177992036176"
      ]
     },
     "execution_count": 25,
     "metadata": {},
     "output_type": "execute_result"
    }
   ],
   "source": [
    "tau=0.1\n",
    "W = U.T @ np.linalg.inv((D @ D + tau*np.eye(2))) @ D @ V.T @ y_train\n",
    "((W - W_true)**2).mean()"
   ]
  },
  {
   "cell_type": "code",
   "execution_count": 26,
   "metadata": {
    "colab": {
     "base_uri": "https://localhost:8080/"
    },
    "id": "GjpR9cSCeIIh",
    "outputId": "f6016249-c9ae-46d8-b271-31851f9fafda",
    "slideshow": {
     "slide_type": "subslide"
    }
   },
   "outputs": [
    {
     "data": {
      "text/plain": [
       "80.21805930083926"
      ]
     },
     "execution_count": 26,
     "metadata": {},
     "output_type": "execute_result"
    }
   ],
   "source": [
    "y_pred = X_test @ U.T @ (np.linalg.inv(D)) @ V.T @ y_train\n",
    "((y_pred - y_test)**2).mean()"
   ]
  },
  {
   "cell_type": "code",
   "execution_count": 27,
   "metadata": {
    "colab": {
     "base_uri": "https://localhost:8080/"
    },
    "id": "2kGEfATkY1Bj",
    "outputId": "ba4ef2d7-c437-4781-926a-713da2df1f78",
    "slideshow": {
     "slide_type": "fragment"
    }
   },
   "outputs": [
    {
     "data": {
      "text/plain": [
       "52.77032790018004"
      ]
     },
     "execution_count": 27,
     "metadata": {},
     "output_type": "execute_result"
    }
   ],
   "source": [
    "tau=1.0\n",
    "y_pred = (X_test @ U.T @ np.linalg.inv((D@D + tau *np.eye(2))) @ D @ V.T) @ y_train\n",
    "((y_pred - y_test)**2).mean()"
   ]
  },
  {
   "cell_type": "code",
   "execution_count": 28,
   "metadata": {
    "colab": {
     "base_uri": "https://localhost:8080/"
    },
    "id": "WRbU9hbJcHU2",
    "outputId": "c5c83314-adf6-49df-d08a-d8749b69de61",
    "slideshow": {
     "slide_type": "fragment"
    }
   },
   "outputs": [
    {
     "name": "stdout",
     "output_type": "stream",
     "text": [
      "(5, 2)\n",
      "(2, 2)\n"
     ]
    }
   ],
   "source": [
    "taus = np.geomspace(1e-20, 100, 100)\n",
    "list_of_errors = []\n",
    "left = X_test @ U.T\n",
    "right = D @ V.T @ y_train\n",
    "print(left.shape)\n",
    "print(right.shape)\n",
    "for tau in taus:\n",
    "    y_pred = left @ (np.diag(1 / (d*d + tau)) @ right)\n",
    "    list_of_errors.append(((y_pred - y_test)**2).mean())"
   ]
  },
  {
   "cell_type": "code",
   "execution_count": 29,
   "metadata": {
    "colab": {
     "base_uri": "https://localhost:8080/",
     "height": 289
    },
    "id": "Vklkt82YdPzJ",
    "outputId": "4bf9849a-7397-4cff-9a7c-122f9eee7fa2",
    "slideshow": {
     "slide_type": "subslide"
    }
   },
   "outputs": [
    {
     "data": {
      "image/png": "[encoded data removed]",
      "text/plain": [
       "<Figure size 432x288 with 1 Axes>"
      ]
     },
     "metadata": {
      "needs_background": "light"
     },
     "output_type": "display_data"
    }
   ],
   "source": [
    "plt.plot(taus, list_of_errors)\n",
    "plt.xscale(\"log\")\n",
    "plt.grid()\n",
    "plt.show()"
   ]
  },
  {
   "cell_type": "markdown",
   "metadata": {
    "id": "fltqu8AchF4g",
    "slideshow": {
     "slide_type": "slide"
    }
   },
   "source": [
    "### PCA (principal component analysis)"
   ]
  },
  {
   "cell_type": "markdown",
   "metadata": {
    "id": "fltqu8AchF4g",
    "slideshow": {
     "slide_type": "subslide"
    }
   },
   "source": [
    "#### Ирисы"
   ]
  },
  {
   "cell_type": "code",
   "execution_count": 30,
   "metadata": {
    "colab": {
     "base_uri": "https://localhost:8080/",
     "height": 267
    },
    "id": "0KtkhWtSds6X",
    "outputId": "ecb14ae9-76e7-4733-9d53-e7d0e1da8340",
    "slideshow": {
     "slide_type": "-"
    }
   },
   "outputs": [],
   "source": [
    "from mpl_toolkits.mplot3d import Axes3D\n",
    "\n",
    "from sklearn import decomposition\n",
    "from sklearn import datasets\n",
    "\n",
    "np.random.seed(5)\n",
    "\n",
    "centers = [[1, 1], [-1, -1], [1, -1]]\n",
    "iris = datasets.load_iris()\n",
    "X = iris.data\n",
    "y = iris.target"
   ]
  },
  {
   "cell_type": "code",
   "execution_count": 31,
   "metadata": {
    "slideshow": {
     "slide_type": "subslide"
    }
   },
   "outputs": [
    {
     "name": "stderr",
     "output_type": "stream",
     "text": [
      "/tmp/ipykernel_1260/3640362553.py:3: MatplotlibDeprecationWarning: Axes3D(fig) adding itself to the figure is deprecated since 3.4. Pass the keyword argument auto_add_to_figure=False and use fig.add_axes(ax) to suppress this warning. The default value of auto_add_to_figure will change to False in mpl3.5 and True values will no longer work in 3.6.  This is consistent with other Axes classes.\n",
      "  ax = Axes3D(fig, rect=[0, 0, .95, 1], elev=48, azim=134)\n"
     ]
    },
    {
     "data": {
      "image/png": "[encoded data removed]",
      "text/plain": [
       "<Figure size 288x216 with 1 Axes>"
      ]
     },
     "metadata": {
      "needs_background": "light"
     },
     "output_type": "display_data"
    }
   ],
   "source": [
    "fig = plt.figure(1, figsize=(4, 3))\n",
    "plt.clf()\n",
    "ax = Axes3D(fig, rect=[0, 0, .95, 1], elev=48, azim=134)\n",
    "\n",
    "plt.cla()\n",
    "pca = decomposition.PCA(n_components=3)\n",
    "pca.fit(X)\n",
    "X = pca.transform(X)\n",
    "\n",
    "for name, label in [('Setosa', 0), ('Versicolour', 1), ('Virginica', 2)]:\n",
    "    ax.text3D(X[y == label, 0].mean(),\n",
    "              X[y == label, 1].mean() + 1.5,\n",
    "              X[y == label, 2].mean(), name,\n",
    "              horizontalalignment='center',\n",
    "              bbox=dict(alpha=.5, edgecolor='w', facecolor='w'))\n",
    "\n",
    "ax.scatter(X[:, 0], X[:, 1], X[:, 2], c=y, cmap=plt.cm.nipy_spectral,\n",
    "           edgecolor='k')\n",
    "\n",
    "ax.w_xaxis.set_ticklabels([])\n",
    "ax.w_yaxis.set_ticklabels([])\n",
    "ax.w_zaxis.set_ticklabels([])\n",
    "\n",
    "plt.show()"
   ]
  },
  {
   "cell_type": "markdown",
   "metadata": {
    "id": "fltqu8AchF4g",
    "slideshow": {
     "slide_type": "subslide"
    }
   },
   "source": [
    "#### Цифры MNIST"
   ]
  },
  {
   "cell_type": "code",
   "execution_count": 22,
   "metadata": {},
   "outputs": [],
   "source": [
    "# !pip install --upgrade tensorflow"
   ]
  },
  {
   "cell_type": "code",
   "execution_count": 32,
   "metadata": {},
   "outputs": [
    {
     "name": "stderr",
     "output_type": "stream",
     "text": [
      "2021-12-17 14:19:22.603196: W tensorflow/stream_executor/platform/default/dso_loader.cc:64] Could not load dynamic library 'libcudart.so.11.0'; dlerror: libcudart.so.11.0: cannot open shared object file: No such file or directory\n",
      "2021-12-17 14:19:22.603558: I tensorflow/stream_executor/cuda/cudart_stub.cc:29] Ignore above cudart dlerror if you do not have a GPU set up on your machine.\n"
     ]
    }
   ],
   "source": [
    "from tensorflow import keras"
   ]
  },
  {
   "cell_type": "code",
   "execution_count": 33,
   "metadata": {
    "slideshow": {
     "slide_type": "subslide"
    }
   },
   "outputs": [],
   "source": [
    "from keras.datasets import mnist\n",
    "\n",
    "(train_X, train_y), (test_X, test_y) = mnist.load_data()"
   ]
  },
  {
   "cell_type": "code",
   "execution_count": 34,
   "metadata": {
    "id": "JsWrR7b6iYmO",
    "slideshow": {
     "slide_type": "-"
    }
   },
   "outputs": [
    {
     "data": {
      "text/plain": [
       "<matplotlib.image.AxesImage at 0x7f5034cb4820>"
      ]
     },
     "execution_count": 34,
     "metadata": {},
     "output_type": "execute_result"
    },
    {
     "data": {
      "image/png": "[encoded data removed]",
      "text/plain": [
       "<Figure size 432x288 with 1 Axes>"
      ]
     },
     "metadata": {
      "needs_background": "light"
     },
     "output_type": "display_data"
    }
   ],
   "source": [
    "plt.imshow(train_X[5])"
   ]
  },
  {
   "cell_type": "code",
   "execution_count": 35,
   "metadata": {},
   "outputs": [
    {
     "name": "stdout",
     "output_type": "stream",
     "text": [
      "(60000, 28, 28)\n"
     ]
    },
    {
     "data": {
      "text/plain": [
       "(60000, 784)"
      ]
     },
     "execution_count": 35,
     "metadata": {},
     "output_type": "execute_result"
    }
   ],
   "source": [
    "print(train_X.shape)\n",
    "X = train_X.reshape((60000, 28*28))\n",
    "X.shape"
   ]
  },
  {
   "cell_type": "code",
   "execution_count": 36,
   "metadata": {
    "id": "THMoGR1jiz7o",
    "slideshow": {
     "slide_type": "subslide"
    }
   },
   "outputs": [
    {
     "data": {
      "text/plain": [
       "PCA(n_components=2)"
      ]
     },
     "execution_count": 36,
     "metadata": {},
     "output_type": "execute_result"
    }
   ],
   "source": [
    "pca = decomposition.PCA(n_components=2)\n",
    "pca.fit(X)"
   ]
  },
  {
   "cell_type": "code",
   "execution_count": 39,
   "metadata": {
    "id": "xiTpkMfJjYWE",
    "slideshow": {
     "slide_type": "fragment"
    }
   },
   "outputs": [],
   "source": [
    "new_X = pca.transform(X)"
   ]
  },
  {
   "cell_type": "code",
   "execution_count": 41,
   "metadata": {
    "colab": {
     "base_uri": "https://localhost:8080/",
     "height": 285
    },
    "id": "VA5nDvJ9jbge",
    "outputId": "2f166bca-9f62-4b73-a6b4-2cfea15210ff",
    "slideshow": {
     "slide_type": "subslide"
    }
   },
   "outputs": [
    {
     "data": {
      "image/png": "[encoded data removed]",
      "text/plain": [
       "<Figure size 432x288 with 2 Axes>"
      ]
     },
     "metadata": {
      "needs_background": "light"
     },
     "output_type": "display_data"
    }
   ],
   "source": [
    "plt.scatter(new_X[:1000, 0], new_X[:1000, 1], c=list(map(lambda x: int(x), train_y[:1000])))\n",
    "plt.autoscale()\n",
    "\n",
    "cb = plt.colorbar()\n",
    "cb.set_ticks(range(10))"
   ]
  },
  {
   "cell_type": "markdown",
   "metadata": {
    "id": "7W_Y758Rn4zt",
    "slideshow": {
     "slide_type": "subslide"
    }
   },
   "source": [
    "### PCA как генеративная модель"
   ]
  },
  {
   "cell_type": "code",
   "execution_count": 47,
   "metadata": {
    "id": "ajolbUUajdQi",
    "slideshow": {
     "slide_type": "-"
    }
   },
   "outputs": [
    {
     "data": {
      "text/plain": [
       "<matplotlib.image.AxesImage at 0x7f502ee8c160>"
      ]
     },
     "execution_count": 47,
     "metadata": {},
     "output_type": "execute_result"
    },
    {
     "data": {
      "image/png": "[encoded data removed]",
      "text/plain": [
       "<Figure size 432x288 with 1 Axes>"
      ]
     },
     "metadata": {
      "needs_background": "light"
     },
     "output_type": "display_data"
    }
   ],
   "source": [
    "new_img = pca.inverse_transform([500, 50])\n",
    "plt.imshow(new_img.reshape((28,28)))"
   ]
  },
  {
   "cell_type": "code",
   "execution_count": 49,
   "metadata": {
    "colab": {
     "base_uri": "https://localhost:8080/",
     "height": 303
    },
    "id": "KvknDngalFE4",
    "outputId": "fe8663da-7a7f-4621-8f95-d5f22216f778",
    "slideshow": {
     "slide_type": "subslide"
    }
   },
   "outputs": [
    {
     "name": "stdout",
     "output_type": "stream",
     "text": [
      "1245.6, -38.4\n"
     ]
    },
    {
     "data": {
      "text/plain": [
       "<matplotlib.image.AxesImage at 0x7f5034c8e6a0>"
      ]
     },
     "execution_count": 49,
     "metadata": {},
     "output_type": "execute_result"
    },
    {
     "data": {
      "image/png": "[encoded data removed]",
      "text/plain": [
       "<Figure size 432x288 with 1 Axes>"
      ]
     },
     "metadata": {
      "needs_background": "light"
     },
     "output_type": "display_data"
    }
   ],
   "source": [
    "x, y = np.random.normal(loc=500, scale=750), np.random.normal(loc=0,scale=500)\n",
    "print(f\"{x:.1f}, {y:.1f}\")\n",
    "\n",
    "plt.imshow(\n",
    "    pca.inverse_transform([x, y]).reshape((28,28)))"
   ]
  },
  {
   "cell_type": "code",
   "execution_count": 50,
   "metadata": {
    "id": "AUIob789lg5b",
    "slideshow": {
     "slide_type": "subslide"
    }
   },
   "outputs": [],
   "source": [
    "n_components=10\n",
    "pca = decomposition.PCA(n_components=n_components)\n",
    "pca.fit(X)\n",
    "new_X = pca.transform(X)"
   ]
  },
  {
   "cell_type": "code",
   "execution_count": 55,
   "metadata": {
    "colab": {
     "base_uri": "https://localhost:8080/",
     "height": 303
    },
    "id": "X_vShnB5lvYU",
    "outputId": "e6d51e32-a5dc-44fc-b565-0312bb5f0168",
    "slideshow": {
     "slide_type": "subslide"
    }
   },
   "outputs": [
    {
     "data": {
      "text/plain": [
       "<matplotlib.image.AxesImage at 0x7f502ec538e0>"
      ]
     },
     "execution_count": 55,
     "metadata": {},
     "output_type": "execute_result"
    },
    {
     "data": {
      "image/png": "[encoded data removed]",
      "text/plain": [
       "<Figure size 432x288 with 1 Axes>"
      ]
     },
     "metadata": {
      "needs_background": "light"
     },
     "output_type": "display_data"
    }
   ],
   "source": [
    "plt.imshow(\n",
    "    pca.inverse_transform((new_X.max(axis=0) - new_X.min(axis=0)) / \n",
    "                          3 * np.random.multivariate_normal(np.zeros(n_components), np.eye(n_components))).reshape((28,28)))"
   ]
  }
 ],
 "metadata": {
  "celltoolbar": "Slideshow",
  "kernelspec": {
   "display_name": "Python 3 (ipykernel)",
   "language": "python",
   "name": "python3"
  },
  "language_info": {
   "codemirror_mode": {
    "name": "ipython",
    "version": 3
   },
   "file_extension": ".py",
   "mimetype": "text/x-python",
   "name": "python",
   "nbconvert_exporter": "python",
   "pygments_lexer": "ipython3",
   "version": "3.9.7"
  },
  "rise": {
   "transition": "none"
  }
 },
 "nbformat": 4,
 "nbformat_minor": 2
}
