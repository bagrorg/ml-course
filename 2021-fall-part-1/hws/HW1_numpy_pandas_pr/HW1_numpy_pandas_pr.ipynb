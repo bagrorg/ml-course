{
 "cells": [
  {
   "cell_type": "markdown",
   "metadata": {
    "slideshow": {
     "slide_type": "slide"
    }
   },
   "source": [
    "\n",
    "# Машинное обучение, МКН СПбГУ\n",
    "\n",
    "### Первое домашнее задание (практическое). NumPy, Pandas\n"
   ]
  },
  {
   "cell_type": "markdown",
   "metadata": {},
   "source": [
    "### Формат сдачи\n",
    "Задания сдаются через сайт emkn. Посылка должна содержать:\n",
    "* Сделанный ноутбук `HW1_numpy_pandas_pr_Username.ipynb`. `Username` — ваша фамилия и имя на латинице именно в таком порядке\n",
    "\n",
    "Для удобства проверки самостоятельно посчитайте свою максимальную оценку (исходя из набора решенных задач) и укажите ниже:\n",
    "\n",
    "__Оценка:__"
   ]
  },
  {
   "cell_type": "markdown",
   "metadata": {
    "id": "7K_rmn1sG9rf"
   },
   "source": [
    "### (8 баллов) Знакомство с Numpy\n",
    "\n",
    "Во всех заданиях данного раздела запрещено использовать циклы (ключевые слова *for* и *while*), [list comprehension](https://habrahabr.ru/post/30232/), [map и т.п.](http://pythonicway.com/python-functinal-programming)\n",
    "\n",
    "Под матрицей в заданиях понимается двумерный [numpy.array](https://docs.scipy.org/doc/numpy/reference/generated/numpy.array.html)"
   ]
  },
  {
   "cell_type": "code",
   "execution_count": 1,
   "metadata": {
    "id": "o-q-l906G8J6"
   },
   "outputs": [],
   "source": [
    "import numpy as np\n",
    "\n",
    "from numpy.testing import assert_array_equal\n",
    "\n",
    "import typing as tp\n",
    "import dataclasses"
   ]
  },
  {
   "cell_type": "markdown",
   "metadata": {
    "id": "suLnp7DcHHE-"
   },
   "source": [
    "**1. (0.5 балла)** Реализуйте функцию, принимающую на вход матрицу ```X``` и два массива индексов ```row_indices``` и ```col_indices``` одинаковой длины и возвращающую np.array, состоящий из последовательности элементов \n",
    "\n",
    "```[X[row_indices[0], col_indices[0]], ... , X[row_indices[N-1], col_indices[N-1]]]```"
   ]
  },
  {
   "cell_type": "code",
   "execution_count": null,
   "metadata": {
    "id": "gUhj5T5IHFLs"
   },
   "outputs": [],
   "source": [
    "def construct_array(\n",
    "        X: tp.Any,\n",
    "        row_indices: tp.List[int],\n",
    "        col_indices: tp.List[int]) -> tp.Any:\n",
    "    \"\"\"\n",
    "    Construct slice of given matrix by indices row_indices and col_indices:\n",
    "    [X[row_indices[0], col_indices[0]], ... , X[row_indices[N-1], col_indices[N-1]]]\n",
    "    :param X: input matrix\n",
    "    :param row_indices: list of row indices\n",
    "    :param col_indices: list of column indices\n",
    "    :return: matrix slice\n",
    "    \"\"\"\n",
    "    pass # Your code here"
   ]
  },
  {
   "cell_type": "code",
   "execution_count": null,
   "metadata": {},
   "outputs": [],
   "source": [
    "@dataclasses.dataclass\n",
    "class ConstructArrayCase:\n",
    "    matrix: tp.Any\n",
    "    row_indices: tp.Any\n",
    "    col_indices: tp.Any\n",
    "    result: np.array\n",
    "\n",
    "\n",
    "CONSTRUCT_ARRAY_TEST_CASES = [\n",
    "    ConstructArrayCase(matrix=np.array(range(25)).reshape(5, 5),\n",
    "                       row_indices=[0, 1, 2],\n",
    "                       col_indices=[0, 1, 2],\n",
    "                       result=np.array([0, 6, 12])),\n",
    "    ConstructArrayCase(matrix=np.arange(-10, 10).reshape((5, 4)),\n",
    "                       row_indices=[1, 2, 3, 3],\n",
    "                       col_indices=[3, 2, 1, 2],\n",
    "                       result=np.array([-3, 0, 3, 4])),\n",
    "    ConstructArrayCase(matrix=np.arange(42).reshape((7, 6)),\n",
    "                       row_indices=[],\n",
    "                       col_indices=[],\n",
    "                       result=np.array([])),\n",
    "    ConstructArrayCase(matrix=np.arange(42).reshape((7, 6)),\n",
    "                       row_indices=np.arange(4),\n",
    "                       col_indices=np.arange(4),\n",
    "                       result=np.array(np.arange(4)) * 7),\n",
    "    ConstructArrayCase(matrix=np.arange(42).reshape((42, 1)),\n",
    "                       row_indices=[0, 1, 41],\n",
    "                       col_indices=[0, 0, 0],\n",
    "                       result=np.array([0, 1, 41]))\n",
    "]"
   ]
  },
  {
   "cell_type": "code",
   "execution_count": null,
   "metadata": {},
   "outputs": [],
   "source": [
    "for t in CONSTRUCT_ARRAY_TEST_CASES:\n",
    "    assert_array_equal(construct_array(t.matrix, t.row_indices, t.col_indices), t.result)\n",
    "print(\"Seems all right!\")"
   ]
  },
  {
   "cell_type": "markdown",
   "metadata": {},
   "source": [
    "**2. (1 балл)** Реализуйте функцию, принимающую на вход два одномерных массива ```x``` и ```y``` и возвращающую матрицу, в которой первый массив соответствует первому столбцу матрицы, второй — второму.\n",
    "\n",
    "В этом задании **запрещается** пользоваться операцией транспонирования и рекомедуется воспользоваться методом [reshape](https://docs.scipy.org/doc/numpy-1.13.0/reference/generated/numpy.reshape.html)."
   ]
  },
  {
   "cell_type": "code",
   "execution_count": null,
   "metadata": {},
   "outputs": [],
   "source": [
    "def construct_matrix(first_array: tp.Any, second_array: tp.Any) -> tp.Any:\n",
    "    \"\"\"\n",
    "    Construct matrix from pair of arrays\n",
    "    :param first_array: first array\n",
    "    :param second_array: second array\n",
    "    :return: constructed matrix\n",
    "    \"\"\"\n",
    "    pass # Your code here"
   ]
  },
  {
   "cell_type": "code",
   "execution_count": 2,
   "metadata": {},
   "outputs": [],
   "source": [
    "@dataclasses.dataclass\n",
    "class ConstructMatrixCase:\n",
    "    first_array: tp.Any\n",
    "    second_array: tp.Any\n",
    "    result: tp.Any\n",
    "\n",
    "\n",
    "CONSTRUCT_MATRIX_TEST_CASES = [\n",
    "    ConstructMatrixCase(\n",
    "        first_array=np.array([1, 2, 3]),\n",
    "        second_array=np.array([4, 5, 6]),\n",
    "        result=np.array([[1, 4], [2, 5], [3, 6]])),\n",
    "    ConstructMatrixCase(\n",
    "        first_array=np.array([]),\n",
    "        second_array=np.array([]),\n",
    "        result=np.array([]).reshape(0, 2)),\n",
    "    ConstructMatrixCase(\n",
    "        first_array=np.array([1]),\n",
    "        second_array=np.array([2]),\n",
    "        result=np.array([[1, 2]])),\n",
    "    ConstructMatrixCase(\n",
    "        first_array=np.arange(0, 100, 2),\n",
    "        second_array=np.arange(1, 100, 2),\n",
    "        result=np.arange(100).reshape(50, 2))\n",
    "]\n"
   ]
  },
  {
   "cell_type": "code",
   "execution_count": null,
   "metadata": {},
   "outputs": [],
   "source": [
    "for t in CONSTRUCT_MATRIX_TEST_CASES:\n",
    "    assert_array_equal(construct_matrix(t.first_array, t.second_array), t.result)\n",
    "print(\"Seems all right!\")"
   ]
  },
  {
   "cell_type": "markdown",
   "metadata": {
    "id": "kcTVkJYzHLph"
   },
   "source": [
    "**3. (0.5 балла)** Реализуйте функцию для подсчёта произведения ненулевых элементов на диагонали прямоугольной матрицы\n",
    "\n",
    "Например, для ```X = np.array([[1, 0, 1], [2, 0, 2], [3, 0, 3], [4, 4, 4]])``` ответом является 3.\n",
    "Если ненулевых элементов нет, функция должна возвращать ```None```."
   ]
  },
  {
   "cell_type": "code",
   "execution_count": null,
   "metadata": {
    "id": "Awt1RoyVHOBl"
   },
   "outputs": [],
   "source": [
    "def nonzero_product(X: tp.Any) -> tp.Optional[float]:\n",
    "    \"\"\"\n",
    "    Compute product of nonzero diagonal elements of matrix\n",
    "    If all diagonal elements are zeros, then return None\n",
    "    :param X: array,\n",
    "    :return: product value or None\n",
    "    \"\"\"\n",
    "    pass # Your code here"
   ]
  },
  {
   "cell_type": "markdown",
   "metadata": {
    "id": "zr2iL-s-HQWB"
   },
   "source": [
    "**4. (1 балл)** Реализуйте функцию, возвращающую максимальный элемент в массиве ```X``` среди элементов, перед которыми стоит нулевой.\n",
    "\n",
    "Например, для ```X = np.array([6, 2, 0, 3, 0, 0, 5, 7, 0])``` ответом является 5.\n",
    "Если подходящих элементов нет, функция должна возвращать ```None```."
   ]
  },
  {
   "cell_type": "code",
   "execution_count": null,
   "metadata": {
    "id": "Vkiuw6mEHT_T"
   },
   "outputs": [],
   "source": [
    "def max_element_spec(array: tp.Any) -> tp.Optional[float]:\n",
    "    \"\"\"\n",
    "    Return max element in front of which is zero for input array.\n",
    "    If appropriate elements are absent, then return None\n",
    "    :param x: array,\n",
    "    :return: max element value or None\n",
    "    \"\"\"\n",
    "    pass # Your code here"
   ]
  },
  {
   "cell_type": "markdown",
   "metadata": {
    "id": "35v_P8PfHSiZ"
   },
   "source": [
    "**5. (0.5 балла)** Реализуйте функцию, принимающую на вход матрицу ```X``` и некоторое число ```value``` и возвращающую ближайший к числу элемент матрицы.\n",
    "\n",
    "Например, для ```X = np.arange(0,10).reshape((2, 5))``` и ```value = 3.6``` ответом будет 4."
   ]
  },
  {
   "cell_type": "code",
   "execution_count": null,
   "metadata": {
    "id": "HXiKj59JHXWH"
   },
   "outputs": [],
   "source": [
    "def nearest_value(X: tp.Any, value: float) -> tp.Optional[float]:\n",
    "    \"\"\"\n",
    "    Find nearest value in matrix X.\n",
    "    If matrix X is empty return None\n",
    "    :param X: input matrix\n",
    "    :param value: value to find\n",
    "    :return: nearest value in matrix or None\n",
    "    \"\"\"\n",
    "    pass # Your code here"
   ]
  },
  {
   "cell_type": "markdown",
   "metadata": {
    "id": "6WQ_aE9gHZ3C"
   },
   "source": [
    "**6. (0.5 балла)** Реализуйте функцию, принимающую на вход матрицу *X* и возвращающую все встречающиеся в ней строки, но только в единственном экземпляре."
   ]
  },
  {
   "cell_type": "code",
   "execution_count": null,
   "metadata": {
    "id": "bFrg-B7VHbte"
   },
   "outputs": [],
   "source": [
    "def get_unique_rows(X: tp.Any) -> tp.Any:\n",
    "    \"\"\"\n",
    "    Makes unique rows of matrix\n",
    "    :param X: matrix\n",
    "    :return: the sorted unique rows of a matrix\n",
    "    \"\"\"\n",
    "    pass # Your code here"
   ]
  },
  {
   "cell_type": "markdown",
   "metadata": {
    "id": "LS_mO_rJHf4g"
   },
   "source": [
    "**7. (1 балл)** Реализуйте функцию, которая во входной вещественной матрице ```X``` находит все значения ```nan``` и заменяет их на среднее арифметическое всех остальных элементов. Если все элементы матрицы ```nan```, то верните нулевую матрицу той же размерности.\n",
    "\n",
    "Например, матрица ```np.array([[nan,  1,  2,  3], [4, nan,  5, nan]])``` перейдет в ```np.array([[3, 1, 2, 3], [4, 3, 5, 3]])```"
   ]
  },
  {
   "cell_type": "code",
   "execution_count": null,
   "metadata": {
    "id": "bjf_NFnJHfCM"
   },
   "outputs": [],
   "source": [
    "def replace_nans(matrix: tp.Any) -> tp.Any:\n",
    "    \"\"\"\n",
    "    Replace all nans in matrix with average of other values.\n",
    "    If all values are nans, then return zero matrix of the same size.\n",
    "    :param matrix: matrix,\n",
    "    :return: replaced matrix\n",
    "    \"\"\"\n",
    "    pass # Your code here"
   ]
  },
  {
   "cell_type": "markdown",
   "metadata": {
    "id": "DrAZvyntIJUg"
   },
   "source": [
    "**8. (1 балл)** Написать функцию, которая получает на вход матрицу и масштабирует каждый её столбец, а именно вычитает из столбца его среднее значение и делит столбец на стандартное отклонение. Для тестирования можно сгенерировать с помощью метода *numpy.random.randint* случайную матрицу и проверить на ней работу метода. Убедитесь, что в функции не будет происходить деления на ноль. "
   ]
  },
  {
   "cell_type": "code",
   "execution_count": null,
   "metadata": {
    "id": "w97rk3QgIKem"
   },
   "outputs": [],
   "source": [
    "def scale(X):\n",
    "    \"\"\"\n",
    "    Scales each column of matrix X, \n",
    "    namely, subtracts its mean from the column and \n",
    "    divides the column by the standard deviation.\n",
    "    \"\"\"\n",
    "    pass # Your code here"
   ]
  },
  {
   "cell_type": "markdown",
   "metadata": {
    "id": "CMTdIfiEINQM"
   },
   "source": [
    "**9. (1 балл)** Реализуйте функцию, которая для заданной матрицы находит:\n",
    " - определитель\n",
    " - след\n",
    " - наименьший и наибольший элементы\n",
    " - норму Фробениуса\n",
    " - собственные числа\n",
    " - обратную матрицу\n",
    "\n",
    "Для тестирования сгенерируйте матрицу с элементами из нормального распределения *N*(10,1)"
   ]
  },
  {
   "cell_type": "markdown",
   "metadata": {
    "id": "dAC4uHb6IZys"
   },
   "source": [
    "**10. (1 балл)** Повторите 100 раз следующий эксперимент: сгенерируйте две матрицы размера 10×10 из стандартного нормального распределения, перемножьте их (как матрицы) и найдите максимальный элемент. Какое среднее значение по экспериментам у максимальных элементов? 95-процентная квантиль? (в данной задаче можно использовать цикл только для повторения эксперимента) \n",
    "Какое распределение у элементов произведения?"
   ]
  },
  {
   "cell_type": "markdown",
   "metadata": {
    "id": "JPUiojnEIlGP"
   },
   "source": [
    "### (4 балла) Pandas \n"
   ]
  },
  {
   "cell_type": "markdown",
   "metadata": {
    "id": "QXhmTiQHImLp"
   },
   "source": [
    "Загрузите данные о пассажирах Титаника из файла *titanic.csv* и ответьте на вопросы ниже. Каждый ответ поясните.\n",
    "\n",
    "**1. (1 балл)** Опишите данный датасет: какое расределение женщин/мужчин в нем? Сколько пассажиров ехало в каждом классе? Какой средний/минимальный/максимальный возраст пассажиров? Сколько было выживших пассажиров?"
   ]
  },
  {
   "cell_type": "code",
   "execution_count": null,
   "metadata": {
    "id": "FGCmQXuIIdmn"
   },
   "outputs": [],
   "source": [
    "import pandas as pd"
   ]
  },
  {
   "cell_type": "markdown",
   "metadata": {
    "id": "1ahIW-TCI2r3"
   },
   "source": [
    "**2. (1 балл)** Верно ли, что женщины выживали чаще мужчин? Какие пассажиры выживали чаще: с более дешевыми или дорогими билетами? Верно ли, что чаще выживали более молодые пассажиры?"
   ]
  },
  {
   "cell_type": "markdown",
   "metadata": {
    "id": "MrxN8Y7OI6Vu"
   },
   "source": [
    "**3. (1 балл)** Сгруппируйте записи по классам пассажиров, в каждой группе посчитайте средний возраст. Верно ли, что во всех классах эта величина примерно одинакова?\n"
   ]
  },
  {
   "cell_type": "markdown",
   "metadata": {
    "id": "2Ee80P1KI86d"
   },
   "source": [
    "**4. (1 балл)** Найдите все признаки, для которых есть пропуски в данных. Обычно алгоритмы по умолчанию не умеют обрабатывать такие данные. Предложите несколько способов обработки данных с пропусками и укажите достоинства/недостаки каждого. Проиллюстрируйте не менее двух из предложенных их на примере данного датасета."
   ]
  },
  {
   "cell_type": "markdown",
   "metadata": {
    "id": "9k3a3TwQJIvu"
   },
   "source": [
    "### (2 балла) Matplotlib\n"
   ]
  },
  {
   "cell_type": "markdown",
   "metadata": {
    "id": "2p8qJF4rJbOl"
   },
   "source": [
    "Обратите внимание, что у графиков должны быть подписаны оси, заголовок графика и при необходимости обязательно наличие легенды. За отсутствие названий графиков и подписей к осям могут снижаться баллы. Все картинки должны быть самодостаточны и визуально удобны для восприятия, так чтобы не нужно было смотреть ваш код или знать задание, чтобы понять что на них изображено.\n",
    "\n",
    "![](https://imgs.xkcd.com/comics/convincing.png)\n",
    "\n",
    "**1. (1 балл)** Используя функцию *gen_uncertain_data* для генерации выборки, отобразите на графике синим цветом функцию *y(x)*, а также ее доверительный интервал в виде закрашенной зеленым цветом области от *y[i] - error[i]* до *y[i] + error[i]*. Полезной может оказаться функция *fill_between*.\n"
   ]
  },
  {
   "cell_type": "code",
   "execution_count": null,
   "metadata": {
    "id": "07pRnpSVJbhv"
   },
   "outputs": [],
   "source": [
    "def gen_uncertain_data():\n",
    "        x = np.linspace(0, 30, 100)\n",
    "        y = np.sin(x/6*np.pi) + np.random.normal(0, 0.02, size=x.shape)\n",
    "        error = np.random.normal(0.1, 0.02, size=y.shape)\n",
    "        return x, y, error"
   ]
  },
  {
   "cell_type": "markdown",
   "metadata": {
    "id": "eEnOCJkEJp6I"
   },
   "source": [
    "**2. (1 балл)** Отобразите гистограмму распределения возрастов для каждого класса пассажиров (здесь нужно использовать данные из заданий по pandas). В результате вы должны получить три гистограммы, которые необходимо отобразить рядом друг с другом используя функцию *plt.subplots*. Каждая гистограмма должна быть нормирована. Обратите внимание на параметры *figsize*, *sharey*, *sharex* функции *plt.subplots*. Также полезными могут оказаться параметры *bins*, *density* функции *plt.hist*.\n"
   ]
  }
 ],
 "metadata": {
  "colab": {
   "name": "HW1.ipynb",
   "provenance": []
  },
  "kernelspec": {
   "display_name": "Python 3",
   "language": "python",
   "name": "python3"
  },
  "language_info": {
   "codemirror_mode": {
    "name": "ipython",
    "version": 3
   },
   "file_extension": ".py",
   "mimetype": "text/x-python",
   "name": "python",
   "nbconvert_exporter": "python",
   "pygments_lexer": "ipython3",
   "version": "3.7.6"
  }
 },
 "nbformat": 4,
 "nbformat_minor": 1
}
